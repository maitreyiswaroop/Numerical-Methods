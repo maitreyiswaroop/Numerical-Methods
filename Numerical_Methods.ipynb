{
  "nbformat": 4,
  "nbformat_minor": 0,
  "metadata": {
    "colab": {
      "provenance": [],
      "collapsed_sections": [
        "cr1FfokTiPAk",
        "bieuHa2bApfj",
        "txaeMrHrJjQv",
        "a6NE787Lf6jE"
      ],
      "toc_visible": true
    },
    "kernelspec": {
      "name": "python3",
      "display_name": "Python 3"
    }
  },
  "cells": [
    {
      "cell_type": "markdown",
      "metadata": {
        "id": "vx-pOpAsLpjy"
      },
      "source": [
        "The main purpose of this notebook is to keep a repository of the topics I've learned in my Numerical Solutions of Ordinary and Partial Differential Equations course (**MA20102**, IIT Kharagpur). I have also plotted some solved examples for a better visual understanding of the solutions. The examples are taken from various sources- lectures, the course textbook-*Numerical Methods for Scientific and Engineering Computation by R.K. Jain and S.R.K. Iyengar (7th ed.)* etc.\n",
        "\n",
        "The code here was written by me after referring to the formulae in the textbook, if you have any questions/suggestions/comments, feel free to ask me at: maitreyiswaroop@gmail.com\n",
        "\n",
        "- Maitreyi Swaroop"
      ]
    },
    {
      "cell_type": "code",
      "metadata": {
        "id": "N0RuhasMvKbU"
      },
      "source": [
        "import math\n",
        "from math import *\n",
        "fact = math.factorial\n",
        "import matplotlib.pyplot as plt\n",
        "import numpy as np\n",
        "import pandas as pd"
      ],
      "execution_count": null,
      "outputs": []
    },
    {
      "cell_type": "code",
      "metadata": {
        "id": "1X1--oJtABwT"
      },
      "source": [
        "def nCr(n,r): return fact(n)/fact(r)/fact(n-r)"
      ],
      "execution_count": null,
      "outputs": []
    },
    {
      "cell_type": "markdown",
      "metadata": {
        "id": "7RUKWjdsWEHh"
      },
      "source": [
        "# Numerical Methods to solve ODEs"
      ]
    },
    {
      "cell_type": "markdown",
      "metadata": {
        "id": "B3TILhhCWDcz"
      },
      "source": [
        "**Existence and Uniqueness of solution for an ODE** \n",
        "\n",
        "For the differential equation $\\dfrac{\\mathrm{d}y}{\\mathrm{d}x} = f(x,y)$ subject to -\n",
        "> 1. $f$ is a continuous function of x and y in some domain $D \\in \\mathbb{R^2}$\n",
        "> 2. The partial derivative $\\frac{\\partial f}{\\partial y}$ is also a continuous function of x and y in $D$\n",
        "\n",
        "> Let $(x_o,y_o)$ be a point in $D$, then $\\exists$ a unique solution $\\phi$ of the differential equation on some interval $|x - x_o|\\leq h$ (for a sufficiently small h), that satisfies the condition $\\phi(x_o) = y_o$\n",
        "\n",
        "**Existence and Uniqueness for solution for an IVP** \n",
        "\n",
        "Given the IVP $\\dfrac{\\mathrm{d}y}{\\mathrm{d}x} = f(x,y)$, $y(x_o) = y_o$. \n",
        "For - \n",
        "> 1. $f(x,y)$ is a real valued function.\n",
        "> 2. $f(x,y)$ is defined and continuous in the strip $[x_o,b], y\\in (-\\infty, \\infty)$\n",
        "> 3. If there exists a constant $L$ such that for any $x \\in [x_o, b] \\text{and for } y_1,y_2 \\\\ \\boxed{|f(x_1,y_1)-f(x_2,y_2)| \\leq L|y_1 - y_2|}$ \n",
        "\n",
        "> then $\\exists!$ a unique solution for the IVP. $L$ is called the $\\text{Lipschitz Constant}$.\n"
      ]
    },
    {
      "cell_type": "markdown",
      "metadata": {
        "id": "kfdybGbMb7lc"
      },
      "source": [
        "**Types of Methods**\n",
        "1. Based on number of values required:\n",
        "Single-Step Methods and Multi-Step Methods\n",
        "\n",
        "Single Step | Multi-Step\n",
        "---|---\n",
        "- Solution at any point $x_{j+1}$ is obtained <br>using the solution only at a previous point $x_{j}$. | - \n",
        "- In general it is written as $y_{j+1} = y_j + h\\phi(x_{j},y_{j},h)$-(1)|\n",
        "\n",
        "Here $\\phi$ is the *increment function*, with parameters $x_j,x_{j+1}, y_j,y_{j+1},h$ and which also depends on $f$.\n",
        "\n",
        "2. Implicit Methods and Explicit Methods\n",
        "\n",
        "Implicit | Explicit\n",
        "---|---\n",
        "If the method involves the value of the unknown $y_{j+1}$ on both sides, it is IMPLICIT. |If $y_{j+1}$ can simply be determined using the RHS of the given equation <br>$y_{j+1} = y_j +h\\phi(x_j,y_j,h)$, the method is EXPLICIT.\n",
        "\n",
        "___"
      ]
    },
    {
      "cell_type": "markdown",
      "metadata": {
        "id": "h3r-S7Q86pOM"
      },
      "source": [
        "For an interval $[a,b], s.t. x \\in [a,b]$, mesh/grid points are all the evenly spaced points in this interval, determined by the step length/size $h$. \n",
        "\n",
        "Exact solution at $x_j = y(x_j)$<br>\n",
        "Numerical solution at $x_j = y_j$"
      ]
    },
    {
      "cell_type": "markdown",
      "metadata": {
        "id": "gQpMOXrCGtmx"
      },
      "source": [
        "**Order of a method: $O(h^\\alpha)$:**\n",
        "\n",
        ">Order of a method is the largest integer $p$ for which \n",
        "$\\boxed{|\\frac{1}{h}T_{j+1}| = O(h^{p})}$ where $T_{j+1}$ is the truncation/discretisation error.\n",
        "> Changing the mesh size/ distance between the grid points $x_{j}, x_{j+1}$ by a scale of $1/k$ reduces mesh size from $h$ to $h/k$ , which reduces the error by a factor of $1/k^p$\n",
        "\n",
        "Hence order is a measure of accuracy, it tells us how rapidly the accuracy can be improved with refinement of the grid spacing h. \n",
        "\n",
        "O(h) means the first term neglected is of order $h$.\n",
        "> The order of a difference equation is the number of intervals separating the largest and smallest arguments of the dependent variable (this will make more sense when you see the Euler single step methods).\n",
        "\n",
        "**Stability**\n",
        "\n",
        "> A method is stable if the cumulative effect of all errors, including round-off errors is bounded, independent of the number of mesh points.\n",
        "\n",
        "___"
      ]
    },
    {
      "cell_type": "markdown",
      "metadata": {
        "id": "8wjqDgTS5aZe"
      },
      "source": [
        "**Errors** \n",
        "\n",
        "1. Local Truncation Error (LTE):\n",
        "$T_{j+1} = y(x_{j+1}) - y(x_j)-h\\phi(x_j,y(x_j),h)$\n",
        "> It is the difference between the exact solution $y(x_{j+1})$ and the numerical solution $y_{j+1}$ with exact arithmetic.\n",
        "\n",
        "2. If solution by numerical method is u, u* is numerical solution, percentage error = $\\frac{|u-u^*|}{|u|}\\times 100$\n",
        "\n",
        "<!-- 3. Round-off error is the amount by which a particular method does *not* satisfy the numerical solution (say, $\\bar{y}_j$) -->\n",
        "___"
      ]
    },
    {
      "cell_type": "markdown",
      "metadata": {
        "id": "SsaeyTIrVRql"
      },
      "source": [
        "# **Initial Value Problems**"
      ]
    },
    {
      "cell_type": "markdown",
      "metadata": {
        "id": "nmTrfD1CPZVL"
      },
      "source": [
        "**Behaviour of the Solutions of an IVP**\n",
        "\n",
        "> The behaviour of the solution of an IVP $\\\\y' = f(x,y); y(x_o) = y_o ...(1)$ <br>in the neighbourhood of any point $(\\bar{x},\\bar{y})$ can be obtained by considering the linearised form of the differential equation called the *test equation*.\n",
        ">> **Test equation**: <br> \n",
        "The non-linear function $f(x,y)$ can be linearised using the Taylor Series expansion of $f$ about the point $(\\bar{x},\\bar{y})$-\n",
        "$f(x,y) = f(\\bar{x},\\bar{y}) + (x-\\bar{x})\\frac{\\partial f(\\bar{x},\\bar{y})}{\\partial x}+ (y-\\bar{y})\\frac{\\partial f(\\bar{x},\\bar{y})}{\\partial y}+(\\text{higher order terms})...(2)$ \n",
        "<br> (2) can be rewritten as $y' = {\\lambda}y + c ...(3)$, <br>where ${\\lambda} = \\frac{\\partial f(\\bar{x},\\bar{y})}{\\partial y} \\text{ and } c = f(\\bar{x},\\bar{y}) -\\bar{y}\\frac{\\partial f(\\bar{x},\\bar{y})}{\\partial y} + (x-\\bar{x})\\frac{\\partial f(\\bar{x},\\bar{y})}{\\partial x}$\n",
        "<br><br>\n",
        "Now we substitute $w = y +c/\\lambda \\text{ in (3)}, $ which gives us $y' = w' = {\\lambda}[w-(c/{\\lambda})]+c = \\lambda w$\n",
        "<br> The resulting test equation is $\\boxed{w' = {\\lambda}w \\implies w(x) = ke^{\\lambda x}}$ where k is an arbitrary constant.\n",
        "\n",
        "This is the test equation for the non-linear, first-order initial value problem (1).\n",
        "\n",
        "---"
      ]
    },
    {
      "cell_type": "code",
      "metadata": {
        "colab": {
          "base_uri": "https://localhost:8080/",
          "height": 496
        },
        "id": "r7Af8bcTdJj3",
        "cellView": "form",
        "outputId": "9049082e-5df0-43ec-c462-1197fc0efc1b"
      },
      "source": [
        "#@title\n",
        "#Plotting Solution:\n",
        "fig1 = plt.figure(figsize=[6,6])\n",
        "a1 = fig1.add_axes([0,0,1,1])\n",
        "plt.grid(linestyle = 'dashed')\n",
        "plt.title(\"Representation of Solution of Test Equation\")\n",
        "plt.xlim([0,2])\n",
        "cols = ['b', 'g', 'r']\n",
        "signs = ['<', '=', '>']\n",
        "for lamda in [-1,0,1]:\n",
        "  x = 0\n",
        "  X = []\n",
        "  Y = []\n",
        "  while x <= 2:\n",
        "    X.append(x)\n",
        "    Y.append(exp(lamda*x))\n",
        "    x+=0.05\n",
        "  a1.plot(X,Y,color = cols[lamda+1], linestyle = '-', label = 'λ  '+signs[lamda+1]+str(0))\n",
        "leg = a1.legend();"
      ],
      "execution_count": null,
      "outputs": [
        {
          "output_type": "display_data",
          "data": {
            "image/png": "[encoded data removed]",
            "text/plain": [
              "<Figure size 432x432 with 1 Axes>"
            ]
          },
          "metadata": {
            "tags": [],
            "needs_background": "light"
          }
        }
      ]
    },
    {
      "cell_type": "markdown",
      "metadata": {
        "id": "0cuYUy3aTQ-_"
      },
      "source": [
        "## Reduction of Higher Order Equations to a System of First Order Differential Equations"
      ]
    },
    {
      "cell_type": "markdown",
      "metadata": {
        "id": "HcmaNco7TgkI"
      },
      "source": [
        "The $m^{th}$ order differential equation<br> \n",
        ">$y^{(m)} = F(x,y,y',...,y^{(m-1)})$ \n",
        "\n",
        "with initial conditions<br> \n",
        ">$y^{(\\nu)}(x_0)=\\eta_{\\nu}, \\nu = 0,1,2,...,m-1$\n",
        "\n",
        "Can be reduced to a system of equations $\\mathbf{u'} = \\mathbf{f}(x,\\mathbf{u})\\\\\\mathbf{u}(x_0) = \\mathbf{\\eta}_0$\\\n",
        "Where $u_1 = y\\\\u_1' = u_2 = y''\\\\...\\\\u'_{m-1} = u_m\\\\u_m' = F(x,u_1,...,u_m)\\\\\\text{and }\\mathbf{u} = [u_1,u_2,...,u_m]^T,\\mathbf{f} = [u_2,u_3,...,F]^T,\\mathbf{\\eta} = [\\eta_0,\\eta_1,...,\\eta_{m-1}]^T$"
      ]
    },
    {
      "cell_type": "markdown",
      "metadata": {
        "id": "38qZJRpleTTF"
      },
      "source": [
        "___\n",
        "## 1. <ins>Picard's Method of Successive Approximations</ins>"
      ]
    },
    {
      "cell_type": "markdown",
      "metadata": {
        "id": "7jx-nE9xeanK"
      },
      "source": [
        "Given $y' = f(x,y); y(x_o) = y_o, x\\in[x_o, b]$ and f is continuous,\n",
        "\n",
        "by Picard's method:\n",
        "\n",
        "$\\boxed{y_{(n)}(x) = y_o + \\int_{x_0}^x f(t, y_{(n-1)}(t))dt_{n = 1,2,...}}$\n",
        "\n",
        "Here we start with $y_{(0)}$ as a constant function which satisfies $y(x_o) = y_o$, ie we take $y_{(0)} = y_0.$\n",
        "\n",
        "We iteratively generate $y_{(i+1)}$ from ${y_{(i)}}$ and get increasingly closer approximations for the exact solution of the IVP.\n",
        "\n",
        "$y_{(n)}(x) \\to y(x) \\text{ as } n\\to \\infty$\n",
        "\n",
        "> Picard's method is considered to be a 'semi-analytical' method.<br>\n",
        "> Derivation (in brief):<br>\n",
        "$\\frac{dy}{dx} = f(x,y);y(x_0) = y_0\\\\\n",
        "\\Rightarrow\\int_{x_0}^{x}\\frac{dy}{dx}dx = \\int_{x_0}^{x}f(x,y)dx\\\\\n",
        "\\Rightarrow y(x)-y(x_0) = \\int_{x_0}^{x}f(x,y)dx\\\\\n",
        "\\Rightarrow y(x) = y(x_0) +\\int_{x_0}^{x}f(x,y)dx$<br>\n",
        ">>This was the analytical part. As you can see, the RHS requires us to know $y$. Here we bring in the iterative, numerical part, we take an initial guess value of $y, y_{(0)}$ which is usually taken as $y(x_0)$.\n",
        "\n",
        "---"
      ]
    },
    {
      "cell_type": "markdown",
      "metadata": {
        "id": "J9EIfB59SACj"
      },
      "source": [
        "### Picard's Mathematica code\n",
        "```\n",
        "(*Picard's Method*)\n",
        "{x0,y0,xmax} = {0,1,4};\n",
        "\n",
        "f[x_,y_]:=  x^2 + y^2 (*Enter the function here*)\n",
        "(* x^2 + y^2 is taken for this example *) \n",
        "For[{n = 1, y[0][x_] = y0}, \n",
        "  n < xmax, n++, \n",
        "  y[n][x_] = y0 + Integrate[f[t,y[n-1][t]], {t, x0, x}]; \n",
        "Print[{n, y[n][t]}]] \n",
        "```"
      ]
    },
    {
      "cell_type": "markdown",
      "metadata": {
        "id": "cr1FfokTiPAk"
      },
      "source": [
        "### Questions on Picard's Method"
      ]
    },
    {
      "cell_type": "markdown",
      "metadata": {
        "id": "MvX8Sx8Mjm-m"
      },
      "source": [
        "Q1. $y' = x^2 +y^2; y(0) = 1$\n",
        "\n",
        "A. Here we take $\\phi_o(x) = y_o = 1$\n",
        "\n",
        "> n = 1\n",
        ">>$\\phi_1(x) = 1 + \\int_{0}^x(t^2 + 1)dt = 1+ \\frac{x^3}{3} + x$\n",
        "\n",
        "> n = 2\n",
        ">>$\\phi_2(x) = 1 + \\int_{0}^x(t^2 + (1+ \\frac{t^3}{3} + t)^2)dt \n",
        "\\\\= 1+ \\int_{0}^x(1+ 2t+ 2t^2+2\\frac{t^3}{3}+ 2\\frac{t^4}{3} + \\frac{t^6}{9})dt \n",
        " \\\\ =1+ x+ x^2+2\\frac{x^3}{3}+\\frac{x^4}{6}+ 2\\frac{x^5}{15} + \\frac{x^7}{63}  $\n",
        "\n",
        "...\n",
        "\n",
        "(this method is very easy to code on mathematica, I'll attach the mathematica code at the end of this notebook).\n",
        "\n",
        "---\n"
      ]
    },
    {
      "cell_type": "markdown",
      "metadata": {
        "id": "qvp_82m-mRk4"
      },
      "source": [
        "Q2. $y' = sin(x) +y^2; y(0) = 0$\n",
        "\n",
        "A. We take $\\phi_o(x) = y_o = 0$\n",
        "\n",
        "> n = 1\n",
        ">>$\\phi_1(x) = 0 + \\int_{0}^x(sin(t) + 0)dt = 1 - cos(x)$\n",
        "\n",
        "> n = 2\n",
        ">>$\\phi_2(x) = 0 + \\int_{0}^x(sin(t) + (1 - cos(t))^2)dt \\\\= \\int_{0}^x(sin(t) + 1 - 2cos(t) + \\frac{cos(2t)+1}{2})dt \\\\= [-cos(t) + t - 2sin(t) + \\frac{sin(2t)}{4} +\\frac{t}{2}]_{0}^{x}\\\\ = -cos(x) + x - 2sin(x) +\\frac{sin(2x)}{4} + \\frac{x}{2} +1$\n",
        "...\n",
        "\n",
        "---"
      ]
    },
    {
      "cell_type": "markdown",
      "metadata": {
        "id": "Ls_BRipojjRM"
      },
      "source": [
        "##2. <ins>Taylor Series Method / Power Series Method</ins>"
      ]
    },
    {
      "cell_type": "markdown",
      "metadata": {
        "id": "Fhxuk5ZbvyIj"
      },
      "source": [
        "- This method is an **explicit**, **single-step** method."
      ]
    },
    {
      "cell_type": "markdown",
      "metadata": {
        "id": "Eb_Kwi8leHbH"
      },
      "source": [
        "We assume we can expand y(x) in Taylor Series about any point $x_j, \\text{for } x\\in[x_o,b]$:\n",
        "\n",
        "Then, \n",
        "> $y(x) = y(x_j) + (x-x_j)y'(x_{j})+ \\frac{(x-x_j)^2}{2!}y''(x_{j})+...+ \\frac{(x-x_j)^p}{p!}y^{(p)}(x_{j}) + \\frac{(x-x_j)^{p+1}}{(p+1)!}y^{(p+1)}(x_{j} + \\theta h); \\hspace{10mm}\\theta \\in(0,1)$\n",
        "\n",
        "Substituting $x = x_{j+1}$ we get:\n",
        "> $y_{j+1} = y_j + hy_{j}'+ \\frac{h^2}{2!}y_{j}''+...+ \\frac{h^p}{p!}y_{j}^{(p)}+ \\frac{h^{p+1}}{(p+1)!}y^{(p+1)}(x_{j} + \\theta h) \\\\\n",
        "\\hspace{9mm}= y_j + h\\phi(x_j, y_j,h)+ \\frac{h^{p+1}}{(p+1)!}y^{(p+1)}(x_{j} + \\theta h)$\n",
        "\n",
        "If we define -\n",
        "> $h\\phi(x_j,y(x_j), h) = hy_{j}'+ \\frac{h^2}{2!}y_{j}''+...+ \\frac{h^p}{p!}y_{j}^{(p)} $\n",
        "\n",
        "Neglecting the error term we have: "
      ]
    },
    {
      "cell_type": "markdown",
      "metadata": {
        "id": "Ys29MXsbxazy"
      },
      "source": [
        "**Taylor Series Method of Order $p$**\n",
        "\n",
        "$\\boxed{y_{j+1} = y_j + h\\phi(x_j, y_j, h)= y_j + hy_{j}'+ \\frac{h^2}{2!}y_{j}''+...+ \\frac{h^p}{p!}y_{j}^{(p)}};\\hspace{3mm}j = 0,1,...,N-1$\n",
        "\n",
        ">The truncation error for this method is given by $\\boxed{T_{j+1} = \\frac{h^{p+1}}{(p+1)!}y_{j}^{(p+1)}(x_j +\\theta h)}$ (Indicated by $R_{p+1}$ in Prof's notes.)\n",
        "\n",
        "Where $h = x_{j+1} - x_j$, ie the step size.\n",
        "\n",
        "<!-- If we define -\n",
        "> $h\\phi(x_j,y(x_j), h) = hy_{j}'+ \\frac{h^2}{2!}y_{j}''+...+ \\frac{h^p}{p!}y_{j}^{(p)} + \\frac{h^{p+1}}{(p+1)!}y_{j}^{(p+1)}(x_j +\\theta h)$\n",
        "\n",
        "Then the above can be written as $y_{j+1} = y_j + h\\phi_j; j = 0,1,2,...,N-1$ -->"
      ]
    },
    {
      "cell_type": "markdown",
      "metadata": {
        "id": "ID2fsoaL20f-"
      },
      "source": [
        "> $y'(x_0) = f(x_0, y_0) \\\\ y''(x_o) = \\frac{\\partial f}{\\partial x} + \\frac{\\partial f}{\\partial y}\\frac{dy}{dx} =f_x + ff_y \n",
        "\\\\y'''(x_o) = \\frac{\\partial}{\\partial x}(\\frac{\\partial f}{\\partial x} + \\frac{\\partial f}{\\partial y}\\frac{dy}{dx})+\\frac{\\partial}{\\partial y}(\\frac{\\partial f}{\\partial x} + \\frac{\\partial f}{\\partial y}\\frac{dy}{dx})\\frac{dy}{dx} \\\\ \\hspace{12mm} = f_{xx} + 2ff_{xy}+f^2f_{yy} +f+y(f_{x}+ ff_y)$"
      ]
    },
    {
      "cell_type": "markdown",
      "metadata": {
        "id": "Shxe-fmJDgDI"
      },
      "source": [
        "__Note__\n",
        "1. If $x_j$ and $y_j$ are known exactly, then $y(x_{j+1})$ can be computed explicitly.\n",
        "\n",
        "2. The *truncation* error in approximation is $\\boxed{T_{j+1} = \\frac{h^{p+1}}{(p+1)!}y_{}^{(p+1)}(x_j +\\theta h)}$ (Indicated by $R_{p+1}$ in Prof's notes, $R$ for remainder term).\n",
        "\n",
        "3. The no. of terms to be included in the exapnsion is fixed by the permissable error at any location $x_j$. \n",
        "\n",
        "4. If $\\epsilon$ is the given error and the series is truncated at the term $y^p(x_j), then \\boxed{h^{p+1}|y^{(p+1)}(x_j + \\theta h)| < (p+1)!\\epsilon} or \\boxed{h^{p+1}|f^{(p)}(x_j + \\theta h)| < (p+1)!\\epsilon}$\n",
        "\n",
        "> - Since $(x_j + \\theta h)$ is not known, $|f^{(p)}(x_j + \\theta h)|$ in the above is replaced by its maximum value in $[x_o, x_N]$ \n",
        ">_OR_\n",
        "> We write one more non-vanishing term in the series than is required and then differentiate the series p times. The maximum value of this quantity in $[x_o,x_N] $ gives a rough approximation for $|f^{p}(x_j + \\theta h)|$."
      ]
    },
    {
      "cell_type": "markdown",
      "metadata": {
        "id": "1QErzdmSXiNP"
      },
      "source": [
        "Here the higher order derivatives are to be calculated from the IVP ($y' = f(x,y)$). Assuming $f(x,y)$ is differentiable as many times as we require. \n",
        "\n",
        "This calculation can get a bit tedious. In my python code, we are required to calculate the derivatives on our own and pass these functions into the ```Taylor``` function. Mathematica has the ```Dt[function, variable]``` procedure which makes things easier for us. "
      ]
    },
    {
      "cell_type": "code",
      "metadata": {
        "id": "gFjQDI9Plt_Z"
      },
      "source": [
        "# @title Taylor Code\n",
        "def Taylor(steps, order, flist, x_0, y_0, h, x_max):\n",
        "  print(\"Taylor Series Approximation of Order \",order)\n",
        "  if len(flist)!= order:  \n",
        "    print(\"Enter the function list with sufficient number of derivatives.\")\n",
        "    return\n",
        "  y = y_0\n",
        "  x = x_0\n",
        "  for i in range(steps):\n",
        "    y_curr = y\n",
        "    for k in range(len(flist)):\n",
        "      print((h**(k+1))*flist[k](x,y_curr)/fact(k+1))\n",
        "      y += (h**(k+1))*flist[k](x,y_curr)/fact(k+1)\n",
        "    x += h\n",
        "    print(i,\": y(\",x,\") = \",y)\n",
        "  print(\"------------------------\")\n",
        "  return y"
      ],
      "execution_count": null,
      "outputs": []
    },
    {
      "cell_type": "markdown",
      "metadata": {
        "id": "JMZBJ7V1chI_"
      },
      "source": [
        "Mathematica Code\n",
        "```\n",
        "y'[x_] = 2 x + 3 y[x];\n",
        "f[x_,y[x_]]=2 x + 3 y[x];\n",
        "var = {x,y[x]};\n",
        "{x0,xmax,h,order}={ 0.,0.4,0.1,2};\n",
        "{y[x0], steps} = {1.,IntegerPart[( xmax-x0)/h]};\n",
        "X = Range[x0,xmax,h];\n",
        "Y = ConstantArray[0,steps+1];\n",
        "Y[[1]] = y[x0];\n",
        "\n",
        "fs = {f[x,y[x]]};\n",
        "Do[AppendTo[fs,Dt[f[x,y[x]],{x,i}]],{i,1,order-1}]\n",
        "\n",
        "Do[\n",
        "  Y[[j+1]] = Y[[j]];\n",
        "  Do[Y[[j+1]]+= h^(i)/Factorial[i] (fs[[i]]/.{x-> X[[j]]}),{i,1,order}];\n",
        "  Print[j,\". y[\",X[[j+1]],\"]= \",Y[[j+1]]];\n",
        "  y[X[[j+1]]] = Y[[j+1]],{j ,1,steps}\n",
        "];\n",
        "```"
      ]
    },
    {
      "cell_type": "markdown",
      "metadata": {
        "id": "Fvuj_ofc0P0B"
      },
      "source": [
        "### Questions on Taylor Series"
      ]
    },
    {
      "cell_type": "markdown",
      "metadata": {
        "id": "spnWm5H30ecb"
      },
      "source": [
        "Q1. Using the Taylor Series method obtain the series solution of $y' = x^2 + y^2; y(0) = 1$\n",
        "\n",
        "A. Given $y(0) = f(0,1)=1$\n",
        "> $y'(0) = 0 +1 = 1 \\\\ y''(0) = \\frac{\\partial f}{\\partial x} + \\frac{\\partial f}{\\partial y}\\frac{dy}{dx} =f_x + ff_y = 2x + 2yy' = 0+2 = 2 \\\\y'''(0) = \\frac{d}{dx}(2x + 2yy') = 2 + 2((y')^2 + yy'') = 2 + 2(1 + 2) = 8$\n",
        "\n",
        "So $y(x) = 1 + (x-0)y'(0) + (x-0)^2y''(0)\\frac{1}{2!}+(x-0)^3y'''(0)\\frac{1}{3!}+...\\\\\\hspace{10mm} = 1 + x + x^2 + \\frac{8}{3!}x^3 + ...$\n",
        "\n",
        "___"
      ]
    },
    {
      "cell_type": "markdown",
      "metadata": {
        "id": "5N9DFCUJmeyw"
      },
      "source": [
        "Q2. Given $y' = 2x+3y; y(0) = 1$, $y_{exact} = 11(e^{3x} - 2(3x+1))/9$\n",
        "\n",
        "(a) Find $x$ if $p=3 $ & $\\epsilon = 5\\times 10^{-5}$\n",
        "\n",
        "Here since $x_0=0$ our h = x\n",
        "Taylor series expansion is $y(x) = 1 + 3x + 3x^2 + \\frac{11}{2}x^3\\hspace{10mm} [+\\frac{99}{4!}x^4]  $\n",
        "\n",
        "$R_4 = |\\frac{x^{3+1}}{(3+1)!}y^{(4)}(\\xi)|\\leq \\epsilon \\\\\\implies |\\frac{x^{4}}{(4)!}99e^{3x}(\\xi)|\\leq 5\\times 10^{-5}\\\\\\implies\n",
        "|x^{4}e^{3x}|\\leq 0.000012121212$\n"
      ]
    },
    {
      "cell_type": "code",
      "metadata": {
        "colab": {
          "base_uri": "https://localhost:8080/"
        },
        "id": "Zci6oX5Slz5q",
        "outputId": "455c2948-3d61-4d34-837a-4965cfacd3a9"
      },
      "source": [
        "x = 0.0555\n",
        "x**4*exp(3*x)"
      ],
      "execution_count": null,
      "outputs": [
        {
          "output_type": "execute_result",
          "data": {
            "text/plain": [
              "1.1206808832348675e-05"
            ]
          },
          "metadata": {
            "tags": []
          },
          "execution_count": 13
        }
      ]
    },
    {
      "cell_type": "markdown",
      "metadata": {
        "id": "N7r9-x-fsSjm"
      },
      "source": [
        "So the answer is $x < 0.0555$.\n",
        "\n",
        "> **Note**: If the exact solution is not known the approximate solution can be found by including one more term from the T.S. approximation.\n",
        "\n",
        "(b) Find p if $\\epsilon = 5\\times 10^{-6}, \\forall x\\in [0,0.4]$.\n",
        "\n",
        "$R_{p+1}  = |\\frac{x^{p+1}}{(p+1)!}y^{(p+1)}(\\xi)|\\leq \\epsilon \\\\\\implies |\\frac{(0.4)^{p+1}}{(p+1)!}\\frac{11}{9}e^{3\\times 0.4}(3^{p+1})|\\leq 5\\times 10^{-6}\\\\\\implies\n",
        "\\frac{1.2^{p+1}}{(p+1)!} \\leq 0.00000123215814$\n"
      ]
    },
    {
      "cell_type": "code",
      "metadata": {
        "colab": {
          "base_uri": "https://localhost:8080/"
        },
        "id": "inGYKmonuGGU",
        "outputId": "ee0f8928-3297-4403-80dc-c7ad4e2c2f0f"
      },
      "source": [
        "k=1\n",
        "p =0\n",
        "while k > 0.00000123215814:\n",
        "  p +=1\n",
        "  k = 1.2**(p+1)/fact(p+1)\n",
        "  print(p,k)"
      ],
      "execution_count": null,
      "outputs": [
        {
          "output_type": "stream",
          "text": [
            "1 0.72\n",
            "2 0.288\n",
            "3 0.08639999999999999\n",
            "4 0.020735999999999994\n",
            "5 0.004147199999999999\n",
            "6 0.0007109485714285712\n",
            "7 0.00010664228571428567\n",
            "8 1.4218971428571425e-05\n",
            "9 1.7062765714285706e-06\n",
            "10 1.8613926233766227e-07\n"
          ],
          "name": "stdout"
        }
      ]
    },
    {
      "cell_type": "markdown",
      "metadata": {
        "id": "bjpfeuFhuyEn"
      },
      "source": [
        "Ans. $p \\geq 10$"
      ]
    },
    {
      "cell_type": "markdown",
      "metadata": {
        "id": "SQ9FEXSsvU3w"
      },
      "source": [
        "(c) If p = 2, find y(0.4) with h = 0.1\n",
        " "
      ]
    },
    {
      "cell_type": "code",
      "metadata": {
        "colab": {
          "base_uri": "https://localhost:8080/"
        },
        "id": "5WQoImeEviDd",
        "outputId": "42124998-2308-4f4c-923d-73a580719207"
      },
      "source": [
        "f = lambda x,y: 2*x +3*y\n",
        "f_ = lambda x,y: 2 + 3*(2*x +3*y)\n",
        "flist = [f,f_]\n",
        "order = 2\n",
        "steps = 4\n",
        "x_0, x_max = 0,0.4\n",
        "h = 0.1\n",
        "y_0 = 1\n",
        "Taylor(steps, order, flist, x_0, y_0, h, x_max)"
      ],
      "execution_count": null,
      "outputs": [
        {
          "output_type": "stream",
          "text": [
            "Taylor Series Approximation of Order  2\n",
            "0.30000000000000004\n",
            "0.05500000000000001\n",
            "0 : y( 0.1 ) =  1.355\n",
            "0.4265\n",
            "0.073975\n",
            "1 : y( 0.2 ) =  1.8554749999999998\n",
            "0.5966425\n",
            "0.099496375\n",
            "2 : y( 0.30000000000000004 ) =  2.551613875\n",
            "0.8254841625000001\n",
            "0.13382262437500003\n",
            "3 : y( 0.4 ) =  3.510920661875\n",
            "------------------------\n"
          ],
          "name": "stdout"
        },
        {
          "output_type": "execute_result",
          "data": {
            "text/plain": [
              "3.510920661875"
            ]
          },
          "metadata": {
            "tags": []
          },
          "execution_count": 21
        }
      ]
    },
    {
      "cell_type": "markdown",
      "metadata": {
        "id": "G1v_jh7yPiYB"
      },
      "source": [
        "___\n",
        "Q3. Find the 3 term Taylor Series sol.ution for the 3rd order IVP: $y''' +yy'' = 0; y(0) = 0, y'(0) = 0, y''(0) = 1; x\\in[0,0.2]$\n",
        "\n",
        "A. $y''' = -yy\"\\\\\n",
        "\\implies y'''(0) = -yy\" = 0\\\\\n",
        "y^{iv}(0) = -y'y\"-yy''' = 0\\\\\n",
        "y^{v}(0) = -[yy^{iv}+2y'y\"-y\"^2] = -1\\\\\n",
        "y^{vi}(0) = 0\\\\\n",
        "y^{vii}(0) = 0\\\\\n",
        "y^{viii}(0) = 11\\\\\n",
        "y^{ix}(0) = y^{x}(0) = 0\\\\\n",
        "y^{xi}(0) = -375$\n",
        "\n",
        "Three term TS soln is \n",
        "$y(x) = \\frac{x^2}{2!}-\\frac{x^5}{5!}+\\frac{11}{8!}$\n",
        "\n",
        "(Last question in lecture note 3)."
      ]
    },
    {
      "cell_type": "markdown",
      "metadata": {
        "id": "DuBfh1J1y1Fl"
      },
      "source": [
        "___\n",
        "Q4. Use 3rd order Taylor series method to find approximate values of y(1.1) and y(1.2) correct upto 3 decimal places given that$\\dfrac{dy}{dx} = xy^{1/3}, y(1) = 1, h= 0.1$"
      ]
    },
    {
      "cell_type": "code",
      "metadata": {
        "colab": {
          "base_uri": "https://localhost:8080/"
        },
        "id": "3nrWk5sGzQmj",
        "outputId": "cfdc51d6-fb95-4e3b-983f-95a59e984857"
      },
      "source": [
        "f = lambda x,y: x*(y**(1/3))\n",
        "f_ = lambda x,y: y**(1/3) +x*1/3*(y**(-2/3))*x*(y**(1/3))\n",
        "f__ = lambda x,y: 1/3*(y**(-2/3)) +1/3*(2*x*y**(-1/3)-2/3*x**2*y**(-4/3)*x*(y**(1/3)))\n",
        "flist = [f,f_,f__]\n",
        "order = 3\n",
        "steps = 2\n",
        "x_0, x_max = 1,1.2\n",
        "h = 0.1\n",
        "y_0 = 1\n",
        "Taylor(order, flist, x_0, y_0, h, x_max)"
      ],
      "execution_count": null,
      "outputs": [
        {
          "output_type": "stream",
          "text": [
            "Taylor Series Approximation of Order  3\n",
            "0.1\n",
            "0.006666666666666668\n",
            "0.00012962962962962966\n",
            "0 : y( 1.1 ) =  1.1067962962962963\n",
            "0.11378418877469501\n",
            "0.0071216057586430724\n",
            "0.00012553949096734906\n",
            "1 : y( 1.2000000000000002 ) =  1.227827630320602\n",
            "------------------------\n"
          ],
          "name": "stdout"
        },
        {
          "output_type": "execute_result",
          "data": {
            "text/plain": [
              "1.227827630320602"
            ]
          },
          "metadata": {
            "tags": []
          },
          "execution_count": 22
        }
      ]
    },
    {
      "cell_type": "markdown",
      "metadata": {
        "id": "eL5W2R2UhsyK"
      },
      "source": [
        "<!-- Q4. Given the IVP $u' = t^2 + u^2; u(0) = 0$\n",
        "... Pg. 436\n",
        "\n",
        "Determine the first 3 non-zero terms in the TS explansion for u(t) and hence obtain the value for u(1). Also determine t when the error in u(t) is obtained from the first 2 non-zero terms is to be < $10^{-6}$\n",
        "\n",
        "A. Same ODE as Q1. with different IV. \n",
        "\n",
        ">$\\begin{array}{|_c_|_c_|_c_|}\\hline\n",
        "i&u^{(i)}(t)&u^{(i)}(0)\\\\\\hline\n",
        "0&0&\\text{Given}\\\\\\hline\n",
        "1&0&\\text{Given}\\\\\\hline\n",
        "2&1&\\text{Given}\\\\\\hline\n",
        "3&-yy''&0\\\\\\hline\n",
        "4&-(y'y''+yy''')&0\\\\\\hline\n",
        "5&-((y'')^2 +2y'y'''+yy^{(4)})&-1\\\\\\hline\n",
        "6&&0\\\\\\hline\n",
        "7&&0\\\\\\hline\n",
        "8&&11\\\\\\hline\n",
        "9&&0\\\\\\hline\n",
        "10&&0\\\\\\hline\n",
        "11&&-375\\\\\\hline\n",
        "\\end{array}$ -->"
      ]
    },
    {
      "cell_type": "markdown",
      "metadata": {
        "id": "JXKepKdR00yr"
      },
      "source": [
        "##3. <ins>Forward Euler Method</ins>: $y_{j+1} = y_{j} + hf_j$"
      ]
    },
    {
      "cell_type": "markdown",
      "metadata": {
        "id": "olj9kYZo2HSF"
      },
      "source": [
        "Forward Euler Method (FEM) is a **single step**, **first order**, **explicit method**.\n",
        "\n",
        "Essentially, FEM is the Taylor Series Method of Order 1.\n",
        "Here the assumption is that the step size $h$ is very small so that terms from $\\approx O(h^2)$ onwards can be neglected. "
      ]
    },
    {
      "cell_type": "markdown",
      "metadata": {
        "id": "bs1xEvJh1NTO"
      },
      "source": [
        "According to Taylor Series Method of Order $p$ -\n",
        "$\\boxed{y_{j+1} = y_j + h\\phi(x_j, y_j, h)= y_j + hy_{j}'+ \\frac{h^2}{2!}y_{j}''+...+ \\frac{h^p}{p!}y_{j}^{(p)}};\\hspace{3mm}j = 0,1,...,N-1$\n",
        "\n",
        ">The truncation error for this method is given by $\\boxed{T_{j+1} = \\frac{h^{p+1}}{(p+1)!}y_{j}^{(p+1)}(x_j +\\theta h)}$ \n",
        ">> T.E. = $\\boxed{T_{j+1} = \\frac{h^2}{2!}y_{j}''(x_j +\\theta h)\\leq  \\frac{h^2}{2!}max_{x_j<t<x_{j+1}}|y_{j}''(t)|}$ \n",
        "> y\" is given by the exact solution.\n",
        "\n",
        "Where $h = x_{j+1} - x_j$, ie the step size.\n",
        "\n",
        "If we substitute $p = 1$, we get the **FORWARD EULER METHOD**.\n",
        "\n",
        "So, according to the Forward Euler Method, or the *Forward Difference Approximation*,\n",
        "\n",
        "$\\boxed{y_{j+1} = y_j + h\\phi(x_j, y_j, h) + O(h^2) = y_j + hy_{j}'+ O(h^2)};\\hspace{3mm}j = 0,1,...,N-1$\n",
        "\n"
      ]
    },
    {
      "cell_type": "markdown",
      "metadata": {
        "id": "FCoNMS7UEOqH"
      },
      "source": [
        "Below I have plotted an example to show how decreasing the step size leads to better, more accurate results and also how the forward Euler method under estimates the exact solution."
      ]
    },
    {
      "cell_type": "code",
      "metadata": {
        "id": "vh0s401i7kxB"
      },
      "source": [
        "# @title Forward Euler Code\n",
        "#FORWARD EULER\n",
        "def FEM(f, x_i, y_i, x_max, h):\n",
        "  print(\"Forward Euler Method\")\n",
        "  count = 0\n",
        "  x = x_i\n",
        "  y = y_i\n",
        "  Ylist = [y_i]\n",
        "  Xlist = [x_i]\n",
        "  # valList = [[count,x,y]]\n",
        "  steps = int((x_max-x_i)/h)\n",
        "  while count < steps:\n",
        "    fnc = f(x,y)\n",
        "    y = y + h*f(x, y)\n",
        "    x = round(x+h, 4) \n",
        "    Xlist.append(x)\n",
        "    Ylist.append(y)\n",
        "    print(\"j = \",count,\"| x = \",x,\"| y = \", y,\"| y' = f(\",x,\",\",y,\") = \", fnc)\n",
        "    count+=1\n",
        "    # valList.append([count,x,y])\n",
        "  print(\"------------------------\")\n",
        "  # df = pd.DataFrame(valList)\n",
        "  # df.columns = [\"j\",\"x_j\",\"y_j\"]\n",
        "  # print(df)\n",
        "  return Xlist,Ylist"
      ],
      "execution_count": null,
      "outputs": []
    },
    {
      "cell_type": "code",
      "metadata": {
        "colab": {
          "base_uri": "https://localhost:8080/"
        },
        "id": "U5i6jXuZAFV7",
        "outputId": "352cefcd-2bc9-45a3-b632-20be9c92db8b"
      },
      "source": [
        "f = lambda x, y : x*(x+y) -2\n",
        "x_i, x_max = 0, 0.6\n",
        "y_i = 2\n",
        "h = 0.15\n",
        "X1, Y1 = FEM(f, x_i, y_i, x_max, h) #h=02\n",
        "X2, Y2 = FEM(f, x_i, y_i, x_max, h/2) #h=0.1/"
      ],
      "execution_count": null,
      "outputs": [
        {
          "output_type": "stream",
          "text": [
            "Forward Euler Method\n",
            "j =  0 | x =  0.15 | y =  1.7 | y' = f( 0.15 , 1.7 ) =  -2\n",
            "j =  1 | x =  0.3 | y =  1.441625 | y' = f( 0.3 , 1.441625 ) =  -1.7225000000000001\n",
            "j =  2 | x =  0.45 | y =  1.219998125 | y' = f( 0.45 , 1.219998125 ) =  -1.4775125\n",
            "j =  3 | x =  0.6 | y =  1.0327229984375 | y' = f( 0.6 , 1.0327229984375 ) =  -1.24850084375\n",
            "------------------------\n",
            "   j   x_j       y_j\n",
            "0  0  0.00  2.000000\n",
            "1  1  0.15  1.700000\n",
            "2  2  0.30  1.441625\n",
            "3  3  0.45  1.219998\n",
            "4  4  0.60  1.032723\n",
            "Forward Euler Method\n",
            "j =  0 | x =  0.075 | y =  1.85 | y' = f( 0.075 , 1.85 ) =  -2\n",
            "j =  1 | x =  0.15 | y =  1.7108281250000001 | y' = f( 0.15 , 1.7108281250000001 ) =  -1.855625\n",
            "j =  2 | x =  0.225 | y =  1.58176244140625 | y' = f( 0.225 , 1.58176244140625 ) =  -1.72087578125\n",
            "j =  3 | x =  0.3 | y =  1.4622515576049806 | y' = f( 0.3 , 1.4622515576049806 ) =  -1.5934784506835937\n",
            "j =  4 | x =  0.375 | y =  1.3519022176510926 | y' = f( 0.375 , 1.3519022176510926 ) =  -1.4713245327185058\n",
            "j =  5 | x =  0.45 | y =  1.2504713425225296 | y' = f( 0.45 , 1.2504713425225296 ) =  -1.3524116683808403\n",
            "j =  6 | x =  0.525 | y =  1.157862250332665 | y' = f( 0.525 , 1.157862250332665 ) =  -1.2347878958648617\n",
            "j =  7 | x =  0.6 | y =  1.0741249514395137 | y' = f( 0.6 , 1.0741249514395137 ) =  -1.1164973185753508\n",
            "------------------------\n",
            "   j    x_j       y_j\n",
            "0  0  0.000  2.000000\n",
            "1  1  0.075  1.850000\n",
            "2  2  0.150  1.710828\n",
            "3  3  0.225  1.581762\n",
            "4  4  0.300  1.462252\n",
            "5  5  0.375  1.351902\n",
            "6  6  0.450  1.250471\n",
            "7  7  0.525  1.157862\n",
            "8  8  0.600  1.074125\n"
          ],
          "name": "stdout"
        }
      ]
    },
    {
      "cell_type": "markdown",
      "metadata": {
        "id": "aRtk6pRZJaMW"
      },
      "source": [
        "### Questions on FEM "
      ]
    },
    {
      "cell_type": "markdown",
      "metadata": {
        "id": "sPVdvOeq7Jr4"
      },
      "source": [
        "Eg. $y' = 2x + y; y(0) = 1; x\\in[0,1]$\n",
        "\n",
        "Solve for (i) h = 0.2, (ii) h = 0.1"
      ]
    },
    {
      "cell_type": "code",
      "metadata": {
        "colab": {
          "base_uri": "https://localhost:8080/"
        },
        "id": "z6uTA072-Taj",
        "outputId": "fafabfd3-c446-45fd-bf69-e808a809a3fe"
      },
      "source": [
        "f = lambda x, y : 2*x + y\n",
        "x_i, x_max = 0, 1\n",
        "y_i = 1\n",
        "h = 0.2\n",
        "X1, Y1 = FEM(f, x_i, y_i, x_max, h) #h=02\n",
        "X2, Y2 = FEM(f, x_i, y_i, x_max, h/2) #h=0.1"
      ],
      "execution_count": null,
      "outputs": [
        {
          "output_type": "stream",
          "text": [
            "j =  0 | x =  0.2 | y =  1.2 | y' = f( 0.2 , 1.2 ) =  1\n",
            "j =  1 | x =  0.4 | y =  1.52 | y' = f( 0.4 , 1.52 ) =  1.6\n",
            "j =  2 | x =  0.6 | y =  1.984 | y' = f( 0.6 , 1.984 ) =  2.3200000000000003\n",
            "j =  3 | x =  0.8 | y =  2.6208 | y' = f( 0.8 , 2.6208 ) =  3.184\n",
            "j =  4 | x =  1.0 | y =  3.46496 | y' = f( 1.0 , 3.46496 ) =  4.2208000000000006\n",
            "------------------------\n",
            "j =  0 | x =  0.1 | y =  1.1 | y' = f( 0.1 , 1.1 ) =  1\n",
            "j =  1 | x =  0.2 | y =  1.23 | y' = f( 0.2 , 1.23 ) =  1.3\n",
            "j =  2 | x =  0.3 | y =  1.393 | y' = f( 0.3 , 1.393 ) =  1.63\n",
            "j =  3 | x =  0.4 | y =  1.5923 | y' = f( 0.4 , 1.5923 ) =  1.9929999999999999\n",
            "j =  4 | x =  0.5 | y =  1.83153 | y' = f( 0.5 , 1.83153 ) =  2.3923\n",
            "j =  5 | x =  0.6 | y =  2.1146830000000003 | y' = f( 0.6 , 2.1146830000000003 ) =  2.83153\n",
            "j =  6 | x =  0.7 | y =  2.4461513000000004 | y' = f( 0.7 , 2.4461513000000004 ) =  3.3146830000000005\n",
            "j =  7 | x =  0.8 | y =  2.8307664300000006 | y' = f( 0.8 , 2.8307664300000006 ) =  3.8461513000000003\n",
            "j =  8 | x =  0.9 | y =  3.2738430730000005 | y' = f( 0.9 , 3.2738430730000005 ) =  4.43076643\n",
            "j =  9 | x =  1.0 | y =  3.7812273803000007 | y' = f( 1.0 , 3.7812273803000007 ) =  5.073843073000001\n",
            "------------------------\n"
          ],
          "name": "stdout"
        }
      ]
    },
    {
      "cell_type": "markdown",
      "metadata": {
        "id": "ToCR774n_JX-"
      },
      "source": [
        "The exact solution of the equation is:\n",
        "$y(x) = 3e^x - 2x -2$"
      ]
    },
    {
      "cell_type": "code",
      "metadata": {
        "colab": {
          "base_uri": "https://localhost:8080/",
          "height": 480
        },
        "id": "-QXrVuRP-5-P",
        "cellView": "form",
        "outputId": "a90bb8ec-c03b-4fd2-d16a-ff2448601c48"
      },
      "source": [
        "#@title\n",
        "x = x_i # y = 3*exp(x) - 2*x -2\n",
        "Xex = [x]\n",
        "Yex = [y_i]\n",
        "h = 0.01\n",
        "while x < 1:\n",
        "  x += h\n",
        "  Xex.append(x)\n",
        "  Yex.append(3*exp(x) - 2*x -2)\n",
        "#Plotting Solution:\n",
        "fig1 = plt.figure(figsize=[6,6])\n",
        "a1 = fig1.add_axes([0,0,1,1])\n",
        "plt.grid(linestyle = 'dashed')\n",
        "a1.plot(X1,Y1,color = \"orange\", linestyle = '-', label = 'h = '+str(0.2))\n",
        "a1.scatter(X1,Y1,color = \"orange\")\n",
        "a1.plot(X2,Y2,color = \"red\", linestyle = '-', label = 'h = '+str(0.1))\n",
        "a1.scatter(X2,Y2,color = \"red\")\n",
        "a1.plot(Xex,Yex,color = \"black\", linestyle = '-',label = 'exact solution')\n",
        "leg = a1.legend();"
      ],
      "execution_count": null,
      "outputs": [
        {
          "output_type": "display_data",
          "data": {
            "image/png": "[encoded data removed]",
            "text/plain": [
              "<Figure size 432x432 with 1 Axes>"
            ]
          },
          "metadata": {
            "tags": [],
            "needs_background": "light"
          }
        }
      ]
    },
    {
      "cell_type": "markdown",
      "metadata": {
        "id": "oHpYgeZnFSKr"
      },
      "source": [
        "Notice that Euler method *underestimates the exact solution*. <br>\n",
        "Another interesting observation about the Euler method is that it may not be stable for larger step sizes. This is illustrated in the example below-"
      ]
    },
    {
      "cell_type": "code",
      "metadata": {
        "colab": {
          "base_uri": "https://localhost:8080/"
        },
        "id": "3NxKhI6VFRb2",
        "outputId": "ba7de435-4de5-42d5-d7ee-60e457c0f6c7"
      },
      "source": [
        "f = lambda x, y : -y/2\n",
        "x_i, x_max = 0, 20\n",
        "y_i = 1\n",
        "X1, Y1 = FEM(f, x_i, y_i, x_max, 1)\n",
        "X2, Y2 = FEM(f, x_i, y_i, x_max, 4)\n",
        "X3, Y3 = FEM(f, x_i, y_i, x_max, 4.2)"
      ],
      "execution_count": null,
      "outputs": [
        {
          "output_type": "stream",
          "text": [
            "j =  0 | x =  1 | y =  0.5 | y' = f( 1 , 0.5 ) =  -0.5\n",
            "j =  1 | x =  2 | y =  0.25 | y' = f( 2 , 0.25 ) =  -0.25\n",
            "j =  2 | x =  3 | y =  0.125 | y' = f( 3 , 0.125 ) =  -0.125\n",
            "j =  3 | x =  4 | y =  0.0625 | y' = f( 4 , 0.0625 ) =  -0.0625\n",
            "j =  4 | x =  5 | y =  0.03125 | y' = f( 5 , 0.03125 ) =  -0.03125\n",
            "j =  5 | x =  6 | y =  0.015625 | y' = f( 6 , 0.015625 ) =  -0.015625\n",
            "j =  6 | x =  7 | y =  0.0078125 | y' = f( 7 , 0.0078125 ) =  -0.0078125\n",
            "j =  7 | x =  8 | y =  0.00390625 | y' = f( 8 , 0.00390625 ) =  -0.00390625\n",
            "j =  8 | x =  9 | y =  0.001953125 | y' = f( 9 , 0.001953125 ) =  -0.001953125\n",
            "j =  9 | x =  10 | y =  0.0009765625 | y' = f( 10 , 0.0009765625 ) =  -0.0009765625\n",
            "j =  10 | x =  11 | y =  0.00048828125 | y' = f( 11 , 0.00048828125 ) =  -0.00048828125\n",
            "j =  11 | x =  12 | y =  0.000244140625 | y' = f( 12 , 0.000244140625 ) =  -0.000244140625\n",
            "j =  12 | x =  13 | y =  0.0001220703125 | y' = f( 13 , 0.0001220703125 ) =  -0.0001220703125\n",
            "j =  13 | x =  14 | y =  6.103515625e-05 | y' = f( 14 , 6.103515625e-05 ) =  -6.103515625e-05\n",
            "j =  14 | x =  15 | y =  3.0517578125e-05 | y' = f( 15 , 3.0517578125e-05 ) =  -3.0517578125e-05\n",
            "j =  15 | x =  16 | y =  1.52587890625e-05 | y' = f( 16 , 1.52587890625e-05 ) =  -1.52587890625e-05\n",
            "j =  16 | x =  17 | y =  7.62939453125e-06 | y' = f( 17 , 7.62939453125e-06 ) =  -7.62939453125e-06\n",
            "j =  17 | x =  18 | y =  3.814697265625e-06 | y' = f( 18 , 3.814697265625e-06 ) =  -3.814697265625e-06\n",
            "j =  18 | x =  19 | y =  1.9073486328125e-06 | y' = f( 19 , 1.9073486328125e-06 ) =  -1.9073486328125e-06\n",
            "j =  19 | x =  20 | y =  9.5367431640625e-07 | y' = f( 20 , 9.5367431640625e-07 ) =  -9.5367431640625e-07\n",
            "------------------------\n",
            "j =  0 | x =  4 | y =  -1.0 | y' = f( 4 , -1.0 ) =  -0.5\n",
            "j =  1 | x =  8 | y =  1.0 | y' = f( 8 , 1.0 ) =  0.5\n",
            "j =  2 | x =  12 | y =  -1.0 | y' = f( 12 , -1.0 ) =  -0.5\n",
            "j =  3 | x =  16 | y =  1.0 | y' = f( 16 , 1.0 ) =  0.5\n",
            "j =  4 | x =  20 | y =  -1.0 | y' = f( 20 , -1.0 ) =  -0.5\n",
            "------------------------\n",
            "j =  0 | x =  4.2 | y =  -1.1 | y' = f( 4.2 , -1.1 ) =  -0.5\n",
            "j =  1 | x =  8.4 | y =  1.2100000000000004 | y' = f( 8.4 , 1.2100000000000004 ) =  0.55\n",
            "j =  2 | x =  12.6 | y =  -1.3310000000000004 | y' = f( 12.6 , -1.3310000000000004 ) =  -0.6050000000000002\n",
            "j =  3 | x =  16.8 | y =  1.4641000000000006 | y' = f( 16.8 , 1.4641000000000006 ) =  0.6655000000000002\n",
            "------------------------\n"
          ],
          "name": "stdout"
        }
      ]
    },
    {
      "cell_type": "code",
      "metadata": {
        "colab": {
          "base_uri": "https://localhost:8080/",
          "height": 480
        },
        "cellView": "form",
        "id": "zd-y0mEqGSNi",
        "outputId": "8be59a78-c9c0-4e2a-9fec-c08b13db7c7a"
      },
      "source": [
        "#@title\n",
        "#Plotting Solution:\n",
        "fig1 = plt.figure(figsize=[6,6])\n",
        "a1 = fig1.add_axes([0,0,1,1])\n",
        "plt.grid(linestyle = 'dashed')\n",
        "a1.plot(X1,Y1,color = \"orange\", linestyle = '-', label = 'h = '+str(1))\n",
        "a1.scatter(X1,Y1,color = \"orange\")\n",
        "a1.plot(X2,Y2,color = \"red\", linestyle = '-', label = 'h = '+str(3))\n",
        "a1.scatter(X2,Y2,color = \"red\")\n",
        "a1.plot(X3,Y3,color = \"pink\", linestyle = '-', label = 'h = '+str(4.2))\n",
        "a1.scatter(X3,Y3,color = \"pink\")\n",
        "\n",
        "leg = a1.legend();"
      ],
      "execution_count": null,
      "outputs": [
        {
          "output_type": "display_data",
          "data": {
            "image/png": "[encoded data removed]",
            "text/plain": [
              "<Figure size 432x432 with 1 Axes>"
            ]
          },
          "metadata": {
            "tags": [],
            "needs_background": "light"
          }
        }
      ]
    },
    {
      "cell_type": "markdown",
      "metadata": {
        "id": "uLdYKDp0Gr4M"
      },
      "source": [
        "In the above example we see how for the IVP:\n",
        "\n",
        "$y' +\\frac{1}{2}y = 0; y(0) =1; x\\in[0,20]$\n",
        "\n",
        "The Euler method is stable for $h<4$.\n",
        "For $h\\geq 4$, the solution *oscillates*.\n",
        "___"
      ]
    },
    {
      "cell_type": "code",
      "metadata": {
        "colab": {
          "base_uri": "https://localhost:8080/"
        },
        "id": "wvorTvWG8DTH",
        "outputId": "c6a4a35a-1a44-4d56-ff94-68af22ace83f"
      },
      "source": [
        "#Exercises\n",
        "# y' = x-2y, y(0) = 1, h = 0.1,0.05\n",
        "f = lambda x, y : x-2*y\n",
        "x_i, x_max = 0, 1\n",
        "y_i = 1\n",
        "h = 0.1\n",
        "X1, Y1 = FEM(f, x_i, y_i, x_max, h)\n",
        "X2, Y2 = FEM(f, x_i, y_i, x_max, h/2)"
      ],
      "execution_count": null,
      "outputs": [
        {
          "output_type": "stream",
          "text": [
            "j =  0 | x =  0.1 | y =  0.8 | y' = f( 0.1 , 0.8 ) =  -2\n",
            "j =  1 | x =  0.2 | y =  0.65 | y' = f( 0.2 , 0.65 ) =  -1.5\n",
            "j =  2 | x =  0.3 | y =  0.54 | y' = f( 0.3 , 0.54 ) =  -1.1\n",
            "j =  3 | x =  0.4 | y =  0.462 | y' = f( 0.4 , 0.462 ) =  -0.78\n",
            "j =  4 | x =  0.5 | y =  0.4096 | y' = f( 0.5 , 0.4096 ) =  -0.524\n",
            "j =  5 | x =  0.6 | y =  0.37768 | y' = f( 0.6 , 0.37768 ) =  -0.31920000000000004\n",
            "j =  6 | x =  0.7 | y =  0.362144 | y' = f( 0.7 , 0.362144 ) =  -0.15536000000000005\n",
            "j =  7 | x =  0.8 | y =  0.3597152 | y' = f( 0.8 , 0.3597152 ) =  -0.024288000000000087\n",
            "j =  8 | x =  0.9 | y =  0.36777216 | y' = f( 0.9 , 0.36777216 ) =  0.08056960000000002\n",
            "j =  9 | x =  1.0 | y =  0.38421772800000004 | y' = f( 1.0 , 0.38421772800000004 ) =  0.16445568\n",
            "------------------------\n",
            "j =  0 | x =  0.05 | y =  0.9 | y' = f( 0.05 , 0.9 ) =  -2\n",
            "j =  1 | x =  0.1 | y =  0.8125 | y' = f( 0.1 , 0.8125 ) =  -1.75\n",
            "j =  2 | x =  0.15 | y =  0.73625 | y' = f( 0.15 , 0.73625 ) =  -1.525\n",
            "j =  3 | x =  0.2 | y =  0.670125 | y' = f( 0.2 , 0.670125 ) =  -1.3225\n",
            "j =  4 | x =  0.25 | y =  0.6131125 | y' = f( 0.25 , 0.6131125 ) =  -1.14025\n",
            "j =  5 | x =  0.3 | y =  0.56430125 | y' = f( 0.3 , 0.56430125 ) =  -0.9762249999999999\n",
            "j =  6 | x =  0.35 | y =  0.522871125 | y' = f( 0.35 , 0.522871125 ) =  -0.8286024999999999\n",
            "j =  7 | x =  0.4 | y =  0.4880840125 | y' = f( 0.4 , 0.4880840125 ) =  -0.69574225\n",
            "j =  8 | x =  0.45 | y =  0.45927561125 | y' = f( 0.45 , 0.45927561125 ) =  -0.576168025\n",
            "j =  9 | x =  0.5 | y =  0.435848050125 | y' = f( 0.5 , 0.435848050125 ) =  -0.4685512225\n",
            "j =  10 | x =  0.55 | y =  0.4172632451125 | y' = f( 0.55 , 0.4172632451125 ) =  -0.37169610025\n",
            "j =  11 | x =  0.6 | y =  0.40303692060125 | y' = f( 0.6 , 0.40303692060125 ) =  -0.284526490225\n",
            "j =  12 | x =  0.65 | y =  0.392733228541125 | y' = f( 0.65 , 0.392733228541125 ) =  -0.20607384120250005\n",
            "j =  13 | x =  0.7 | y =  0.38595990568701255 | y' = f( 0.7 , 0.38595990568701255 ) =  -0.13546645708225002\n",
            "j =  14 | x =  0.75 | y =  0.3823639151183113 | y' = f( 0.75 , 0.3823639151183113 ) =  -0.07191981137402514\n",
            "j =  15 | x =  0.8 | y =  0.38162752360648017 | y' = f( 0.8 , 0.38162752360648017 ) =  -0.014727830236622608\n",
            "j =  16 | x =  0.85 | y =  0.38346477124583217 | y' = f( 0.85 , 0.38346477124583217 ) =  0.03674495278703971\n",
            "j =  17 | x =  0.9 | y =  0.38761829412124893 | y' = f( 0.9 , 0.38761829412124893 ) =  0.08307045750833564\n",
            "j =  18 | x =  0.95 | y =  0.39385646470912405 | y' = f( 0.95 , 0.39385646470912405 ) =  0.12476341175750216\n",
            "j =  19 | x =  1.0 | y =  0.4019708182382116 | y' = f( 1.0 , 0.4019708182382116 ) =  0.16228707058175185\n",
            "------------------------\n"
          ],
          "name": "stdout"
        }
      ]
    },
    {
      "cell_type": "code",
      "metadata": {
        "colab": {
          "base_uri": "https://localhost:8080/"
        },
        "id": "H3NOeljP8dAq",
        "outputId": "7416fdad-52b5-48d9-8e6e-39c131ab8d0a"
      },
      "source": [
        "#Exercises\n",
        "# y' = x+y, y(0)=2, h = 0.1, 0.2\n",
        "f = lambda x, y : x + y\n",
        "x_i, x_max = 0, 1\n",
        "y_i = 2\n",
        "h = 0.1\n",
        "X1, Y1 = FEM(f, x_i, y_i, x_max, h)\n",
        "X2, Y2 = FEM(f, x_i, y_i, x_max, h*2)"
      ],
      "execution_count": null,
      "outputs": [
        {
          "output_type": "stream",
          "text": [
            "j =  0 | x =  0.1 | y =  2.2 | y' = f( 0.1 , 2.2 ) =  2\n",
            "j =  1 | x =  0.2 | y =  2.43 | y' = f( 0.2 , 2.43 ) =  2.3000000000000003\n",
            "j =  2 | x =  0.3 | y =  2.693 | y' = f( 0.3 , 2.693 ) =  2.6300000000000003\n",
            "j =  3 | x =  0.4 | y =  2.9923 | y' = f( 0.4 , 2.9923 ) =  2.993\n",
            "j =  4 | x =  0.5 | y =  3.3315300000000003 | y' = f( 0.5 , 3.3315300000000003 ) =  3.3923\n",
            "j =  5 | x =  0.6 | y =  3.7146830000000004 | y' = f( 0.6 , 3.7146830000000004 ) =  3.8315300000000003\n",
            "j =  6 | x =  0.7 | y =  4.1461513000000005 | y' = f( 0.7 , 4.1461513000000005 ) =  4.3146830000000005\n",
            "j =  7 | x =  0.8 | y =  4.63076643 | y' = f( 0.8 , 4.63076643 ) =  4.846151300000001\n",
            "j =  8 | x =  0.9 | y =  5.1738430730000005 | y' = f( 0.9 , 5.1738430730000005 ) =  5.43076643\n",
            "j =  9 | x =  1.0 | y =  5.781227380300001 | y' = f( 1.0 , 5.781227380300001 ) =  6.073843073000001\n",
            "------------------------\n",
            "j =  0 | x =  0.2 | y =  2.4 | y' = f( 0.2 , 2.4 ) =  2\n",
            "j =  1 | x =  0.4 | y =  2.92 | y' = f( 0.4 , 2.92 ) =  2.6\n",
            "j =  2 | x =  0.6 | y =  3.584 | y' = f( 0.6 , 3.584 ) =  3.32\n",
            "j =  3 | x =  0.8 | y =  4.4208 | y' = f( 0.8 , 4.4208 ) =  4.184\n",
            "j =  4 | x =  1.0 | y =  5.46496 | y' = f( 1.0 , 5.46496 ) =  5.2208\n",
            "------------------------\n"
          ],
          "name": "stdout"
        }
      ]
    },
    {
      "cell_type": "code",
      "metadata": {
        "colab": {
          "base_uri": "https://localhost:8080/"
        },
        "id": "KxtBs3ZjWRxg",
        "outputId": "be3b8090-2cee-4050-d97d-714dfaef804b"
      },
      "source": [
        "# Eg. y' = -2xy^2, y(0) = 1, \n",
        "f = lambda x, y : -2*x*y**2\n",
        "x_i, x_max = 0, 1\n",
        "y_i = 1\n",
        "h = 0.2\n",
        "X1, Y1 = FEM(f, x_i, y_i, x_max, h) #h=0.2\n",
        "#X2, Y2 = FEM(f, x_i, y_i, x_max, h/2) #h=0.1\n",
        "#X2, Y2 = FEM(f, x_i, y_i, x_max, h/4) #h=0.05"
      ],
      "execution_count": null,
      "outputs": [
        {
          "output_type": "stream",
          "text": [
            "j =  0 | x =  0.2 | y =  1.0 | y' = f( 0.2 , 1.0 ) =  0\n",
            "j =  1 | x =  0.4 | y =  0.9199999999999999 | y' = f( 0.4 , 0.9199999999999999 ) =  -0.4\n",
            "j =  2 | x =  0.6 | y =  0.7845759999999999 | y' = f( 0.6 , 0.7845759999999999 ) =  -0.6771199999999999\n",
            "j =  3 | x =  0.8 | y =  0.6368417200537599 | y' = f( 0.8 , 0.6368417200537599 ) =  -0.7386713997311999\n",
            "j =  4 | x =  1.0 | y =  0.5070601596054298 | y' = f( 1.0 , 0.5070601596054298 ) =  -0.6489078022416505\n",
            "------------------------\n"
          ],
          "name": "stdout"
        }
      ]
    },
    {
      "cell_type": "markdown",
      "metadata": {
        "id": "0DyPTVcrvvKG"
      },
      "source": [
        "##4. <ins>Backward Euler Method</ins>: $y_{j+1} = y_{j} + hf_{j+1}$"
      ]
    },
    {
      "cell_type": "markdown",
      "metadata": {
        "id": "kiA0mbWbRgfB"
      },
      "source": [
        "Backward Euler Method (BEM) is a **single step**, **first order**, **implicit method**."
      ]
    },
    {
      "cell_type": "markdown",
      "metadata": {
        "id": "ooAe5LKqRwZd"
      },
      "source": [
        "According to the Backward Euler Method, or the *Backward Difference Approximation*,\n",
        "\n",
        "$\\boxed{y_{j+1} = y_j + hf(x_{j+1}, y_{j+1}, h) + O(h^2) };\\hspace{3mm}j = 0,1,...,N-1$\n",
        "\n",
        "If f(x,y) is non-linear in y, the resulting algebraic equation will be non-linear. We can solve this equation using Newton Rhapson Method.\n",
        "\n",
        "A brief explanation of Newton Rhapson Method:\n",
        "> We take $F(y_{j+1}) = y_{j+1} - y_{j} - hf(x_{j+1}, y_{j+1})\\\\ \\implies F'(y_{j+1}) = 1 -hf'(x_{j+1},y_{j+1})$\n",
        "\n",
        "In NR we use F,F'\n",
        "\n",
        ">  $y_{j+1}^{(s+1)} = y_{j+1}^{(s)} - \\frac{F(y_{j+1}^{(s)})}{F'(y_{j+1}^{(s)})}, s = 0,1,...$\n",
        ">> Note: We take $y_{j+1}^{(0)} = y_j$\n",
        "\n",
        "We continue with Newton Rhapson till it converges.\n",
        "For 1 value of 's', we continue with the method till it converges upto 4 decimal places.\n",
        "\n",
        "\n",
        "\n"
      ]
    },
    {
      "cell_type": "code",
      "metadata": {
        "id": "yBPl5qMwjD4g",
        "cellView": "form"
      },
      "source": [
        "# @title Backward Euler Code\n",
        "#BACKWARD EULER with Newton-Rhapson Sub-Procedure\n",
        "def BEM(f, f_, x_i, y_i, x_max, h):\n",
        "  print(\"Backward Euler Method\")\n",
        "  x = x_i\n",
        "  y_j = y_i\n",
        "  # F and F' for NR Method\n",
        "  F = lambda yj1s, y_j, x : yj1s - y_j - h*f(x,yj1s)\n",
        "  F_ = lambda yj1s, x : 1 - h*f_(x,yj1s)\n",
        "\n",
        "  Ylist = [y_i]\n",
        "  Xlist = [x_i]\n",
        "  j = 0\n",
        "  steps = int((x_max-x_i)/h)\n",
        "  while j < steps:\n",
        "    s = 0\n",
        "    y_j1s = y_j\n",
        "    x = round(x+h, 4) \n",
        "    print(\"j = \",j,\"| x[j+1] = \",x,\"| y[j] = \", y_j)\n",
        "    while s+1:\n",
        "      y_prev = y_j1s\n",
        "      y_j1s = y_j1s - F(y_j1s, y_j, x)/F_(y_j1s, x)\n",
        "      print(\" s = \",s,\": y[j+1][s+1] = \",y_j1s,\"| F = \",F(y_prev, y_j, x), \"| F' = \", F_(y_prev, x))\n",
        "      s+=1\n",
        "      if abs(abs(y_j1s)-abs(y_prev)) < 0.0001: break\n",
        "    y_j = y_j1s\n",
        "    Xlist.append(x)\n",
        "    Ylist.append(y_j)\n",
        "    j+=1\n",
        "  print(\"------------------------\")\n",
        "  return Xlist,Ylist"
      ],
      "execution_count": null,
      "outputs": []
    },
    {
      "cell_type": "markdown",
      "metadata": {
        "id": "HBvfZVQEJWUn"
      },
      "source": [
        "### Questions on BEM"
      ]
    },
    {
      "cell_type": "markdown",
      "metadata": {
        "id": "hNygiJh5psaw"
      },
      "source": [
        "Q. Solve the IVP:\n",
        "\n",
        "$u' = -2tu^2, u(0) = 1\\\\ \n",
        "\\text{with h= 0.2, on the interval [0,0.4] using the backward Euler method.}$"
      ]
    },
    {
      "cell_type": "code",
      "metadata": {
        "colab": {
          "base_uri": "https://localhost:8080/"
        },
        "id": "O9QiHGLkcSn4",
        "outputId": "4db8119e-0a05-476e-a97a-3f79957b674f"
      },
      "source": [
        "f = lambda x, y : -2*x*(y**2)\n",
        "f_ = lambda x, y : -4*x*(y)\n",
        "\n",
        "x_i, x_max = 0, 0.4\n",
        "y_i = 1\n",
        "h = 0.2\n",
        "\n",
        "X,Y = BEM(f, f_, x_i, y_i, x_max, h)"
      ],
      "execution_count": null,
      "outputs": [
        {
          "output_type": "stream",
          "text": [
            "j =  0 | x[j+1] =  0.2 | y[j] =  1\n",
            " s =  0 : y[j+1][s+1] =  0.9310344827586207 | F =  0.08000000000000002 | F' =  1.1600000000000001\n",
            " s =  1 : y[j+1][s+1] =  0.9307033158090823 | F =  0.0003804994054696642 | F' =  1.1489655172413793\n",
            " s =  2 : y[j+1][s+1] =  0.9307033081725358 | F =  8.773723914057285e-09 | F' =  1.1489125305294532\n",
            "j =  1 | x[j+1] =  0.4 | y[j] =  0.9307033081725358\n",
            " s =  0 : y[j+1][s+1] =  0.8239143517296632 | F =  0.13859338365492835 | F' =  1.2978250586152114\n",
            " s =  1 : y[j+1][s+1] =  0.8224704256018196 | F =  0.0018246209949052405 | F' =  1.2636525925534923\n",
            " s =  2 : y[j+1][s+1] =  0.82247016151844 | F =  3.335876259530357e-07 | F' =  1.2631905361925824\n",
            "------------------------\n"
          ],
          "name": "stdout"
        }
      ]
    },
    {
      "cell_type": "markdown",
      "metadata": {
        "id": "JY50hKC5qKq3"
      },
      "source": [
        "Exact values for the above problem are:\n",
        "$u(0.2) = 0.96153846, u(0.4) = 0.86206897$\n",
        "\n",
        "Observe that the BE method underestimates in this case."
      ]
    },
    {
      "cell_type": "markdown",
      "metadata": {
        "id": "kP1UzSGxDZ-i"
      },
      "source": [
        "##5. <ins>Modified Euler Method</ins>: $y_{j+1} = \\frac{h}{2}(f(x_j,y_j)+f(x_{j+1},y_{j+1}))$\n"
      ]
    },
    {
      "cell_type": "markdown",
      "metadata": {
        "id": "7nfAV6MHZL34"
      },
      "source": [
        "###(a) Trapezoidal Approximation method"
      ]
    },
    {
      "cell_type": "markdown",
      "metadata": {
        "id": "yVImTjHEwRlj"
      },
      "source": [
        "Modified Euler Method (MEM) is a **single step**, **second order** ($O(h^2)$), **implicit method**."
      ]
    },
    {
      "cell_type": "markdown",
      "metadata": {
        "id": "-z1lnvH1wSY2"
      },
      "source": [
        "According to the Modified Euler Method,\n",
        "\n",
        "$\\boxed{y_{j+1} = y_j + \\frac{h}{2}[f(x_{j}, y_{j})+f(x_{j+1}, y_{j+1})] + O(h^3) };\\hspace{3mm}j = 0,1,...,N-1$\n",
        "\n",
        "If f(x,y) is non-linear in y, the resulting algebraic equation will be non-linear. We can solve this equation using Newton Rhapson Method.\n",
        "\n",
        "A brief explanation of Newton Rhapson Method:\n",
        "> We take $F(y_{j+1}) = y_{j+1} - y{j} - hf(x_{j+1}, y_{j+1})\\\\ \\implies F'(y_{j+1}) = 1 -hf'(x_{j+1},y_{j+1})$\n",
        "\n",
        ">  $y_{j+1}^{(s+1)} = y_{j+1}^{(s)} - \\frac{F(y_{j+1}^{(s)})}{F'(y_{j+1}^{(s)})}, s = 0,1,...$\n",
        ">> Note: We take $y_{j+1}^{(0)} = y_j$\n",
        "\n",
        "We continue with Newton Rhapson till it converges.\n",
        "For 1 value of 's', we continue with the method till it converges upto 4 decimal places."
      ]
    },
    {
      "cell_type": "code",
      "metadata": {
        "id": "VAkaHwzup-bh",
        "cellView": "form"
      },
      "source": [
        "# @title Modified Euler Code\n",
        "#MODIFIED EULER METHOD\n",
        "def MEM_NR(f, x_i, y_i, x_max, h):\n",
        "  print(\"Modified Euler Method\")\n",
        "  count = 0\n",
        "  x = x_i\n",
        "  y = y_i\n",
        "  Ylist = [y_i]\n",
        "  Xlist = [x_i]\n",
        "  steps = int((x_max-x_i)/h)\n",
        "  while count < steps:\n",
        "    fnc = f(x,y)\n",
        "    y = y + h*f(x+h/2, y+h/2*fnc)\n",
        "    x = round(x+h, 4) \n",
        "    Xlist.append(x)\n",
        "    Ylist.append(y)\n",
        "    print(\"j = \",count,\"| x = \",x,\"| y = \", y,\"| y' = f(\",x,\",\",y,\") = \", fnc)\n",
        "    count+=1\n",
        "  print(\"------------------------\")\n",
        "  return Xlist,Ylist"
      ],
      "execution_count": null,
      "outputs": []
    },
    {
      "cell_type": "code",
      "metadata": {
        "id": "XVzOppdBKo_R"
      },
      "source": [
        "def FEMs(f, x_i, y_i, x_max, h):\n",
        "  count = 0\n",
        "  x = x_i\n",
        "  y = y_i\n",
        "  Ylist = [y_i]\n",
        "  Xlist = [x_i]\n",
        "  steps = int((x_max-x_i)/h)\n",
        "  while count < steps:\n",
        "    fnc = f(x,y)\n",
        "    y = y + h*f(x, y)\n",
        "    x = round(x+h, 4) \n",
        "    Xlist.append(x)\n",
        "    Ylist.append(y)\n",
        "    #print(\"j = \",count,\"| x = \",x,\"| y = \", y,\"| y' = f(\",x,\",\",y,\") = \", fnc)\n",
        "    count+=1\n",
        "  print(\"------------------------\")\n",
        "  return y\n",
        "#Modified EULER with Forward Euler Sub-Procedure\n",
        "def MEM_FE(f, x_i, y_i, x_max, h):\n",
        "  print(\"Modified Euler Method, with Forward Euler Sub-Procedure\")\n",
        "  x = x_i\n",
        "  y_j = y_i\n",
        "  Ylist = [y_i]\n",
        "  Xlist = [x_i]\n",
        "  j = 0\n",
        "  steps = int((x_max-x_i)/h)\n",
        "  while j < steps:\n",
        "    s = 0\n",
        "    y_j1s = FEMs(f,x,y_j,x+h,h)\n",
        "    print(\"j = \",j,\"| x[j+1] = \",x,\"| y[j] = \", y_j)\n",
        "    while s+1:\n",
        "      y_prev = y_j1s\n",
        "      y_j1s = y_j + h/2*(f(x,y_j)+(f(x+h,y_j1s)))\n",
        "      print(\" s = \",s,\": y[j+1][s+1] = \",y_j1s)\n",
        "      s+=1\n",
        "      if abs(abs(y_j1s)-abs(y_prev)) < 0.001: break\n",
        "    y_j = round(y_j1s,3)\n",
        "    x+=h\n",
        "    print(\"j = \",j,\"| x = \",x,\"| y = \", y_j)\n",
        "    Xlist.append(x)\n",
        "    Ylist.append(y_j)\n",
        "    j+=1\n",
        "  print(\"------------------------\")\n",
        "  return Xlist,Ylist"
      ],
      "execution_count": null,
      "outputs": []
    },
    {
      "cell_type": "markdown",
      "metadata": {
        "id": "MDviKygWJTZq"
      },
      "source": [
        "### Questions on MEM"
      ]
    },
    {
      "cell_type": "code",
      "metadata": {
        "colab": {
          "base_uri": "https://localhost:8080/"
        },
        "id": "TLpseuJSwECZ",
        "outputId": "44f315e4-c55e-4f9d-8505-b9a5ce31cedb"
      },
      "source": [
        "#Modified Euler Method\n",
        "# f = lambda x, y : x + abs(sqrt(y))\n",
        "f = lambda x, y : x**2 + y\n",
        "x_i, x_max = 0, 0.2\n",
        "y_i = 0.94\n",
        "h = 0.1\n",
        "\n",
        "MEM_NR(f, x_i, y_i, x_max, h)"
      ],
      "execution_count": null,
      "outputs": [
        {
          "output_type": "stream",
          "text": [
            "j =  0 | x =  0.1 | y =  1.03895 | y' = f( 0.1 , 1.03895 ) =  0.94\n",
            "j =  1 | x =  0.2 | y =  1.15033975 | y' = f( 0.2 , 1.15033975 ) =  1.04895\n",
            "------------------------\n"
          ],
          "name": "stdout"
        },
        {
          "output_type": "execute_result",
          "data": {
            "text/plain": [
              "([0, 0.1, 0.2], [0.94, 1.03895, 1.15033975])"
            ]
          },
          "metadata": {
            "tags": []
          },
          "execution_count": 21
        }
      ]
    },
    {
      "cell_type": "code",
      "metadata": {
        "colab": {
          "base_uri": "https://localhost:8080/"
        },
        "id": "Qb4GsRNDGyYK",
        "outputId": "0d1d2733-4237-4ff3-a5cf-7068495077fb"
      },
      "source": [
        "#Eg.2) y' = 2x+y, y(0) = 1, to find y(0.2), y(0.4) using Forward Euler as a sub-procedure\n",
        "f = lambda x, y : 2*x + y\n",
        "x_i, x_max = 0, 0.4\n",
        "y_i = 1\n",
        "h = 0.2\n",
        "\n",
        "MEM_FE(f, x_i, y_i, x_max, h)"
      ],
      "execution_count": null,
      "outputs": [
        {
          "output_type": "stream",
          "text": [
            "------------------------\n",
            "j =  0 | x[j+1] =  0 | y[j] =  1\n",
            " s =  0 : y[j+1][s+1] =  1.26\n",
            " s =  1 : y[j+1][s+1] =  1.266\n",
            " s =  2 : y[j+1][s+1] =  1.2666\n",
            "j =  0 | x =  0.2 | y =  1.267\n",
            "------------------------\n",
            "j =  1 | x[j+1] =  0.2 | y[j] =  1.267\n",
            " s =  0 : y[j+1][s+1] =  1.6737399999999998\n",
            " s =  1 : y[j+1][s+1] =  1.6810739999999997\n",
            " s =  2 : y[j+1][s+1] =  1.6818073999999998\n",
            "j =  1 | x =  0.4 | y =  1.682\n",
            "------------------------\n"
          ],
          "name": "stdout"
        },
        {
          "output_type": "execute_result",
          "data": {
            "text/plain": [
              "([0, 0.2, 0.4], [1, 1.267, 1.682])"
            ]
          },
          "metadata": {
            "tags": []
          },
          "execution_count": 22
        }
      ]
    },
    {
      "cell_type": "markdown",
      "metadata": {
        "id": "lywZRC6vZCxi"
      },
      "source": [
        "### (b) Modified Euler Method (improved) $y_{j+1} = hf(x_j+\\frac{h}{2}, y_j+\\frac{h}{2}f(x_j,y_j))$\n"
      ]
    },
    {
      "cell_type": "markdown",
      "metadata": {
        "id": "pkTGLFuWzdag"
      },
      "source": [
        "##6. <ins>Mid-Point Method/ Nyström Method</ins>: $y_{j+1} = y_{j-1} +2hf_j$"
      ]
    },
    {
      "cell_type": "markdown",
      "metadata": {
        "id": "2LQYiHxvzgsv"
      },
      "source": [
        "This is a *2-step* (multistep), **2nd order**, **explicit** method.\n",
        "\n",
        "According to the Mid-Point Method,\n",
        "\n",
        "$\\boxed{y_{j+1} = y_{j-1} + 2{h}[f(x_{j}, y_{j})] + O(h^2) };\\hspace{3mm}j = 0,1,...,N-1$\n",
        "\n",
        "Given a $y_{j-1} \\text{ we calculate } y_{j} \\text{ from the Taylor Series Method/ Forward Euler method }.$\n"
      ]
    },
    {
      "cell_type": "markdown",
      "metadata": {
        "id": "1yx2midPmmrW"
      },
      "source": [
        "In python we have to enter all the higher order derivative terms. This procedure is much simpler to code out on Mathematica. "
      ]
    },
    {
      "cell_type": "code",
      "metadata": {
        "id": "8sAJL8y8gU1I"
      },
      "source": [
        "# @title Taylor Code\n",
        "def Taylor(order, flist, x_0, y_0, h, x_max,roundoff = 8):\n",
        "  print(\"Taylor Series Approximation of Order \",order)\n",
        "  if len(flist)!= order:  \n",
        "    print(\"Enter the function list with sufficient number of derivatives.\")\n",
        "    return\n",
        "  steps = int((x_max-x_0)/h)\n",
        "  y = y_0\n",
        "  x = x_0\n",
        "  for i in range(steps):\n",
        "    y_curr = y\n",
        "    for k in range(len(flist)):\n",
        "      print((h**(k+1))*flist[k](x,y_curr)/fact(k+1))\n",
        "      y += (h**(k+1))*flist[k](x,y_curr)/fact(k+1)\n",
        "    x += h\n",
        "    y = round(y,5)\n",
        "    print(i,\": y(\",x,\") = \",y)\n",
        "  print(\"------------------------\")\n",
        "  return y"
      ],
      "execution_count": null,
      "outputs": []
    },
    {
      "cell_type": "code",
      "metadata": {
        "colab": {
          "base_uri": "https://localhost:8080/"
        },
        "id": "kg8ngjvxKsq2",
        "outputId": "ec34a06b-63c0-4d06-9b20-6cfc0f077fbf"
      },
      "source": [
        "f = lambda x, y : x*y\n",
        "f_ = lambda x, y : y + x*x*y\n",
        "f__ = lambda x, y : 2*x*y + x*(y + x*x*y)\n",
        "f___ = lambda x, y : 3*(y + x*x*y) + x*(2*x*y + x*(y + x*x*y))\n",
        "Taylor(4,[f,f_,f__,f___], 0, 1, 0.1,0.1)"
      ],
      "execution_count": null,
      "outputs": [
        {
          "output_type": "stream",
          "text": [
            "Taylor Series Approximation of Order  4\n",
            "0.0\n",
            "0.005000000000000001\n",
            "0.0\n",
            "1.25e-05\n",
            "0 : y( 0.1 ) =  1.0050124999999999\n",
            "------------------------\n"
          ],
          "name": "stdout"
        },
        {
          "output_type": "execute_result",
          "data": {
            "text/plain": [
              "1.0050124999999999"
            ]
          },
          "metadata": {
            "tags": []
          },
          "execution_count": 24
        }
      ]
    },
    {
      "cell_type": "code",
      "metadata": {
        "id": "mJVnpBmInJwz",
        "cellView": "form"
      },
      "source": [
        "# @title Mid Point Method Code\n",
        "def MPM(f, x_0, y_0, y_1, x_max, h):\n",
        "  print(\"Mid Point Method\")\n",
        "  count = 0\n",
        "  x = [x_0,x_0+h,x_0+2*h]\n",
        "  y = [y_0, y_1,0]\n",
        "\n",
        "  Ylist = [y[0],y[1]]\n",
        "  Xlist = [x[0],x[1]]\n",
        "  while x[2] <= x_max:\n",
        "    fnc = f(x[1],y[1])\n",
        "    y[2] = y[0] + 2*h*fnc\n",
        "    Xlist.append(x[2])\n",
        "    Ylist.append(y[2])\n",
        "    print(\"j = \",count+1,\": y(\",x[0],\") = \",y[0],\"| y(\",x[1],\") = \",y[1],\"| y(\",x[2],\") = \",y[2])\n",
        "    for k in range(3):  x[k] += h\n",
        "    y[0] = y[1]\n",
        "    y[1] = y[2]\n",
        "    count+=1\n",
        "  print(\"------------------------\")\n",
        "  return Xlist,Ylist"
      ],
      "execution_count": null,
      "outputs": []
    },
    {
      "cell_type": "markdown",
      "metadata": {
        "id": "ILkluvIzJQUR"
      },
      "source": [
        "### Questions on MPM"
      ]
    },
    {
      "cell_type": "markdown",
      "metadata": {
        "id": "6OqyE_AFqx0P"
      },
      "source": [
        "Q1. Solve the IVP:\n",
        "\n",
        "$u' = -2tu^2, u(0) = 1\\\\ \n",
        "\\text{with h= 0.2, on the interval [0,1] using the mid-point method.}$"
      ]
    },
    {
      "cell_type": "code",
      "metadata": {
        "colab": {
          "base_uri": "https://localhost:8080/"
        },
        "id": "U2azB42TjrlH",
        "outputId": "e781bc4b-5096-4f28-91cd-c2cc6fdecadb"
      },
      "source": [
        "f = lambda x, y : -2*x*(y**2)\n",
        "f_ = lambda x, y : -2*x*(2*y)*(-2*x*(y**2)) -2*(y**2)\n",
        "x_0, x_max = 0, 1\n",
        "y_0 = 1\n",
        "h = 0.2\n",
        "y_1 = Taylor(2,[f,f_], x_0, y_0, h,1)\n",
        "X1, Y1 = MPM(f, x_0, y_0, y_1, x_max, h)"
      ],
      "execution_count": null,
      "outputs": [
        {
          "output_type": "stream",
          "text": [
            "Taylor Series Approximation of Order  2\n",
            "0.0\n",
            "-0.04000000000000001\n",
            "0 : y( 0.2 ) =  0.96\n",
            "-0.073728\n",
            "-0.031201689600000006\n",
            "1 : y( 0.4 ) =  0.8550703103999999\n",
            "-0.11698323771640835\n",
            "-0.013241186487379486\n",
            "2 : y( 0.6000000000000001 ) =  0.724845886196212\n",
            "-0.1260963740965373\n",
            "0.0009200427773291999\n",
            "3 : y( 0.8 ) =  0.5996695548770039\n",
            "-0.1150731440148429\n",
            "0.007697732534041667\n",
            "4 : y( 1.0 ) =  0.49229414339620264\n",
            "------------------------\n",
            "j =  1 : y( 0 ) =  1 | y( 0.2 ) =  0.49229414339620264 | y( 0.4 ) =  0.9612234362204478\n",
            "j =  2 : y( 0.2 ) =  0.49229414339620264 | y( 0.4 ) =  0.9612234362204478 | y( 0.6000000000000001 ) =  0.19662998520758013\n",
            "j =  3 : y( 0.4 ) =  0.9612234362204478 | y( 0.6000000000000001 ) =  0.19662998520758013 | y( 0.8 ) =  0.9426650277007359\n",
            "j =  4 : y( 0.6000000000000001 ) =  0.19662998520758013 | y( 0.8 ) =  0.9426650277007359 | y( 1.0 ) =  -0.3720851216404386\n",
            "------------------------\n"
          ],
          "name": "stdout"
        }
      ]
    },
    {
      "cell_type": "markdown",
      "metadata": {
        "id": "8fpiad9xeDRI"
      },
      "source": [
        "Exact solution is $u(t) = 1/(1+t^2)$"
      ]
    },
    {
      "cell_type": "code",
      "metadata": {
        "id": "uKz3tuxpJK0X"
      },
      "source": [
        "x = x_0 # y = 1/(1+x**2)\n",
        "Xex = [x]\n",
        "Yex = [y_0]\n",
        "h = 0.01\n",
        "while x < 1:\n",
        "  x += h\n",
        "  Xex.append(x)\n",
        "  Yex.append(1/(1+x**2))"
      ],
      "execution_count": null,
      "outputs": []
    },
    {
      "cell_type": "code",
      "metadata": {
        "colab": {
          "base_uri": "https://localhost:8080/",
          "height": 480
        },
        "id": "dFPMWlwdz5YK",
        "cellView": "form",
        "outputId": "29d442bd-d189-4a20-d1b3-7ca55f7d4365"
      },
      "source": [
        "# @title\n",
        "#Plotting Solution:\n",
        "fig1 = plt.figure(figsize=[6,6])\n",
        "a1 = fig1.add_axes([0,0,1,1])\n",
        "plt.grid(linestyle = 'dashed')\n",
        "a1.plot(X1,Y1,color = \"limegreen\", linestyle = '-', label = 'h = '+str(0.2))\n",
        "a1.scatter(X1,Y1,color = \"limegreen\")\n",
        "a1.plot(Xex,Yex,color = \"black\", linestyle = '-',label = 'exact solution')\n",
        "leg = a1.legend();"
      ],
      "execution_count": null,
      "outputs": [
        {
          "output_type": "display_data",
          "data": {
            "image/png": "[encoded data removed]",
            "text/plain": [
              "<Figure size 432x432 with 1 Axes>"
            ]
          },
          "metadata": {
            "tags": [],
            "needs_background": "light"
          }
        }
      ]
    },
    {
      "cell_type": "markdown",
      "metadata": {
        "id": "diRMjN2pDdoQ"
      },
      "source": [
        "## <ins>Runge Kutta Methods</ins>"
      ]
    },
    {
      "cell_type": "markdown",
      "metadata": {
        "id": "Mt6P1j1YSrzY"
      },
      "source": [
        "RK methods do not require computation of higher order derivatives manually, unlike the Taylor Series method. \n",
        "\n",
        "Derivation of RK method:\n",
        "\n",
        "Integrating the differential equation $y' = f(x,y)$ on the interval $[x_j,x_{j+1}]$, we get\n",
        "\n",
        "$\\int_{x_j}^{x_{j+1}}\\frac{dy}{dx}dx = \\int_{x_j}^{x_{j+1}}f(x,y)dx$\n",
        "\n",
        "By mean value theorem of calculus, we get \n",
        "> $y(x_{j+1}) = y(x_j) + hf(x_j+\\theta h, y(x_j+\\theta h))\\hspace{10mm}|0<\\theta<1$\n",
        "\n",
        "> Case $\\theta = 0$: $y(x_{j+1}) = y(x_j) + hf(x_j, y(x_j)) = y_j +hf(x_j,y_j)\\hspace{10mm}|\\text{Forward Euler method}$\n",
        "\n",
        "> Case $\\theta = 1$: $y(x_{j+1}) = y(x_j) + hf(x_{j+1}, y(x_{j+1})) = y_j +hf(x_{j+1},y_{j+1})\\hspace{8mm}|\\text{Backward Euler method}$\n",
        "\n",
        "> Case $\\theta = 1/2$: $y(x_{j+1}) = y(x_j) + hf(x_{j} +\\frac{h}{2}, y(x_{j}+\\frac{h}{2})) \\approx y_j +\\frac{1}{2}[K_1 +K_2]\\hspace{8mm}|\\text{Euler Cauchy method}\\\\\n",
        "\\text{ where } K_1 = hf_j ;\\hspace{5mm} K_2 = hf(x_{j+1}, y_j+K_1)$\n",
        "\n",
        "Euler Cauchy method formula can be proved by using mean approximation and Euler method.\n",
        "\n",
        "\n"
      ]
    },
    {
      "cell_type": "code",
      "metadata": {
        "id": "5UjflHxWY_y_"
      },
      "source": [
        "# @title Euler Cauchy Code (Heun Method)\n",
        "def ECauchy(f, x_i, y_i, x_max, h):\n",
        "  print(\"Euler Cauchy Method\")\n",
        "  k1 = lambda x,y : h*f(x,y)\n",
        "  k2 = lambda x,y : h*f(x + h,y + 1*k1(x,y))\n",
        "  k2_ = lambda x,y, K1 : h*f(x + h,y + 1*K1)\n",
        "  count = 0\n",
        "  x = x_i\n",
        "  y = y_i\n",
        "  Ylist = [y_i]\n",
        "  Xlist = [x_i]\n",
        "  while x < x_max:\n",
        "    fnc = f(x,y)\n",
        "    K1 = k1(x,y)\n",
        "    K2 = k2_(x,y,K1)\n",
        "    y = y + (K1+K2)/2\n",
        "    x = round(x+h, 5) \n",
        "    Xlist.append(x)\n",
        "    Ylist.append(y)\n",
        "    print(\"j = \",count,\"K1 = \",K1,\"| K2 = \",K2,\"| x = \",x,\"| y = \", y,\"| y' = f(\",x,\",\",y,\") = \", fnc)\n",
        "    count+=1\n",
        "  print(\"------------------------\")\n",
        "  return Xlist,Ylist"
      ],
      "execution_count": null,
      "outputs": []
    },
    {
      "cell_type": "code",
      "metadata": {
        "colab": {
          "base_uri": "https://localhost:8080/"
        },
        "id": "c-iVhN1w-jwQ",
        "outputId": "d8b7deec-b3a6-4b47-e40b-b10a84534908"
      },
      "source": [
        "x_i, x_max = 0, 0.2\n",
        "y_i = 1\n",
        "h = 0.1\n",
        "f = lambda x, y : x+y\n",
        "\n",
        "ECauchy(f, x_i, y_i, x_max, h)"
      ],
      "execution_count": null,
      "outputs": [
        {
          "output_type": "stream",
          "text": [
            "j =  0 K1 =  0.1 | K2 =  0.12000000000000002 | x =  0.1 | y =  1.11 | y' = f( 0.1 , 1.11 ) =  1\n",
            "j =  1 K1 =  0.12100000000000002 | K2 =  0.1431 | x =  0.2 | y =  1.24205 | y' = f( 0.2 , 1.24205 ) =  1.2100000000000002\n",
            "------------------------\n"
          ],
          "name": "stdout"
        },
        {
          "output_type": "execute_result",
          "data": {
            "text/plain": [
              "([0, 0.1, 0.2], [1, 1.11, 1.24205])"
            ]
          },
          "metadata": {
            "tags": []
          },
          "execution_count": 21
        }
      ]
    },
    {
      "cell_type": "code",
      "metadata": {
        "id": "X1ajD8qE87D0"
      },
      "source": [
        "x_i, x_max = 0, 0.4\n",
        "y_i = 1\n",
        "h = 0.2\n",
        "f = lambda x, y : -2*x*y**2\n",
        "\n",
        "ECauchy(f, x_i, y_i, x_max, h)"
      ],
      "execution_count": null,
      "outputs": []
    },
    {
      "cell_type": "code",
      "metadata": {
        "colab": {
          "base_uri": "https://localhost:8080/"
        },
        "id": "6LHVTVgnUp7K",
        "outputId": "f0a93ed1-57b6-48b2-eb81-31cd4a803c15"
      },
      "source": [
        "# EULER CAUCHY METHOD\n",
        "x_i, x_max = 0, 0.4\n",
        "y_i = 1\n",
        "h = 0.2\n",
        "f = lambda x, y : -2*x*y**2\n",
        "\n",
        "ECauchy(f, x_i, y_i, x_max, h)"
      ],
      "execution_count": null,
      "outputs": [
        {
          "output_type": "stream",
          "text": [
            "j =  0 K1 =  0.0 | K2 =  -0.08000000000000002 | x =  0.2 | y =  0.96 | y' = f( 0.2 , 0.96 ) =  0\n",
            "j =  1 K1 =  -0.073728 | K2 =  -0.12567648927744 | x =  0.4 | y =  0.86029775536128 | y' = f( 0.4 , 0.86029775536128 ) =  -0.36864\n",
            "------------------------\n"
          ],
          "name": "stdout"
        },
        {
          "output_type": "execute_result",
          "data": {
            "text/plain": [
              "([0, 0.2, 0.4], [1, 0.96, 0.86029775536128])"
            ]
          },
          "metadata": {
            "tags": []
          },
          "execution_count": 4
        }
      ]
    },
    {
      "cell_type": "markdown",
      "metadata": {
        "id": "-CPD2AYfbVuB"
      },
      "source": [
        "___\n",
        "RK methods use a *weight average* of slopes on the given interval [$x_j,x_{j+1}$] instead of a single slope (i.e. slope at a single point in the interval).\n",
        "\n",
        "RK method with v-slopes on [$x_j,x_{j+1}$] is written as $y_{j+1} = y_{j} + W_1K_1+ W_2K_2+...+W_vK_v$\n",
        "where\n",
        "\n",
        "$K_1 = hf(x_j+c_1h, y_j+a_{11}K_1+ a_{12}K_2+...+a_{1v}K_v)\\\\\n",
        "K_2 = hf(x_j+c_2h, y_j+a_{21}K_1+ a_{22}K_2+...+a_{2v}K_v)\\\\\n",
        "...\\\\\n",
        "K_v = hf(x_j+c_vh, y_j+a_{v1}K_1+ a_{v2}K_2+...+a_{vv}K_v)$\n",
        "\n",
        "This is also called the v-stage RK method ($ W_i's,c_i's , a_i's $) are yet to be determined based on the desired order of the method. \n",
        "\n",
        "The $a_i's$ can be represented using the coefficient matrix $A = \\begin{pmatrix}a_{11} & a_{12} & ... &a_{1v} \n",
        "\\\\a_{21} & a_{22} & ... &a_{2v} \n",
        "\\\\... & ... & ... &... \n",
        "\\\\a_{v1} & a_{v2} & ... &a_{vv} \\end{pmatrix} $\n",
        "\n",
        "If we set all the elements of $A$ on the diagonal and upper triangular part to zero, we get the **explicit methods** where - <br>\n",
        "\n",
        "$K_1 = hf(x_j, y_j)\\\\\n",
        "K_2 = hf(x_j+c_2h, y_j+a_{21}K_1)\\\\\n",
        "K_3 = hf(x_j+c_2h, y_j+a_{31}K_1+a_{32}K_2+a_{33}K_3)\\\\\n",
        "...\\\\\n",
        "K_v = hf(x_j+c_vh, y_j+a_{v1}K_1+ a_{v2}K_2+...+a_{v,v-1}K_v)$\n",
        "\n",
        "\n"
      ]
    },
    {
      "cell_type": "markdown",
      "metadata": {
        "id": "IlKfo6czST4w"
      },
      "source": [
        "## <ins>Explicit RK Methods</ins>"
      ]
    },
    {
      "cell_type": "markdown",
      "metadata": {
        "id": "Wg-vt1f2Sgzl"
      },
      "source": [
        "### 2nd Order RK Method (Explicit)"
      ]
    },
    {
      "cell_type": "markdown",
      "metadata": {
        "id": "lskJOmFeSphQ"
      },
      "source": [
        "$y_{j+1} = y_{j} + W_1K_1 + W_2K_2$\n",
        "\n",
        "$K_1 = hf(x_j, y_j) \\\\\n",
        "K_2 = hf(x_j + c_2h, y_j + a_{21}K_1)$\n",
        "\n",
        "We choose the unknown parameters $W_1, W_2, c_2, a_{21}$ s.t. $y_{j+1}$ is closer to $y(x_{j+1})$\n",
        "\n",
        "We find the Taylor Series expansion about $x_j$, which ultimately gives us:\n",
        "\n",
        "$W_1 +W_2 = 1\\\\\n",
        "c_2W_2 = 1/2\\\\\n",
        "a_{21}W_2 = 1/2$\n",
        "\n",
        "So we get $a_{21} = c_{2}, W_2 = \\frac{1}{2c_2}, W_1 = 1-\\frac{1}{2c_2}$\n",
        "\n",
        "The choice of $c_2$ is arbitrary, $c_2\\in(0, 1]$.\n",
        "\n",
        "For convenience, a value is chosen such that one of the $W_i$s becomes 0."
      ]
    },
    {
      "cell_type": "markdown",
      "metadata": {
        "id": "7YpdrUS5VXD1"
      },
      "source": [
        "###Modified Euler Cauchy"
      ]
    },
    {
      "cell_type": "markdown",
      "metadata": {
        "id": "xoxbxjWKWOn4"
      },
      "source": [
        "This method is obtained by setting $c_2 = 1/2$, which makes $W_1 = 0$.\n",
        "\n",
        "$y_{j+1} = y_j + K_2\\\\\n",
        "K1 = hf(x_j,y_j)\\\\\n",
        "K_2 = hf(x_j+\\frac{h}{2}, y_j +\\frac{K_1}{2})$.\n",
        "\n",
        "This is Euler's method with spacing h/2."
      ]
    },
    {
      "cell_type": "code",
      "metadata": {
        "id": "X7NUVZLUVFXE",
        "cellView": "form"
      },
      "source": [
        "# @title Modified Euler Cauchy Code\n",
        "def MECauchy(f, x_i, y_i, x_max, h):\n",
        "  print(\"Modified Euler Cauchy Method\")\n",
        "  k1 = lambda x,y : h*f(x,y)\n",
        "  k2 = lambda x,y : h*f(x + h/2,y + k1(x,y)/2)\n",
        "  k2_ = lambda x,y, K1 : h*f(x + h/2,y + K1/2)\n",
        "  count = 0\n",
        "  x = x_i\n",
        "  y = y_i\n",
        "  Ylist = [y_i]\n",
        "  Xlist = [x_i]\n",
        "  while x < x_max:\n",
        "    fnc = f(x,y)\n",
        "    K1 = k1(x,y)\n",
        "    K2 = k2_(x,y,K1)\n",
        "    y = y + K2\n",
        "    x = round(x+h, 5) \n",
        "    Xlist.append(x)\n",
        "    Ylist.append(y)\n",
        "    print(\"j = \",count,\"K1 = \",K1,\"| K2 = \",K2,\"| x = \",x,\"| y = \", y,\"| y' = f(\",x,\",\",y,\") = \", fnc)\n",
        "    count+=1\n",
        "  print(\"------------------------\")\n",
        "  return Xlist,Ylist"
      ],
      "execution_count": null,
      "outputs": []
    },
    {
      "cell_type": "code",
      "metadata": {
        "colab": {
          "base_uri": "https://localhost:8080/"
        },
        "id": "CZl8r4HsVrcJ",
        "outputId": "2f85c67e-228e-4165-e76c-b50bcac033fc"
      },
      "source": [
        "# MODIFIED EULER CAUCHY METHOD\n",
        "x_i, x_max = 0, 0.4\n",
        "y_i = 1\n",
        "h = 0.2\n",
        "f = lambda x, y : -2*x*y**2\n",
        "\n",
        "MECauchy(f, x_i, y_i, x_max, h)"
      ],
      "execution_count": null,
      "outputs": [
        {
          "output_type": "stream",
          "text": [
            "j =  0 K1 =  0.0 | K2 =  -0.04000000000000001 | x =  0.2 | y =  0.96 | y' = f( 0.2 , 0.96 ) =  0\n",
            "j =  1 K1 =  -0.073728 | K2 =  -0.10226160893952002 | x =  0.4 | y =  0.8577383910604799 | y' = f( 0.4 , 0.8577383910604799 ) =  -0.36864\n",
            "------------------------\n"
          ],
          "name": "stdout"
        },
        {
          "output_type": "execute_result",
          "data": {
            "text/plain": [
              "([0, 0.2, 0.4], [1, 0.96, 0.8577383910604799])"
            ]
          },
          "metadata": {
            "tags": []
          },
          "execution_count": 95
        }
      ]
    },
    {
      "cell_type": "markdown",
      "metadata": {
        "id": "-OrI9nMogu3H"
      },
      "source": [
        "###General 2nd Order Explicit RK"
      ]
    },
    {
      "cell_type": "code",
      "metadata": {
        "id": "UD82r2bfgnZT"
      },
      "source": [
        "#@title 2nd ORDER RK (Explicit,General) Code\n",
        "def RK2(f, x_i, y_i, x_max, h, c2 = 1/2):\n",
        "  print(\"2nd ORDER RK (Explicit) Method\")\n",
        "  W2 = 1/2/c2\n",
        "  W1 = 1-W2\n",
        "  k1 = lambda x,y : h*f(x,y)\n",
        "  k2 = lambda x,y : h*f(x + c2*h,y + c2*k1(x,y))\n",
        "  k2_ = lambda x,y, K1 : h*f(x + c2*h,y + c2*K1)\n",
        "  count = 0\n",
        "  x = x_i\n",
        "  y = y_i\n",
        "  Ylist = [y_i]\n",
        "  Xlist = [x_i]\n",
        "  steps = int((x_max-x_i)/h)\n",
        "  while count < steps:\n",
        "    fnc = f(x,y)\n",
        "    K1 = k1(x,y)\n",
        "    K2 = k2_(x,y,K1)\n",
        "    y = y + W1*K1+W2*K2\n",
        "    x = round(x+h, 5) \n",
        "    Xlist.append(x)\n",
        "    Ylist.append(y)\n",
        "    print(\"j = \",count,\"K1 = \",K1,\"| K2 = \",K2,\"| x = \",x,\"| y = \", y)#,\"| y' = f(\",x,\",\",y,\") = \", fnc)\n",
        "    count+=1\n",
        "  print(\"------------------------\")\n",
        "  return Xlist,Ylist"
      ],
      "execution_count": null,
      "outputs": []
    },
    {
      "cell_type": "code",
      "metadata": {
        "colab": {
          "base_uri": "https://localhost:8080/"
        },
        "id": "44DGXx8vhkNi",
        "outputId": "7f090a2a-8441-4d3f-f0a7-4d3c3963b37c"
      },
      "source": [
        "#2nd ORDER RUNGE KUTTA : General\n",
        "x_i, x_max = 0, 0.4\n",
        "y_i = 1\n",
        "h = 0.2\n",
        "f = lambda x, y : -2*x*y**2\n",
        "c2 = 1/2\n",
        "RK2(f, x_i, y_i, x_max, h)"
      ],
      "execution_count": null,
      "outputs": [
        {
          "output_type": "stream",
          "text": [
            "2nd ORDER RK (Explicit) Method\n",
            "j =  0 K1 =  0.0 | K2 =  -0.04000000000000001 | x =  0.2 | y =  0.96\n",
            "j =  1 K1 =  -0.073728 | K2 =  -0.10226160893952002 | x =  0.4 | y =  0.8577383910604799\n",
            "------------------------\n"
          ],
          "name": "stdout"
        },
        {
          "output_type": "execute_result",
          "data": {
            "text/plain": [
              "([0, 0.2, 0.4], [1, 0.96, 0.8577383910604799])"
            ]
          },
          "metadata": {
            "tags": []
          },
          "execution_count": 15
        }
      ]
    },
    {
      "cell_type": "markdown",
      "metadata": {
        "id": "aCEBeJTdXVSp"
      },
      "source": [
        "###4th Order RK Method (Explicit) : $𝑢_{𝑗+1}=𝑢_𝑗+(𝐾_1+2𝐾_2+2𝐾_3+𝐾_4)/6$"
      ]
    },
    {
      "cell_type": "markdown",
      "metadata": {
        "id": "u5zZzt74XYPT"
      },
      "source": [
        "$y_{j+1} = y_{j} + W_1K_1 + W_2K_2+ W_3K_3 + W_4K_4$\n",
        "\n",
        "$K_1 = hf(x_j, y_j) \\\\\n",
        "K_2 = hf(x_j + c_2h, y_j + a_{21}K_1)\\\\\n",
        "K_3 = hf(x_j + c_3h, y_j + a_{31}K_1+ a_{32}K_2)\\\\\n",
        "K_4 = hf(x_j + c_4h, y_j + a_{41}K_1+ a_{42}K_2+a_{43}K_3)$\n",
        "\n",
        "We choose the unknown parameters $W_1, W_2,W_3, W_4, c_2,c_3,c_4, a_{21},a_{31},a_{32},a_{41},a_{42},a_{43}$ s.t. $y_{j+1}$ is closer to $y(x_{j+1})$.\n",
        "\n",
        "We find the Taylor Series expansion about $x_j$, which ultimately gives us:\n",
        "\n",
        "$c_2 = a_{21}\\\\\n",
        "c_3 = a_{31}+a_{32}\\\\\n",
        "c_4 = a_{41}+a_{42}+a_{43}\\\\\n",
        "W_1 +W_2+W_3 +W_4 = 1\\\\\n",
        "c_2W_2+c_3W_3+c_4W_4 = 1/2\\\\\n",
        "c_2^2W_2+c_3^2W_3+c_4^2W_4 = 1/3\\\\\n",
        "c_{2}a_{32}W_3+(c_{2}a_{42}+c_{3}a_{43})W_4 = 1/6\\\\\n",
        "c_2^3W_2+c_3^3W_3+c_4^3W_4 = 1/4\\\\...$\n",
        "\n",
        "We end up with 11 equations and 13 unknowns, leaving 2 arbitrary parameters. \n",
        "\n",
        "Since the terms upto $O(h^4)$ are compared the truncation error is of $O(h^5)$ and the order of the method is 4. \n",
        "\n",
        "The simplest solution is-<br>\n",
        "$c_2=c_3=1/2, c_4 = 1,\\\\\n",
        "W_2 = W_3 = 1/3,\\\\\n",
        "W_1 = W_4 = 1/6,\\\\\n",
        "a_{21} = 1/2,a_{31} = 0,a_{32} = 1/2,a_{41} = a_{42} = 0,a_{43} = 1$\n",
        "<br><br>\n",
        "The 4th order explicit RK method is:\n",
        "$\n",
        "u_{j+1} = u_{j} +\\frac{1}{6}(K_1+2K_2+2K_3+K_4)\\\\\n",
        "K1 = hf(x_j,y_j)\\\\\n",
        "K2 = hf(x_j + h/2,y_j + K_1/2)\\\\\n",
        "K3 = hf(x_j + h/2,y_j + K_2/2)\\\\\n",
        "K4 = hf(x_j+h,y_j+K_3)\n",
        "$\n"
      ]
    },
    {
      "cell_type": "code",
      "metadata": {
        "id": "8EW0gC8ecz6J",
        "cellView": "form"
      },
      "source": [
        "#@title 4th ORDER RUNGE KUTTA CODE\n",
        "\n",
        "def RK4(f, x_i, y_i, x_max, h):\n",
        "  k1 = lambda x,y : h*f(x,y)\n",
        "  k2 = lambda x,y : h*f(x + h/2,y + k1(x,y)/2)\n",
        "  k3 = lambda x,y : h*f(x + h/2,y + k2(x,y)/2)\n",
        "  k4 = lambda x,y : h*f(x+h,y+k3(x,y))\n",
        "  count = 0\n",
        "  x = x_i\n",
        "  y = y_i\n",
        "  Ylist = [y_i]\n",
        "  Xlist = [x_i]\n",
        "  roundoff = 7\n",
        "  while x <= x_max:\n",
        "    fnc = f(x,y)\n",
        "    k_1 = round(k1(x,y),roundoff)\n",
        "    k_2 = round(k2(x,y),roundoff)\n",
        "    k_3 = round(k3(x,y),roundoff)\n",
        "    k_4 = round(k4(x,y),roundoff)\n",
        "    # print(count)\n",
        "    print(\"j = \",count,\"K1 = \",k_1,\"| K2 = \",k_2,\"| K3 = \",k_3,\"| K4 = \",k_4,)\n",
        "    # y = y + (k1(x,y)+2*k2(x,y)+2*k3(x,y)+k4(x,y))/6\n",
        "    y = round(y + (k_1+2*k_2+2*k_3+k_4)/6, roundoff)\n",
        "    x = round(x+h, roundoff) \n",
        "    # print(\"x = \",x,\"| y = \", y,\"| y' = f(x,y) = \", fnc)\n",
        "    print(\"y(\",x,\")= \", y)#,\"| y' = f(x,y) = \", fnc)\n",
        "    Xlist.append(x)\n",
        "    Ylist.append(y)\n",
        "    count+=1\n",
        "  print(\"------------------------\")\n",
        "  return Xlist,Ylist\n",
        "\n"
      ],
      "execution_count": null,
      "outputs": []
    },
    {
      "cell_type": "code",
      "metadata": {
        "colab": {
          "base_uri": "https://localhost:8080/",
          "height": 400
        },
        "id": "kJrKUdZ2ea0y",
        "outputId": "92b2dc03-4c40-45da-fccd-1801b63f51d3"
      },
      "source": [
        "f = lambda x, y : -2*x*y**2\n",
        "x_i, x_max = 0, 0.4\n",
        "y_i = 1\n",
        "h = 0.2\n",
        "X,Y=RK4(f, x_i, y_i, x_max, h)\n",
        "\n",
        "\n",
        "#Plotting Solution:\n",
        "fig1 = plt.figure(figsize=[3,3])\n",
        "a1 = fig1.add_axes([0,0,1,1])\n",
        "plt.grid(linestyle = 'dashed')\n",
        "a1.plot(X,Y,color = \"black\", linestyle = '-')\n",
        "a1.scatter(X,Y,color = \"red\")"
      ],
      "execution_count": null,
      "outputs": [
        {
          "output_type": "stream",
          "text": [
            "j =  0 K1 =  0.0 | K2 =  -0.04 | K3 =  -0.038416 | K4 =  -0.0739715\n",
            "y( 0.2 )=  0.9615328\n",
            "j =  1 K1 =  -0.0739636 | K2 =  -0.1025753 | K3 =  -0.0994255 | K4 =  -0.1189166\n",
            "y( 0.4 )=  0.8620525\n",
            "j =  2 K1 =  -0.1189015 | K2 =  -0.1288339 | K3 =  -0.1272445 | K4 =  -0.1295863\n",
            "y( 0.6 )=  0.7352784\n",
            "------------------------\n"
          ],
          "name": "stdout"
        },
        {
          "output_type": "execute_result",
          "data": {
            "text/plain": [
              "<matplotlib.collections.PathCollection at 0x7fafbe0c63c8>"
            ]
          },
          "metadata": {
            "tags": []
          },
          "execution_count": 97
        },
        {
          "output_type": "display_data",
          "data": {
            "image/png": "[encoded data removed]",
            "text/plain": [
              "<Figure size 216x216 with 1 Axes>"
            ]
          },
          "metadata": {
            "tags": [],
            "needs_background": "light"
          }
        }
      ]
    },
    {
      "cell_type": "markdown",
      "metadata": {
        "id": "6mhRcYY8A7ik"
      },
      "source": [
        "## <ins>Implicit RK Methods with v-slopes</ins>\n",
        "\n"
      ]
    },
    {
      "cell_type": "markdown",
      "metadata": {
        "id": "iY2RU4LYBX49"
      },
      "source": [
        "Implicit RK method using v-slopes is defined as :\n",
        "\n",
        "$y_{j+1} = y_{j} + \\sum_{m=1}^{v}W_mK_m$\n",
        "<br>where<br>\n",
        "$K_i = hf(x_j +c_ih, y_j +\\sum_{m=1}^{v}a_{im}K_m)$\n",
        "<br>where<br>\n",
        "$c_i = \\sum_{j=1}^{v}a_{ij}$ , for each i, and $a_{ij}, 1\\leq i,j\\leq v, W_1,...,W_v$ are arbitrary parameters. The slopes $K_m$ are defined implicitly.\n",
        "\n",
        "The number of unknown parameters is $v.v + v = v(v+1)$"
      ]
    },
    {
      "cell_type": "markdown",
      "metadata": {
        "id": "N14qhQMdDT5F"
      },
      "source": [
        "### 2nd Order Implicit RK Method"
      ]
    },
    {
      "cell_type": "markdown",
      "metadata": {
        "id": "BT3DFaDVDnVZ"
      },
      "source": [
        "If we take v = 1 we end up with-\n",
        "\n",
        "$\\boxed{y_{j+1} = y_j + K_1}\\\\\n",
        "\\boxed{K_1 = hf(x_{j} +\\frac{1}{2}h, y_{j} + \\frac{1}{2}K_1)}$\n",
        "\n",
        "(derivation on page 457 of textbook)."
      ]
    },
    {
      "cell_type": "markdown",
      "metadata": {
        "id": "auTTgdmODobw"
      },
      "source": [
        "### 4th Order Implicit RK Method"
      ]
    },
    {
      "cell_type": "markdown",
      "metadata": {
        "id": "NtIvwLdiEW38"
      },
      "source": [
        "With v = 2, we get-\n",
        "\n",
        "$\\boxed{y_{j+1} = y_j + \\frac{K_{1} + K_2}{2}}\\\\\n",
        "\\boxed{K_1 = hf(x_{j} +\\frac{3-\\sqrt{3}}{6}h, y_{j} + \\frac{1}{4}K_1+\\frac{3-2\\sqrt{3}}{12}K_2)}\\\\\n",
        "\\boxed{K_2 = hf(x_{j} +\\frac{3+\\sqrt{3}}{6}h, y_{j} + \\frac{1}{4}K_2+\\frac{3+2\\sqrt{3}}{12}K_1)}$\n",
        "\n",
        "To obtain $K_1,K_2$, we need to solve a system of 2 nonlinear algebraic equations in two unknowns $K_1, K_2$.\n",
        "\n",
        "(derivation on page 457 of textbook)."
      ]
    },
    {
      "cell_type": "markdown",
      "metadata": {
        "id": "bieuHa2bApfj"
      },
      "source": [
        "### Mathematica Code for 4th Order Implicit RK"
      ]
    },
    {
      "cell_type": "markdown",
      "metadata": {
        "id": "CROM7oXUA801"
      },
      "source": [
        "(I'm sure there is a shortcut but I coded this out when I was new to Mathematica so this is the entire procedure using the Newton-Rhapson Method as a sub-procedure)."
      ]
    },
    {
      "cell_type": "markdown",
      "metadata": {
        "id": "lsAjskxXAt-c"
      },
      "source": [
        "```\n",
        "f[x1_,y1_] = (y1^2 + x1 y1 - x1^2)/(x1^2);\n",
        "h = 0.025;\n",
        "x = Range[1,1.5,h];\n",
        "y = Range[1,1.5,h];\n",
        "y[[1]] = 2\n",
        "j = 1;\n",
        "Kvar = {k1,k2};\n",
        "\n",
        "While[j<Length[x], \n",
        "K1[k1_,k2_] := h f[x[[j]] +(3-Sqrt[3]) h/6,y[[j]]+k1/4 + (3-2 Sqrt[3]) k2/12];\n",
        "K2[k1_,k2_] := h f[x[[j]] +(3+Sqrt[3]) h/6,y[[j]]+k2/4 + (3+2 Sqrt[3]) k1/12];\n",
        "Kfuncs = {k1 - K1[k1,k2],k2 - K2[k1,k2]};\n",
        "K[0] = Transpose[{h f[x[[j]],y[[j]]],h f[x[[j]],y[[j]]]}];\n",
        "tempK1 = K[0][[1]];tempK2 = K[0][[2]];\n",
        "(*K[1] = K[0] - Inverse[D[Kfuncs,{Kvar}]/.{ k1 -> tempK1,k2 -> tempK2}].Transpose[Kfuncs/.{ k1 -> tempK1,k2 -> tempK2}];*)\n",
        "K[1] = K[0] - Transpose[D[Kfuncs,{Kvar}]/.{ k1 -> tempK1,k2 -> tempK2}].Transpose[Kfuncs/.{ k1 -> tempK1,k2 -> tempK2}];\n",
        "n = 1;\n",
        "While[Norm[K[n]-K[n-1]] > 0.00001,\n",
        "tempK1 = K[n][[1]];tempK2 = K[n][[2]];\n",
        "n++;\n",
        "K[n] = K[n-1] - Transpose[D[Kfuncs,{Kvar}]/.{ k1 -> tempK1,k2 -> tempK2}].Transpose[Kfuncs/.{ k1 -> tempK1,k2 -> tempK2}];];\n",
        "y[[j+1]] = y[[j]] + (K[n][[1]]+K[n][[2]])/2;\n",
        "\n",
        "j++;\n",
        "]\n",
        "(******* *)\n",
        "Print[x,\"\\n\",y]\n",
        "```"
      ]
    },
    {
      "cell_type": "markdown",
      "metadata": {
        "id": "JotRG4IUDq9g"
      },
      "source": [
        "## <ins>System of Equations</ins>"
      ]
    },
    {
      "cell_type": "markdown",
      "metadata": {
        "id": "yvBvBpK8IFyt"
      },
      "source": [
        "**Reducing higher order equations to a system of equations**\n",
        "\n",
        "The nth Order ODE $y^{(n)} + a_{1}y^{(n-1)} +...+ a_{n-1}y +a_{n} = 0\\\\where\\\\y^{(i)}(a) = \\alpha_i;\\hspace{5mm}i = 0,1,...,n-1$\n",
        "\n",
        "Can be written as a system of $m$ first order IVPs:<br>\n",
        "$y_1 = y\\\\\n",
        "y_2 = \\dot{y_1}\\\\\n",
        "y_3 = \\dot{y_2}\\\\\n",
        "...\\\\\n",
        "y_{n} = \\dot{y}_{n-1}\\\\\n",
        "\\dot{y}_{n} = -( a_{1}y^{(n-1)} +...+ a_{n-1}y +a_{n}), \\text{which is an equation in (n-1) unknowns}\n",
        "$\n",
        "\n",
        "eg. $y''+2y'+y = 0; y(x=0) = A, y'(x=0)= B$\n",
        "> Let $y = u,\\hspace{10mm} y' = u' = v\n",
        "\\hspace{1mm}\\implies u' = v, \\hspace{5mm} v' = -2v-u$\n",
        "\n",
        "$\\begin{bmatrix}u \\\\ v\\end{bmatrix}' = \\begin{bmatrix}0&1\\\\-1&-2\\end{bmatrix}\\begin{bmatrix}u \\\\ v\\end{bmatrix}\\\\\n",
        "\\text{where }u(0) = A, v(0) = B$ \n",
        "\n",
        "\n",
        "___"
      ]
    },
    {
      "cell_type": "markdown",
      "metadata": {
        "id": "5CzsR84IO_H8"
      },
      "source": [
        "Ans.  For this problem, we need to use Newton-Rhapson method to iteratively solve the system of non-linear algebraic equations for $K_1, K_2$.<br>\n",
        "The Newton-Rhapson (N-R) method is as follows-\n",
        "$\\mathbf{x}^{(k+1)}=\\mathbf{x}^{(k)}-\\mathbf{J}_k^{-1}\\mathbf{F}(\\mathbf{x}^{(k)}), k = 0,1,...$,\n",
        "where $\\mathbf{J_k}$ is the Jacobian $\\mathbf{J}_k= \\begin{bmatrix}\\frac{\\partial f_1}{\\partial x_1}&\\frac{\\partial f_1}{\\partial x_2}&...\\\\ \\frac{\\partial f_2}{\\partial x_1}&\\frac{\\partial f_2}{\\partial x_2}&...\\\\...&...&...\\end{bmatrix}_{(x^{(k)})}$\n",
        "\n",
        "At each iteration we need to calculate the inverse of this matrix, which can easily be done with the . However it is the calculation of the Jacobian which becomes an issue in python.\n",
        "\n",
        "Since I wish to hard-code as few of the parts of the solution as possible, I have coded the solution for this qs on Mathematica instead, which has more easily accessible in-built functions to solve problems such as Qs3. "
      ]
    },
    {
      "cell_type": "markdown",
      "metadata": {
        "id": "AuOH4K2KpdTl"
      },
      "source": [
        "### Taylor Series Method for System of Equations"
      ]
    },
    {
      "cell_type": "markdown",
      "metadata": {
        "id": "tqGVZUFWp2KU"
      },
      "source": [
        "Pg. 451 of course textbook.\n",
        "\n",
        "$y_{j+1} = y_j + hy'_j +...+ \\frac{h^p}{p!}y^{(p)}_j$, j = 0,1,2,...N-1\n",
        "\n",
        "can be written as-\n",
        "\n",
        "$\\mathbf{y_j^{(k)}}  = \\begin{bmatrix}y_{1,j}^{(k)}\\\\y_{2,j}^{(k)}\\\\...\\\\y_{n,j}^{(k)}\\\\\\end{bmatrix}=\\begin{bmatrix}\\frac{d^{(k-1)}}{dx^{k-1}}f_1(x_j,y_{1,j},..., y_{n,j})\\\\\\frac{d^{(k-1)}}{dx^{k-1}}f_2(x_j,y_{1,j},..., y_{n,j})\\\\...\\\\\\frac{d^{(k-1)}}{dx^{k-1}}f_n(x_j,y_{1,j},..., y_{n,j})\\end{bmatrix}$\n",
        "\n",
        "In particular, Euler method (FEM) is:\n",
        "$\\mathbf{y}_{j+1} = \\mathbf{y}_j + h\\mathbf{y'}_j$, j=0,1,...,N-1"
      ]
    },
    {
      "cell_type": "markdown",
      "metadata": {
        "id": "M72HFSNtryh7"
      },
      "source": [
        "Pg 452. \n",
        "\n",
        "eg. $y'''+2y''+y'-y = cos(x), \\\\0\\leq x \\leq 1, y(0) = 0, y'(0) = 1, y''(0) = 2$<br>\n",
        "Solve using 2nd order TS. \n",
        "\n",
        "A. Take $u = y;\\hspace{5mm}u(0) = 0\\\\ u' = v = y';\\hspace{5mm}v(0) = 1\\\\v' = w = y'' = u'';\\hspace{5mm}w(0) = 2\\\\w' = -2w-v+u+cos(u) =y''';\\hspace{5mm}w'(0) = -4$\n",
        "\n",
        "In particular, Euler method (FEM) is:\n",
        "$\\mathbf{y}_{j+1} = \\mathbf{y}_j + h\\mathbf{y'}_j$\n",
        "\n",
        ">h = 1\n",
        "\n",
        "\n",
        "$\\mathbf{y'}  = \\begin{bmatrix}u\\\\v\\\\w\\end{bmatrix}'\n",
        "=\\begin{bmatrix}v\\\\w\\\\-2w-v+u+cos(u)\\end{bmatrix}\\\\\n",
        "\\mathbf{y'(0)}  = \\begin{bmatrix}u\\\\v\\\\w\\end{bmatrix}'\n",
        "=\\begin{bmatrix}v\\\\w\\\\-2w-v+u+cos(u)\\end{bmatrix}\\\\\n",
        "$\n",
        "\n",
        "\n",
        "\n",
        "\n",
        "\n"
      ]
    },
    {
      "cell_type": "markdown",
      "metadata": {
        "id": "up2-LJh91Jzj"
      },
      "source": [
        "### Euler Cauchy Method for System of Equations"
      ]
    },
    {
      "cell_type": "code",
      "metadata": {
        "id": "XVgaxMHr1Pfz"
      },
      "source": [
        "##@title Euler Cauchy Code\n",
        "def ECSystem(f, x_i, y_i, x_max, h):\n",
        "  print(\"Euler Cauchy Method\")\n",
        "  k1 = lambda x,y : np.array([h*f[j](x,y) for j in range(len(x_i))])\n",
        "  k2 = lambda x,y : np.array([h*f[j](x + h,y + k1(x,y)) for j in range(len(x_i))])\n",
        "  count = 0\n",
        "  x, y = x_i, y_i\n",
        "  Ylist = [y_i]\n",
        "  Xlist = [x_i]\n",
        "  steps = int((x_max[0] - x_i[0])/h)\n",
        "  while count < steps:\n",
        "    k_1 = k1(x,y)\n",
        "    k_2 = k2(x,y)\n",
        "    y = y + (k_1+k_2)/2\n",
        "    x = x+h\n",
        "    Xlist.append(x)\n",
        "    Ylist.append(y)\n",
        "    print(\"j = \",count,\"K1 = \",k_1,\"| K2 = \",k_2,\"| x = \",x,\"| y = \", y)\n",
        "    count+=1\n",
        "  print(\"------------------------\")\n",
        "  return Xlist,Ylist"
      ],
      "execution_count": null,
      "outputs": []
    },
    {
      "cell_type": "code",
      "metadata": {
        "colab": {
          "base_uri": "https://localhost:8080/"
        },
        "id": "qWaA96wr2g0H",
        "outputId": "72b3e36e-6b2c-420e-eaae-7a79d5abbd80"
      },
      "source": [
        "#Eg. Euler Cauchy for a System of Equations \n",
        "x_i, x_max = np.array([0,0]), np.array([0.4,0.4])\n",
        "y_i = np.array([0,0.5])\n",
        "h = 0.2\n",
        "f = [lambda x, y :-3*y[0]+2*y[1],lambda x, y : 3*y[0]-4*y[1]]\n",
        "\n",
        "X1,Y1 = ECSystem(f, x_i, y_i, x_max, h)"
      ],
      "execution_count": null,
      "outputs": [
        {
          "output_type": "stream",
          "text": [
            "Euler Cauchy Method\n",
            "j =  0 K1 =  [ 0.2 -0.4] | K2 =  [-0.08  0.04] | x =  [0.2 0.2] | y =  [0.06 0.32]\n",
            "j =  1 K1 =  [ 0.092 -0.22 ] | K2 =  [-0.0512  0.0112] | x =  [0.4 0.4] | y =  [0.0804 0.2156]\n",
            "------------------------\n"
          ],
          "name": "stdout"
        }
      ]
    },
    {
      "cell_type": "markdown",
      "metadata": {
        "id": "-Tx3IOTVpnVL"
      },
      "source": [
        "### 2nd Order RK Method for System of Equations"
      ]
    },
    {
      "cell_type": "code",
      "metadata": {
        "id": "opjg-aCthWTi"
      },
      "source": [
        "##@title 2nd ORDER RUNGE KUTTA CODE (system of eqs) Code\n",
        "def RK2System(f, x_i, y_i, x_max, h,c2 = 1/2):\n",
        "  print(\"2nd ORDER RK (Explicit) Method\")\n",
        "  W2 = 1/2/c2\n",
        "  W1 = 1-W2\n",
        "  k1 = lambda x,y : np.array([h*f[j](x,y) for j in range(len(x_i))])\n",
        "  k2 = lambda x,y : np.array([h*f[j](x + c2*h,y + c2*k1(x,y)) for j in range(len(x_i))])\n",
        "  count = 0\n",
        "  x, y = x_i, y_i\n",
        "  Ylist = [y_i]\n",
        "  Xlist = [x_i]\n",
        "  steps = int((x_max[0] - x_i[0])/h)\n",
        "  while count < steps:\n",
        "    k_1 = k1(x,y)\n",
        "    k_2 = k2(x,y)\n",
        "    y = np.array(y + W1*k_1+W2*k_2)\n",
        "    x = np.array(x+h)\n",
        "    print(\"j = \",count,\"K1 = \",k_1,\"| K2 = \",k_2,\"| x = \",x,\"| y = \", y)\n",
        "    Xlist.append(x)\n",
        "    Ylist.append(y)\n",
        "    count+=1\n",
        "  print(\"------------------------\")\n",
        "  return Xlist,Ylist"
      ],
      "execution_count": null,
      "outputs": []
    },
    {
      "cell_type": "code",
      "metadata": {
        "colab": {
          "base_uri": "https://localhost:8080/"
        },
        "id": "3K2tyGY6thEf",
        "outputId": "5412638b-dd0b-443f-845f-55b800f5ef24"
      },
      "source": [
        "x_i, x_max = np.array([0,0]), np.array([1,1])\n",
        "y_i = np.array([0,0])\n",
        "h = 0.2\n",
        "f = [lambda x, y : y[1],lambda x, y : y[0] + x]\n",
        "\n",
        "X1,Y1 = RK2System(f, x_i, y_i, x_max, h)"
      ],
      "execution_count": null,
      "outputs": [
        {
          "output_type": "stream",
          "text": [
            "2nd ORDER RK (Explicit) Method\n",
            "j =  0 K1 =  [0.0 array([0., 0.])] | K2 =  [[0.   0.  ]\n",
            " [0.02 0.02]] | x =  [0.2 0.2] | y =  [[0.0 array([0., 0.])]\n",
            " [0.020000000000000004 array([0.02, 0.02])]]\n",
            "j =  1 K1 =  [[0.004000000000000001 array([0.004, 0.004])]\n",
            " [0.04000000000000001 array([0.04, 0.04])]] | K2 =  [[0.008000000000000002 array([0.008, 0.008])]\n",
            " [0.06040000000000001 array([0.0604, 0.0604])]] | x =  [0.4 0.4] | y =  [[0.008000000000000002 array([0.008, 0.008])]\n",
            " [0.08040000000000001 array([0.0804, 0.0804])]]\n",
            "j =  2 K1 =  [[0.016080000000000004 array([0.01608, 0.01608])]\n",
            " [0.0816 array([0.0816, 0.0816])]] | K2 =  [[0.024240000000000005 array([0.02424, 0.02424])]\n",
            " [0.10320800000000002 array([0.103208, 0.103208])]] | x =  [0.6 0.6] | y =  [[0.032240000000000005 array([0.03224, 0.03224])]\n",
            " [0.18360800000000005 array([0.183608, 0.183608])]]\n",
            "j =  3 K1 =  [[0.036721600000000014 array([0.0367216, 0.0367216])]\n",
            " [0.12644800000000003 array([0.126448, 0.126448])]] | K2 =  [[0.04936640000000001 array([0.0493664, 0.0493664])]\n",
            " [0.15012016000000003 array([0.15012016, 0.15012016])]] | x =  [0.8 0.8] | y =  [[0.08160640000000002 array([0.0816064, 0.0816064])]\n",
            " [0.33372816000000005 array([0.33372816, 0.33372816])]]\n",
            "j =  4 K1 =  [[0.06674563200000001 array([0.06674563, 0.06674563])]\n",
            " [0.17632128000000002 array([0.17632128, 0.17632128])]] | K2 =  [[0.08437776000000002 array([0.08437776, 0.08437776])]\n",
            " [0.2029958432 array([0.20299584, 0.20299584])]] | x =  [1. 1.] | y =  [[0.16598416000000005 array([0.16598416, 0.16598416])]\n",
            " [0.5367240032 array([0.536724, 0.536724])]]\n",
            "------------------------\n"
          ],
          "name": "stdout"
        },
        {
          "output_type": "stream",
          "text": [
            "/usr/local/lib/python3.7/dist-packages/ipykernel_launcher.py:6: VisibleDeprecationWarning: Creating an ndarray from ragged nested sequences (which is a list-or-tuple of lists-or-tuples-or ndarrays with different lengths or shapes) is deprecated. If you meant to do this, you must specify 'dtype=object' when creating the ndarray\n",
            "  \n"
          ],
          "name": "stderr"
        }
      ]
    },
    {
      "cell_type": "markdown",
      "metadata": {
        "id": "ZPd4W-kCptIn"
      },
      "source": [
        "### 4th Order RK Method for System of Equations"
      ]
    },
    {
      "cell_type": "code",
      "metadata": {
        "id": "qgDzRWT_BWR4"
      },
      "source": [
        "#@title 4th ORDER RUNGE KUTTA CODE (system of eqs) Code\n",
        "def RK4System(f, x_i, y_i, x_max, h,steps):\n",
        "  k1 = lambda x,y : np.array([h*f[j](x,y) for j in range(len(x_i))])\n",
        "  k2 = lambda x,y : np.array([h*f[j](x + h/2,y + k1(x,y)/2) for j in range(len(x_i))])\n",
        "  k3 = lambda x,y : np.array([h*f[j](x + h/2,y + k2(x,y)/2) for j in range(len(x_i))])\n",
        "  k4 = lambda x,y : np.array([h*f[j](x+h,y+k3(x,y)) for j in range(len(x_i))])\n",
        "  count = 0\n",
        "  x, y = x_i, y_i\n",
        "  Ylist = [y_i]\n",
        "  Xlist = [x_i]\n",
        "  solList = [[x, y,'-','-','-','-']]\n",
        "  while count < steps:\n",
        "    k_1 = k1(x,y)\n",
        "    k_2 = k2(x,y)\n",
        "    k_3 = k3(x,y)\n",
        "    k_4 = k4(x,y)\n",
        "    # print(count)\n",
        "    # print(\"j = \",count,\"| K1 = \",k_1,\"| K2 = \",k_2,\"| K3 = \",k_3,\"| K4 = \",k_4,)\n",
        "    # y = y + (k1(x,y)+2*k2(x,y)+2*k3(x,y)+k4(x,y))/6\n",
        "    y = np.array(y + (k_1+2*k_2+2*k_3+k_4)/6)\n",
        "    x = np.array(x+h)\n",
        "    # print(\"x = \",x,\"| y = \", y,\"| y' = f(x,y) = \", fnc)\n",
        "    # print(\"y(\",x,\")= \", y)#,\"| y' = f(x,y) = \", fnc)\n",
        "    Xlist.append(x)\n",
        "    Ylist.append(y)\n",
        "    count+=1\n",
        "    solList.append([x, y,k_1,k_2,k_3,k_4])\n",
        "  print(\"------------------------\")\n",
        "  df = pd.DataFrame(solList)\n",
        "  df.columns = ['x_j+1','y_j+1','K_1','K_2','K_3','K_4']\n",
        "  display(df)\n",
        "  return Xlist,Ylist"
      ],
      "execution_count": null,
      "outputs": []
    },
    {
      "cell_type": "code",
      "metadata": {
        "id": "LZLuiZR_BfC0"
      },
      "source": [
        "#Eg. 4th ORDER RUNGE KUTTA (Explicit) (Example from Programming Assignment 1, Q4.)\n",
        "x_i, x_max = np.array([0,0]), np.array([1,1])\n",
        "y_i = np.array([1,2])\n",
        "h = 0.05\n",
        "f = [lambda x, y :-3*y[0]+4*y[1],lambda x, y : -2*y[0]+3*y[1]]\n",
        "\n",
        "X1,Y1=RK4System(f, x_i, y_i, x_max, h,int(1/h))\n",
        "X2,Y2=RK4System(f, x_i, y_i, x_max, h*2,int(1/h/2))"
      ],
      "execution_count": null,
      "outputs": []
    },
    {
      "cell_type": "code",
      "metadata": {
        "colab": {
          "base_uri": "https://localhost:8080/"
        },
        "id": "Atpsg-gQz32D",
        "outputId": "c94af728-1a8e-4d3a-945f-847d4b0ccd68"
      },
      "source": [
        "np.array([5,4])**2"
      ],
      "execution_count": null,
      "outputs": [
        {
          "output_type": "execute_result",
          "data": {
            "text/plain": [
              "array([25, 16])"
            ]
          },
          "metadata": {
            "tags": []
          },
          "execution_count": 24
        }
      ]
    },
    {
      "cell_type": "code",
      "metadata": {
        "colab": {
          "base_uri": "https://localhost:8080/",
          "height": 362
        },
        "id": "zGlLCsiWyv1I",
        "outputId": "8f1c3e10-1345-4b27-d77b-453a897282cc"
      },
      "source": [
        "#Eg. 4th ORDER RUNGE KUTTA (Explicit) (Example from Programming Assignment 1, Q4.)\n",
        "x_i, x_max = np.array([0,0]), np.array([0.5,0.5])\n",
        "y_i = np.array([1,-1.9])\n",
        "h = 0.1\n",
        "f = [lambda x, y : y[1],lambda x, y : 6*y[0]**2]\n",
        "\n",
        "X1,Y1=RK4System(f, x_i, y_i, x_max, h,int(0.5/h))"
      ],
      "execution_count": null,
      "outputs": [
        {
          "output_type": "stream",
          "text": [
            "------------------------\n"
          ],
          "name": "stdout"
        },
        {
          "output_type": "display_data",
          "data": {
            "text/html": [
              "<div>\n",
              "<style scoped>\n",
              "    .dataframe tbody tr th:only-of-type {\n",
              "        vertical-align: middle;\n",
              "    }\n",
              "\n",
              "    .dataframe tbody tr th {\n",
              "        vertical-align: top;\n",
              "    }\n",
              "\n",
              "    .dataframe thead th {\n",
              "        text-align: right;\n",
              "    }\n",
              "</style>\n",
              "<table border=\"1\" class=\"dataframe\">\n",
              "  <thead>\n",
              "    <tr style=\"text-align: right;\">\n",
              "      <th></th>\n",
              "      <th>x_j+1</th>\n",
              "      <th>y_j+1</th>\n",
              "      <th>K_1</th>\n",
              "      <th>K_2</th>\n",
              "      <th>K_3</th>\n",
              "      <th>K_4</th>\n",
              "    </tr>\n",
              "  </thead>\n",
              "  <tbody>\n",
              "    <tr>\n",
              "      <th>0</th>\n",
              "      <td>[0, 0]</td>\n",
              "      <td>[1.0, -1.9]</td>\n",
              "      <td>-</td>\n",
              "      <td>-</td>\n",
              "      <td>-</td>\n",
              "      <td>-</td>\n",
              "    </tr>\n",
              "    <tr>\n",
              "      <th>1</th>\n",
              "      <td>[0.1, 0.1]</td>\n",
              "      <td>[0.83665425, -1.3972641663244436]</td>\n",
              "      <td>[-0.19, 0.6000000000000001]</td>\n",
              "      <td>[-0.16, 0.49141500000000005]</td>\n",
              "      <td>[-0.16542925, 0.5078400000000001]</td>\n",
              "      <td>[-0.13921599999999998, 0.4179050020533375]</td>\n",
              "    </tr>\n",
              "    <tr>\n",
              "      <th>2</th>\n",
              "      <td>[0.2, 0.2]</td>\n",
              "      <td>[0.7158492331048915, -1.0377746211800176]</td>\n",
              "      <td>[-0.13972641663244437, 0.4199942004258375]</td>\n",
              "      <td>[-0.11872670661115248, 0.3527811009638959]</td>\n",
              "      <td>[-0.12208736158424958, 0.36250868285041293]</td>\n",
              "      <td>[-0.10347554834740308, 0.30636350281210056]</td>\n",
              "    </tr>\n",
              "    <tr>\n",
              "      <th>3</th>\n",
              "      <td>[0.30000000000000004, 0.30000000000000004]</td>\n",
              "      <td>[0.6261157060369885, -0.7690402891268273]</td>\n",
              "      <td>[-0.10377746211800176, 0.3074640747221168]</td>\n",
              "      <td>[-0.08840425838189592, 0.2645061289662186]</td>\n",
              "      <td>[-0.09055215566969084, 0.27066589931759266]</td>\n",
              "      <td>[-0.0767108721862425, 0.23459786102940194]</td>\n",
              "    </tr>\n",
              "    <tr>\n",
              "      <th>4</th>\n",
              "      <td>[0.4, 0.4]</td>\n",
              "      <td>[0.5601083168974277, -0.5589974839098981]</td>\n",
              "      <td>[-0.07690402891268273, 0.23521252640771798]</td>\n",
              "      <td>[-0.06514340259229683, 0.20720916864131636]</td>\n",
              "      <td>[-0.06654357048061692, 0.2113766913382767]</td>\n",
              "      <td>[-0.05576635977885507, 0.18787258493467102]</td>\n",
              "    </tr>\n",
              "    <tr>\n",
              "      <th>5</th>\n",
              "      <td>[0.5, 0.5]</td>\n",
              "      <td>[0.5130599402189937, -0.38705560760685087]</td>\n",
              "      <td>[-0.055899748390989816, 0.18823279599460158]</td>\n",
              "      <td>[-0.046488108591259736, 0.1699155648833678]</td>\n",
              "      <td>[-0.04740397014682143, 0.17293394187538333]</td>\n",
              "      <td>[-0.03860635420345148, 0.15771944830617957]</td>\n",
              "    </tr>\n",
              "  </tbody>\n",
              "</table>\n",
              "</div>"
            ],
            "text/plain": [
              "                                        x_j+1  ...                                          K_4\n",
              "0                                      [0, 0]  ...                                            -\n",
              "1                                  [0.1, 0.1]  ...   [-0.13921599999999998, 0.4179050020533375]\n",
              "2                                  [0.2, 0.2]  ...  [-0.10347554834740308, 0.30636350281210056]\n",
              "3  [0.30000000000000004, 0.30000000000000004]  ...   [-0.0767108721862425, 0.23459786102940194]\n",
              "4                                  [0.4, 0.4]  ...  [-0.05576635977885507, 0.18787258493467102]\n",
              "5                                  [0.5, 0.5]  ...  [-0.03860635420345148, 0.15771944830617957]\n",
              "\n",
              "[6 rows x 6 columns]"
            ]
          },
          "metadata": {
            "tags": []
          }
        }
      ]
    },
    {
      "cell_type": "markdown",
      "metadata": {
        "id": "-XVqoncDcgBN"
      },
      "source": [
        "<!-- For the system of equations :\n",
        "\n",
        "$\\mathbf{u' = Au}$<br>\n",
        "Where $\\mathbf{u'} = \\begin{bmatrix}{u_1 \\\\ u_2}\\end{bmatrix}$\n",
        "$\\mathbf{A} = \\begin{bmatrix}0 & -1\\\\ -c &-b\\end{bmatrix}$ -->\n",
        "___"
      ]
    },
    {
      "cell_type": "markdown",
      "metadata": {
        "id": "konsEq5MekvA"
      },
      "source": [
        "## Convergence and Stability"
      ]
    },
    {
      "cell_type": "markdown",
      "metadata": {
        "id": "bDx35MgBfOhT"
      },
      "source": [
        "The analytical solution of the differential equation $y(x_j)$\n",
        "<br>The difference solution of the difference equation $y_j$\n",
        "<br> and the numerical solution $\\bar{y}_j$\n",
        "<br> can be related by a relation of the form: $|y(x_j)-\\bar{y}_j| = |y(x_j)-y_j|+|y_j-\\bar{y}_j|$\n",
        "\n",
        ">The value $|y(x_j)-y_j|$ is the **truncation error** due to replacement of the differential equation by the difference equation.\n",
        ">>\n",
        "\n",
        ">The value $|y_j-\\bar{y}_j|$ is the **numerical error** which arises due to round-off errors in actual computation."
      ]
    },
    {
      "cell_type": "markdown",
      "metadata": {
        "id": "5gPowmTZenzB"
      },
      "source": [
        "### Convergence"
      ]
    },
    {
      "cell_type": "markdown",
      "metadata": {
        "id": "u5yENleWerNC"
      },
      "source": [
        "A numerical method is said to be convergent if as more grid points are taken (or step size is decreased),the numerical solution converges to the exact solution in the absence of round-off error (i.e. $\\bar{y}_j = y_j$), \n",
        "> i.e. $y_j \\to y(x_j)$ as $h \\to 0$."
      ]
    },
    {
      "cell_type": "markdown",
      "metadata": {
        "id": "GwTBJPCq_2bc"
      },
      "source": [
        "### Stability "
      ]
    },
    {
      "cell_type": "markdown",
      "metadata": {
        "id": "pOte6Xwd_38y"
      },
      "source": [
        " \n",
        "If the effect of the total error including the round-off error remains bounded as $j\\to \\infty$ with fixed step size, then the difference method is said to be **stable**. Otherwise it is unstable.\n",
        "\n",
        "A method is **consistent** if it is atleast of order 1. For a consistent method, the truncation error always approaches zero as $h\\to 0$.\n",
        "\n",
        "---"
      ]
    },
    {
      "cell_type": "markdown",
      "metadata": {
        "id": "WiKxOpOLDEZn"
      },
      "source": [
        "#### <ins>Stability of a single step method when applied to the test equation</ins> $y' = \\lambda y; y(x_0) = y_0$"
      ]
    },
    {
      "cell_type": "markdown",
      "metadata": {
        "id": "Jo_D8EKEDUPF"
      },
      "source": [
        "We know that the analytical solution of the test equation satisfies $y(x_{j+1}) = e^{\\lambda h}y(x_j)$\n",
        "\n",
        "On applying any single step method to solve the test equation $y' = \\lambda y$ we get a first order difference equation of the form $y_{j+1} = E(\\lambda h)y_j\\hspace{10mm}|j=0,1,2,...$.\n",
        "[Page 468 of book]\n",
        "\n",
        "Error $\\epsilon_j = y(x_j) - y_j$ = analytical solution- difference solution.<br>\n",
        "Now $\\epsilon_{j+1} = y(x_{j+1}) - y_{j+1} = e^{\\lambda h}y(x_j) - E(\\lambda h)y_j\\\\\n",
        "= e^{\\lambda h}y(x_j) - E(\\lambda h)[y(x_j) + \\epsilon_{j}]\\\\\n",
        "\\implies \\epsilon_{j+1} = [e^{\\lambda h} - E(\\lambda h)]y(x_j)+E(\\lambda h)\\epsilon_{j} = LTE +\\text{Propogation Error}$\n",
        "\n",
        ">$LTE = [e^{\\lambda h} - E(\\lambda h)]\\\\\\text{Propogation Error}= E(\\lambda h)$ \n",
        "\n",
        "(propogation of error from $x_j \\text{ to } x_{j+1}$) (inherited)\n",
        "\n",
        "\n",
        "A single step method, when applied to the given test equation is\n",
        ">1. **absolutely stable** if $|E(\\lambda h)|\\leq 1, \\lambda < 0$\n",
        ">2. **relatively stable** if $|E(\\lambda h)|\\leq e^{\\lambda h}, \\lambda > 0$\n",
        ">3. **periodically stable** if $|E(\\lambda h)|= 1, \\lambda \\text{ pure imaginary}$\n",
        ">4. Asymptotically stable (A-stable) if $y_j \\to 0$ as $j\\to \\infty \\implies \\text{stability interval is all of the left half h}\\lambda \\text{ plane. i.e.} h\\lambda \\in (-\\infty, 0)$ \n",
        "\n",
        "Basically, $E(\\lambda h)$ should not grow faster than $e^{\\lambda h}$.\n",
        "____"
      ]
    },
    {
      "cell_type": "markdown",
      "metadata": {
        "id": "0-cDzAaLcwqV"
      },
      "source": [
        "Take Euler's method:\n",
        "\n",
        "$y_{j+1} = y_{j} + hf(x_j,y_j)\\\\\n",
        "\\hspace{9mm}=y_{j} + h\\lambda y_{j}\\\\\n",
        "\\hspace{9mm}=y_{j}(1 + h\\lambda)$\n",
        "\n",
        "$\\therefore E(\\lambda h) = (1 +\\lambda h)\n",
        "\\\\\\implies |E(\\lambda h)|\\leq 1\n",
        "\\\\\\implies -2<\\lambda h < 0$"
      ]
    },
    {
      "cell_type": "markdown",
      "metadata": {
        "id": "pkTnHql1e-cN"
      },
      "source": [
        "___\n",
        "# Multistep Methods"
      ]
    },
    {
      "cell_type": "markdown",
      "metadata": {
        "id": "ITxeVGzQfNet"
      },
      "source": [
        "**Explicit**\n",
        "A numerical method to solve the IVP $y' = f(x,y); y(x_0) = y_0$ is a k-step method if it uses the values of $y(x)\\& y'(x)$ at $k+1$ successive mesh points $x_{j+1}, x_{j}, x_{j-1}...,x_{j-k+1}$ to determine $u(x) at x_{j+1}$.\n",
        "\n",
        "The general explicit multistep method can be written as :\n",
        "$\\boxed{y_{j+1} = y_{j-1} + h\\sum_{m=0}^{k-1}\\gamma_{m}^{*(i)}f_{j-m}}$\n",
        ">where $\\gamma_{m}^{(i)} = \\int_{-i}^{1}(-1)^{m}{-s\\choose m}ds$\n",
        "<br>so<br> $\\gamma_{0}^{(i)} = \\int_{-i}^{1}ds = 1+ i$\n",
        "<br>$\\gamma_{1}^{(i)} = \\int_{-i}^{1}sds = \\frac{1}{2}(1+ i)(1-i)$\n",
        "<br>$\\gamma_{2}^{(i)} = \\frac{1}{2}\\int_{-i}^{1}s(s+1)ds = \\frac{1}{12}(5 - 3i^2 +2i^3)$\n",
        "\n",
        "<br> For different values of i we get different methods.\n"
      ]
    },
    {
      "cell_type": "markdown",
      "metadata": {
        "id": "s1rJf6jekEQn"
      },
      "source": [
        "To start computations by a k-step method we need $k-1$ previous numerical solutions besides the initial condition. These (k-1) values are obtained by a single step method, eg. RK methods/ Taylor Series method."
      ]
    },
    {
      "cell_type": "markdown",
      "metadata": {
        "id": "cSZ9ouvM4RZP"
      },
      "source": [
        "## Deriving multistep methods-\n",
        "\n",
        "A general multistep method can be written as $y_{j+1} = a_1y_j+a_2y_{j-1}+...+a_ky_{j-k+1} + h(b_0y'_{j+1}+...+b_ky_{j-k+1})\\\\\\text{or }y_{j+1} = \\sum_{i=1}^{k}a_iu_{j-i+1} +h\\sum_{i=0}^{k}b_iu'_{j-i+1}$\n",
        "\n",
        "The local truncation error (LTE) here is given by $T_{j+1}\\approx y(x_{j+1}) - y_{j+1} = y(x_{j+1})-\\sum_{i=1}^{k}a_iu_{j-i+1} -h\\sum_{i=0}^{k}b_iu'_{j-i+1}\\\\\n",
        "\\implies T_{j+1} = c_0y(x_j) + c_1hy'(x_j) +c_2h^2y''(x_j)+...+c_ph^py^{(p)}(x_j)+ T_{p+1}$\n",
        "\n",
        "**The linear multistep method (LLM) is of order p if $c_0=c_1=...=c_p=0$ & $c_{p+1}\\neq 0$**<br>\n",
        "\n",
        "Also, a LLM is **consistent if $p \\geq 1\\implies \\text{ for a consistent method }\\rho(1)=0, \\rho'(1)=\\sigma(1)$.** \n",
        "\n",
        "If we expand each of the terms into their Taylor Series about $x_j$,\n",
        "\n",
        "___"
      ]
    },
    {
      "cell_type": "markdown",
      "metadata": {
        "id": "h0ZLfAy676e3"
      },
      "source": [
        "Q. Derive a 4th order method of the form: $y_{j+1} = ay_{j-2} + h(by'_{j} +cy'_{j-1}+dy'_{j-2}+ey_{j-3}')$ <br>& find the corresponding error.\n",
        "\n",
        "A. \n",
        "We expand all the concerned terms using Taylor series (upto 5th order terms):\n",
        "\n",
        ">- $y_{j-2} = y(x_{j})- 2hy'(x_{j})+\\frac{(2h)^2}{2!}y''(x_{j}) -\\frac{(2h)^3}{3!}y'''(x_j)+ \\frac{(2h)^4}{4!}y^{(iv)}-\\frac{(2h)^5}{5!}y^{(v)}+...$\n",
        ">- $y'_{j-1} = y'(x_{j})- hy''(x_{j})+\\frac{(h)^2}{2!}y'''(x_{j}) -\\frac{(h)^3}{3!}y^{(iv)}(x_j)+ \\frac{(h)^4}{4!}y^{(v)}(x_j)+...$\n",
        ">- $y'_{j-2} = y'(x_{j})- 2hy''(x_{j})+\\frac{(2h)^2}{2!}y'''(x_{j}) -\\frac{(2h)^3}{3!}y^{(iv)}(x_j)+ \\frac{(2h)^4}{4!}y^{(v)}(x_j)+...$\n",
        ">- $y'_{j-3} = y'(x_{j})- 3hy''(x_{j})+\\frac{(3h)^2}{2!}y'''(x_{j}) -\\frac{(3h)^3}{3!}y^{(iv)}(x_j)+ \\frac{(3h)^4}{4!}y^{(v)}(x_j)+...$\n",
        "\n",
        "Now,<br> $T_{j+1}= y(x_{j+1}-y_{j+1})\\\\\n",
        "\\hspace{9mm} = y(x_{j+1})-ay_{j-2}-h(by'_{j}+cy'_{j-1}+dy'_{n-2}+ey'_{n-3})\\\\\n",
        "\\hspace{9mm} = y(x_{j})+hy'(x_{j})+\\frac{h^2}{2!}y''(x_{j})+\\frac{h^3}{3!}y'''(x_{j})+\\frac{h^{4}}{4!}y^{(iv)}(x_{j})+\\frac{h^{4}}{4!}y^{(iv)}(x_{j})+...\\\\\n",
        "\\hspace{9mm} -a[y(x_{j})- 2hy'(x_{j})+\\frac{(2h)^2}{2!}y''(x_{j}) -\\frac{(2h)^3}{3!}y'''(x_j)+ \\frac{(2h)^4}{4!}y^{(iv)}-\\frac{(2h)^5}{5!}y^{(v)}+...]\\\\\n",
        "\\hspace{9mm}-hby'(x_j)\\\\\n",
        "\\hspace{9mm}-hc[y'(x_{j})- hy''(x_{j})+\\frac{(h)^2}{2!}y'''(x_{j}) -\\frac{(h)^3}{3!}y^{(iv)}(x_j)+ \\frac{(h)^4}{4!}y^{(v)}(x_j)+...]\\\\\n",
        "\\hspace{9mm}-hd[y'(x_{j})- 2hy''(x_{j})+\\frac{(2h)^2}{2!}y'''(x_{j}) -\\frac{(2h)^3}{3!}y^{(iv)}(x_j)+ \\frac{(2h)^4}{4!}y^{(v)}(x_j)+...]\\\\\n",
        "\\hspace{9mm}-he[y'(x_{j})- 3hy''(x_{j})+\\frac{(3h)^2}{2!}y'''(x_{j}) -\\frac{(3h)^3}{3!}y^{(iv)}(x_j)+ \\frac{(3h)^4}{4!}y^{(v)}(x_j)+...]$\n",
        "___"
      ]
    },
    {
      "cell_type": "markdown",
      "metadata": {
        "id": "eJ5labgXDmd9"
      },
      "source": [
        "Now to collect the different $h^ky^{(k)}$ terms to get the equation in the form $T_{j+1} = c_0y(x_j)+c_1hy'(x_j)+ c_2h^2y\"_{x_j}$\n",
        "\n",
        "$h^0$\n",
        ">$1 - a = 0 \\implies a =1$\n",
        "\n",
        "$h^1$\n",
        ">$1 +2a -(b+c+d+e)= 0$\n",
        "\n",
        "$h^2$\n",
        ">$\\frac{1}{2} - 2a -(-c-2d-3e)= 0 $\n",
        "\n",
        "$h^3$\n",
        ">$\\frac{1}{6}+\\frac{8a}{6} -(\\frac{c}{2}+\\frac{4d}{2}+\\frac{9}{2}e)= 0 $\n",
        "\n",
        "$h^4$\n",
        ">$\\frac{1 -16a}{24} -\\frac{(-c-8d-27e)}{6}= 0 $\n",
        "\n",
        "Solving these equations gives us the solutions:\n",
        "> $a = 1\\\\\n",
        "b = \\frac{21}{8}\\\\\n",
        "c = -\\frac{9}{8}\\\\\n",
        "d = \\frac{15}{8}\\\\\n",
        "e = -\\frac{3}{8}$\n",
        "\n",
        "The truncation error is $T_{n+1} = \\frac{81}{240}h^5y^{(5)}(\\xi); x\\in[x_{n-3},x_{n+1}]$\n",
        "\n",
        "\n",
        "\n"
      ]
    },
    {
      "cell_type": "markdown",
      "metadata": {
        "id": "BWP3sQH6fCAz"
      },
      "source": [
        "## Adam's Bashforth Methods (i=0)(Explicit)\n",
        "\n"
      ]
    },
    {
      "cell_type": "markdown",
      "metadata": {
        "id": "k1G-YEo-jhyB"
      },
      "source": [
        "**ORDER 1**\n",
        "> $y_{j+1} = y_{j} + hf_j$ | Same as *Euler Method*\n",
        "<br>$T_1^{(0)} = \\frac{h^2}{2}u\"(\\xi_1)$\n",
        "<br>\n",
        "\n",
        "**ORDER 2**\n",
        "> $y_{j+1} = y_{j} + \\frac{h}{2}(3f_j - f_{j-1})$ \n",
        "<br>$T_2^{(0)} = \\frac{5h^3}{12}u'''(\\xi_2)$\n",
        "<br><br>\n",
        "\n",
        "**ORDER 3**\n",
        "> $y_{j+1} = y_{j} + \\frac{h}{12}(23f_j - 16f_{j-1}+5f_{j-2})$ \n",
        "<br>$T_3^{(0)} = \\frac{3h^4}{8}u^{(iv)}(\\xi_2)$\n",
        "<br><br>\n",
        "\n",
        "___\n"
      ]
    },
    {
      "cell_type": "markdown",
      "metadata": {
        "id": "57LQqJUmljbO"
      },
      "source": [
        "___\n",
        "## Nyström Methods (i=1)(Explicit)\n",
        "\n"
      ]
    },
    {
      "cell_type": "markdown",
      "metadata": {
        "id": "bypCABsel6nZ"
      },
      "source": [
        "**ORDER 2**\n",
        "(k = 1, k=2 both give same formula)\n",
        "> $y_{j+1} = y_{j-1} + 2hf_j$ | Same as *Midpoint Method*\n",
        "<br>\n",
        "\n",
        "**ORDER 3**\n",
        "> $y_{j+1} = y_{j-1} + \\frac{h}{3}(7f_j - 2f_{j-1}+ f_{j-2})$ \n",
        "<br>$T_2^{(0)} = \\frac{5h^3}{12}u'''(\\xi_2)$\n",
        "<br><br>\n"
      ]
    },
    {
      "cell_type": "markdown",
      "metadata": {
        "id": "XtUTsqLP_gEO"
      },
      "source": [
        "---\n",
        "**Implicit**\n",
        "\n",
        "The general implicit multistep method can be written as :\n",
        "$\\boxed{y_{j+1} = y_{j-1} + h\\sum_{m=0}^{k}\\delta_{m}^{*(i)}f_{j-m+1}}$\n",
        ">where $\\delta_{m}^{(i)} = \\int_{-i}^{1}(-1)^{m}{1-s\\choose m}ds$\n",
        "<br>so<br> $\\delta_{0}^{(i)} = \\int_{-i}^{1}ds = 1+ i$\n",
        "<br>$\\delta_{1}^{(i)} = \\int_{-i}^{1}-(1-s)ds = -\\frac{1}{2}(1+ i)^2$\n",
        "\n",
        "\n",
        "<br> For different values of i we get different methods."
      ]
    },
    {
      "cell_type": "markdown",
      "metadata": {
        "id": "BjLig8Bg_BYg"
      },
      "source": [
        "## Adams Moulton Method (i=0)(Implicit)"
      ]
    },
    {
      "cell_type": "markdown",
      "metadata": {
        "id": "-fCrZ0akjxHd"
      },
      "source": [
        "page 494"
      ]
    },
    {
      "cell_type": "markdown",
      "metadata": {
        "id": "C8IaLvwiA4XK"
      },
      "source": [
        "For k = 0, we get the same formula as Backward Euler method.\n",
        "\n",
        "**ORDER 3** (k = 2)\n",
        "> $y_{j+1} = y_{j} + \\frac{h}{12}[5f_{j+1}+8f_{j}-f_{j-1}]$\n",
        "\n",
        "<br>\n"
      ]
    },
    {
      "cell_type": "markdown",
      "metadata": {
        "id": "fSAuuqvq_BzY"
      },
      "source": [
        "## Milne Simpson (i=1)(Implicit)\n"
      ]
    },
    {
      "cell_type": "markdown",
      "metadata": {
        "id": "EnGzPsDYju5X"
      },
      "source": [
        "page 495"
      ]
    },
    {
      "cell_type": "markdown",
      "metadata": {
        "id": "TgaN2kn1_Lxl"
      },
      "source": [
        "**ORDER 4**\n",
        "> $y_{j+1} = y_{j-1} + \\frac{h}{3}(f_{j+1} + 4f_{j}+ f_{j-1})$ \n",
        "<br><br>\n",
        "\n"
      ]
    },
    {
      "cell_type": "code",
      "metadata": {
        "colab": {
          "base_uri": "https://localhost:8080/"
        },
        "id": "xZNbaBj4P6pN",
        "outputId": "3f4db22c-6c53-4edb-bee9-ce65844581bd"
      },
      "source": [
        "f = lambda x, y : x+y\n",
        "f_ = lambda x, y : 1 + f(x,y)\n",
        "f__ = lambda x, y : f_(x,y)\n",
        "f___ = lambda x, y : f__(x,y)\n",
        "x_0, x_max = 0, 0.1\n",
        "y_0 = 1\n",
        "h = 0.1\n",
        "Taylor(1,4,[f,f_,f__,f___], 0, 1, 0.1,0.1)"
      ],
      "execution_count": null,
      "outputs": [
        {
          "output_type": "stream",
          "text": [
            "Taylor Series Approximation of Order  4\n",
            "0.1\n",
            "0.010000000000000002\n",
            "0.00033333333333333343\n",
            "8.333333333333335e-06\n",
            "0 : y( 0.1 ) =  1.1103416666666668\n",
            "------------------------\n"
          ],
          "name": "stdout"
        },
        {
          "output_type": "execute_result",
          "data": {
            "text/plain": [
              "1.1103416666666668"
            ]
          },
          "metadata": {
            "tags": []
          },
          "execution_count": 43
        }
      ]
    },
    {
      "cell_type": "code",
      "metadata": {
        "colab": {
          "base_uri": "https://localhost:8080/"
        },
        "id": "cP9MlePQzpR_",
        "outputId": "80ab4904-2373-474b-b334-ee6d66db9dae"
      },
      "source": [
        "f = lambda x, y : 2-x*y**2\n",
        "f_ = lambda x, y : -y**2-x*2*y*(2-x*y**2)\n",
        "f__ = lambda x, y : -2*y*(2-x*y**2) - 2*y*(2-x*y**2)-x*2*(2-x*y**2)**2-x*2*y*(-y**2-x*2*y*(2-x*y**2))\n",
        "# f___ = lambda x, y : -2*(2-x*y**2)**2-2*y*(-y**2-x*2*y*(2-x*y**2))#- 2*y*(2-x*y**2)-x*2*(2-x*y**2)**2-x*2*y*(-y**2-x*2*y*(2-x*y**2))\n",
        "x_0, x_max = 0, 0.6\n",
        "y_0 = 10\n",
        "h = 0.2\n",
        "Taylor(3,3,[f,f_,f__], x_0, y_0, h,x_max)"
      ],
      "execution_count": null,
      "outputs": [
        {
          "output_type": "stream",
          "text": [
            "Taylor Series Approximation of Order  3\n",
            "0.4\n",
            "-2.0000000000000004\n",
            "-0.10666666666666669\n",
            "0 : y( 0.2 ) =  8.293333333333333\n",
            "-2.351175111111111\n",
            "-0.5956243986962962\n",
            "0.5779940906608515\n",
            "1 : y( 0.4 ) =  5.924527914186777\n",
            "-2.4080024804782663\n",
            "0.4393016129223927\n",
            "0.08699980346728069\n",
            "2 : y( 0.6000000000000001 ) =  4.0428268500981845\n",
            "------------------------\n"
          ],
          "name": "stdout"
        },
        {
          "output_type": "execute_result",
          "data": {
            "text/plain": [
              "4.0428268500981845"
            ]
          },
          "metadata": {
            "tags": []
          },
          "execution_count": 54
        }
      ]
    },
    {
      "cell_type": "code",
      "metadata": {
        "id": "mfuFoQ9eI-23"
      },
      "source": [
        "[10, 8.293333333333333,5.924527914186777,4.0428268500981845]\n",
        "[0,0.2,0.4,0.6]"
      ],
      "execution_count": null,
      "outputs": []
    },
    {
      "cell_type": "code",
      "metadata": {
        "id": "s_mgskCLK3UK"
      },
      "source": [
        "ys = [10, 8.293333333333333, 6.129759419513341]\n",
        "xs = [0,0.2,0.4,0.6]"
      ],
      "execution_count": null,
      "outputs": []
    },
    {
      "cell_type": "code",
      "metadata": {
        "colab": {
          "base_uri": "https://localhost:8080/"
        },
        "id": "QKBnTt2lKOX1",
        "outputId": "70398d03-5a03-49b0-9936-4b93569f7478"
      },
      "source": [
        "M(0,10,0.2,8.293333333333333,0.4,6.129866736944134)"
      ],
      "execution_count": null,
      "outputs": [
        {
          "output_type": "execute_result",
          "data": {
            "text/plain": [
              "6.129759419513341"
            ]
          },
          "metadata": {
            "tags": []
          },
          "execution_count": 63
        }
      ]
    },
    {
      "cell_type": "code",
      "metadata": {
        "id": "Whrqt8ZMJsaM"
      },
      "source": [
        "M = lambda x0,y0,x1,y1,x2,yp: y0 + h/3*(f(x2,yp)+4*f(x1,y1)+f(x0,y0)) "
      ],
      "execution_count": null,
      "outputs": []
    },
    {
      "cell_type": "markdown",
      "metadata": {
        "id": "ERpbzHmy1onj"
      },
      "source": [
        "# Predictor-Corrector Methods"
      ]
    },
    {
      "cell_type": "markdown",
      "metadata": {
        "id": "SP6uRahI1sBG"
      },
      "source": [
        "Say we have an implicit method $y_{j+1} = y_{j-1}+\\frac{h}{3}(f_{j+1}+4f_{j}+f_{j-1})$\n",
        "<br> and an explicit method $y_{j+1} = y_{j-3}+\\frac{4h}{3}(2f_{j}-4f_{j-1}+2f_{j-2})$\n",
        "\n",
        "A general k-step method: $\\sum_{i=0}^{k}a_iy_{j+i} = h\\sum_{i=0}^{k}b_iy_{n+i}';| a_k,b_k \\neq 0$\n",
        "\n",
        "At each step one has to solve:\n",
        "<!-- $a_ky_{j+k} - hbf(x_{j+k},y_{j+k}) = \\sum$ --> to get $y_{j+k}$\n",
        "Remark: if $h<\\frac{|a_k|}{L|b_k|}$ where $L$ is the Lipschitz constant wrt y then the linear multistep method has a unique solution $y_{j+k}$; \n",
        "Moreover, $y_{n+k}$ can be computed by some fixed point iteration as $a_{k}y_{j+k}^{(s+1)} + \\sum_{i=0}^{k-1}y_{j+i} = hb_{k}f(x_{j+k},y_{j+k}^{(s)}) + h\\sum_{i=0}^{k-1}b_if_{j+i}\\hspace{5mm}|s = 0,1,2,...$ with a suitable initial value $y_{j+k}^{(0)}$\n",
        "\n",
        "\n",
        "- In general one needs to iterate till $y_{j+k}^{(s)}$ converges. i.e.$|y_{j+k}^{(s+1)}-y_{j+k}^{(s)}|<\\epsilon$ (preassigned). **Correction**\n",
        "\n",
        "This is very tedious in practice. Laborious due to $f(x_{j+k},y_{j+k}^{(s)})$. Too depend on choice of initial guess value.\n",
        "\n",
        "- Can be done more easily by evaluating $y_{j+k}^{(s)}$ via an explicit method. **Prediction.**"
      ]
    },
    {
      "cell_type": "markdown",
      "metadata": {
        "id": "pGG80zDZ5Tmc"
      },
      "source": [
        "**Procedure of P-C Method**\n",
        "<br>$P\\to \\text{Predict some value }y_{j+1}^{(0)}$ \n",
        "<br>$E\\to \\text{Evaluate }f(x_{j+1},y_{j+1}^{(0)})$ \n",
        "<br>$C\\to \\text{Correct}$ \n",
        "\n",
        "If the corrector method is applied $m$ times it is denoted by $P(EC)^{m}E$. Proof for convergence is on pg. 518 of the textbook. "
      ]
    },
    {
      "cell_type": "markdown",
      "metadata": {
        "id": "ZTQTCfzwiMXH"
      },
      "source": [
        "## Adams Bashforth Predictor Corrector Method"
      ]
    },
    {
      "cell_type": "code",
      "metadata": {
        "id": "gnwEJ1tbiYi5",
        "cellView": "form"
      },
      "source": [
        "#@title Adam Bashforth PC Code\n",
        "\n",
        "def AdamBashPC(f, x_i, y_i, x_max, h):\n",
        "  x = x_i[len(x_i)-1] \n",
        "  # Predictor\n",
        "  P = lambda x0,x1,x2,x3, y0,y1,y2,y3: y3 +h/24*(55*f(x3,y3)-59*f(x2,y2)+37*f(x1,y1)-9*f(x0,y0))\n",
        "  # Corrector = Adam's Moulton Corrector Method\n",
        "  C = lambda x1,x2,x3,x4,y1,y2,y3,ytemp: y3 + h/24*(9*f(x4,ytemp)+19*f(x3,y3)-5*f(x2,y2)+f(x1,y1))\n",
        "\n",
        "  Ylist = y_i\n",
        "  Xlist = x_i\n",
        "  j = 0\n",
        "  while x <= x_max:\n",
        "    c = 0\n",
        "    y_j1p = P(Xlist[j],Xlist[j+1],Xlist[j+2],Xlist[j+3],Ylist[j],Ylist[j+1],Ylist[j+2],Ylist[j+3])\n",
        "    x = round(x+h, 7) \n",
        "    print(\"j = \",j,\"| x[j+1] = \",x,\"| y[j]p = \", y_j1p)\n",
        "    y_prev = y_j1p\n",
        "    while c+1:\n",
        "      print(\"f(xj+1,y(c)j+1)= \",f(x,y_prev))\n",
        "      y_j1c = C(Xlist[j+1],Xlist[j+2],Xlist[j+3],x,Ylist[j+1],Ylist[j+2],Ylist[j+3], y_prev)\n",
        "      print(\"  c = \",c,\": y[j+1][c+1] = \",y_j1c)\n",
        "      c+=1\n",
        "      if abs(abs(y_j1c)-abs(y_prev)) < 0.00001: break\n",
        "      y_prev = y_j1c\n",
        "    \n",
        "    y_j = y_j1c\n",
        "    print(\"y = \",y_j,\"| diff = \",abs(abs(y_j1c)-abs(y_prev)),'\\n')\n",
        "    Xlist.append(x)\n",
        "    Ylist.append(y_j)\n",
        "    j+=1\n",
        "  print(\"------------------------\")\n",
        "  return Xlist,Ylist"
      ],
      "execution_count": null,
      "outputs": []
    },
    {
      "cell_type": "code",
      "metadata": {
        "colab": {
          "base_uri": "https://localhost:8080/"
        },
        "id": "a4C-h3maNC7j",
        "outputId": "4a4e761b-d7b8-49bc-a394-ac7a5cc53343"
      },
      "source": [
        "x_i = [0,0.1,0.2,0.3]\n",
        "y_i = [1,0.9117,0.8494,0.8061]\n",
        "f = lambda x,y : x-y**2\n",
        "AdamBashPC(f, x_i, y_i, 0.4, 0.1)"
      ],
      "execution_count": null,
      "outputs": [
        {
          "output_type": "stream",
          "text": [
            "j =  0 | x[j+1] =  0.4 | y[j]p =  0.7789092073333334\n",
            "f(xj+1,y(c)j+1)=  -0.20669955326864164\n",
            "  c =  0 : y[j+1][c+1] =  0.7784740080857593\n",
            "f(xj+1,y(c)j+1)=  -0.20602178126510684\n",
            "  c =  1 : y[j+1][c+1] =  0.7784994245358918\n",
            "f(xj+1,y(c)j+1)=  -0.20606135400271475\n",
            "  c =  2 : y[j+1][c+1] =  0.7784979405582315\n",
            "y =  0.7784979405582315 | diff =  1.4839776603103871e-06 \n",
            "\n",
            "j =  1 | x[j+1] =  0.5 | y[j]p =  0.7642928851001589\n",
            "f(xj+1,y(c)j+1)=  -0.08414361421472472\n",
            "  c =  0 : y[j+1][c+1] =  0.7641441544601179\n",
            "f(xj+1,y(c)j+1)=  -0.08391628879556845\n",
            "  c =  1 : y[j+1][c+1] =  0.7641526791633363\n",
            "y =  0.7641526791633363 | diff =  8.52470321843768e-06 \n",
            "\n",
            "------------------------\n"
          ],
          "name": "stdout"
        },
        {
          "output_type": "execute_result",
          "data": {
            "text/plain": [
              "([0, 0.1, 0.2, 0.3, 0.4, 0.5],\n",
              " [1, 0.9117, 0.8494, 0.8061, 0.7784979405582315, 0.7641526791633363])"
            ]
          },
          "metadata": {
            "tags": []
          },
          "execution_count": 64
        }
      ]
    },
    {
      "cell_type": "code",
      "metadata": {
        "colab": {
          "base_uri": "https://localhost:8080/"
        },
        "id": "Rgn6CHqJohb-",
        "outputId": "1be784fa-ef97-470d-fd19-659dea981f4c"
      },
      "source": [
        "x_i = [0,0.1,0.2,0.3]\n",
        "y_i = [1,1.0025,1.0101,1.0228]\n",
        "f = lambda x,y : x*y/2\n",
        "AdamBashPC(f, x_i, y_i, 0.4, 0.1)"
      ],
      "execution_count": null,
      "outputs": [
        {
          "output_type": "stream",
          "text": [
            "j =  0 | x[j+1] =  0.4 | y[j]p =  1.0408547291666665\n",
            "f(xj+1,y(c)j+1)=  0.20817094583333332\n",
            "  c =  0 : y[j+1][c+1] =  1.0408566396354166\n",
            "y =  1.0408566396354166 | diff =  1.9104687500881568e-06 \n",
            "\n",
            "j =  1 | x[j+1] =  0.5 | y[j]p =  1.06453950645204\n",
            "f(xj+1,y(c)j+1)=  0.26613487661301\n",
            "  c =  0 : y[j+1][c+1] =  1.0645415526359652\n",
            "y =  1.0645415526359652 | diff =  2.0461839251861846e-06 \n",
            "\n",
            "------------------------\n"
          ],
          "name": "stdout"
        },
        {
          "output_type": "execute_result",
          "data": {
            "text/plain": [
              "([0, 0.1, 0.2, 0.3, 0.4, 0.5],\n",
              " [1, 1.0025, 1.0101, 1.0228, 1.0408566396354166, 1.0645415526359652])"
            ]
          },
          "metadata": {
            "tags": []
          },
          "execution_count": 32
        }
      ]
    },
    {
      "cell_type": "code",
      "metadata": {
        "colab": {
          "base_uri": "https://localhost:8080/"
        },
        "id": "n5rMHf6xise8",
        "outputId": "8cfbcb93-fda3-45f0-afcc-1a391011977f"
      },
      "source": [
        "x_i = [1,1.1,1.2,1.3]\n",
        "y_i = [1,0.996,0.986,0.972]\n",
        "f = lambda x,y : -y/x + 1/(x**2)\n",
        "AdamBashPC(f, x_i, y_i, 1.4, 0.1)"
      ],
      "execution_count": null,
      "outputs": [
        {
          "output_type": "stream",
          "text": [
            "j =  0 | x[j+1] =  1.4 | y[j]p =  0.9553504462547294\n",
            "f(xj+1,y(c)j+1)=  -0.1721890942635822\n",
            "  c =  0 : y[j+1][c+1] =  0.9555160445934086\n",
            "f(xj+1,y(c)j+1)=  -0.17230737879121016\n",
            "  c =  1 : y[j+1][c+1] =  0.9555116089236225\n",
            "y =  0.9555116089236225 | diff =  4.435669786029273e-06 \n",
            "\n",
            "j =  1 | x[j+1] =  1.5 | y[j]p =  0.9377187928118652\n",
            "f(xj+1,y(c)j+1)=  -0.18070141743013235\n",
            "  c =  0 : y[j+1][c+1] =  0.9378139700863475\n",
            "f(xj+1,y(c)j+1)=  -0.18076486894645394\n",
            "  c =  1 : y[j+1][c+1] =  0.9378115906544855\n",
            "y =  0.9378115906544855 | diff =  2.3794318619874133e-06 \n",
            "\n",
            "------------------------\n"
          ],
          "name": "stdout"
        },
        {
          "output_type": "execute_result",
          "data": {
            "text/plain": [
              "([1, 1.1, 1.2, 1.3, 1.4, 1.5],\n",
              " [1, 0.996, 0.986, 0.972, 0.9555116089236225, 0.9378115906544855])"
            ]
          },
          "metadata": {
            "tags": []
          },
          "execution_count": 33
        }
      ]
    },
    {
      "cell_type": "markdown",
      "metadata": {
        "id": "MUcRGuGJyil9"
      },
      "source": [
        "## Milne Predictor "
      ]
    },
    {
      "cell_type": "code",
      "metadata": {
        "id": "7BwWg7JLylUw"
      },
      "source": [
        "#@title Milne PC Code\n",
        "\n",
        "def MilnePC(f, x_i, y_i, x_max, h):\n",
        "  x = x_i[len(x_i)-1] \n",
        "  print(x)\n",
        "  # Predictor = Adam's Bashforth Method of 4th order\n",
        "  P = lambda x0,x1,x2,x3, y0,y1,y2,y3: y0 +4*h/3*(2*f(x3,y3)-f(x2,y2)+2*f(x1,y1))\n",
        "  # Corrector = Milne Simpson's Corrector Method of 4th order\n",
        "  C = lambda x1,x2,x3,x4,y1,y2,y3,ytemp: y2 + h/3*(f(x4,ytemp)+4*f(x3,y3)+f(x2,y2))\n",
        "\n",
        "  Ylist = y_i\n",
        "  Xlist = x_i\n",
        "  j = 0\n",
        "  while x <= x_max:\n",
        "    c = 0\n",
        "    y_j1p = P(Xlist[j],Xlist[j+1],Xlist[j+2],Xlist[j+3],Ylist[j],Ylist[j+1],Ylist[j+2],Ylist[j+3])\n",
        "    x = round(x+h, 7) \n",
        "    print(\"j = \",j,\"| x[j+1] = \",x,\"| y[j]p = \", y_j1p)\n",
        "    y_prev = y_j1p\n",
        "    while c+1:\n",
        "      print(\"     f(xj+1,y(c)j+1)= \",f(x,y_prev))\n",
        "      y_j1c = C(Xlist[j+1],Xlist[j+2],Xlist[j+3],x,Ylist[j+1],Ylist[j+2],Ylist[j+3], y_prev)\n",
        "      print(\"  c = \",c,\": y[j+1][c+1] = \",y_j1c)\n",
        "      c+=1\n",
        "      if abs(abs(y_j1c)-abs(y_prev)) < 0.0001: break\n",
        "      y_prev = y_j1c\n",
        "    \n",
        "    y_j = y_j1c\n",
        "    print(\"y = \",y_j,\"| diff = \",abs(abs(y_j1c)-abs(y_prev)),'\\n')\n",
        "    Xlist.append(x)\n",
        "    Ylist.append(y_j)\n",
        "    j+=1\n",
        "  print(\"------------------------\")\n",
        "  return Xlist,Ylist"
      ],
      "execution_count": null,
      "outputs": []
    },
    {
      "cell_type": "code",
      "metadata": {
        "colab": {
          "base_uri": "https://localhost:8080/"
        },
        "id": "_11PmKs05GkI",
        "outputId": "eb795ca9-ce26-480e-c219-b186abdea6ac"
      },
      "source": [
        "RK4(f,x_i[1],y_i[1],0.2,0.1)"
      ],
      "execution_count": null,
      "outputs": [
        {
          "output_type": "stream",
          "text": [
            "j =  0 K1 =  -0.3 | K2 =  -0.2722375 | K3 =  -0.2746166 | K4 =  -0.2525181\n",
            "y( 0.1 )=  0.7256289\n",
            "j =  1 K1 =  -0.2525537 | K2 =  -0.2355848 | K3 =  -0.236609 | K4 =  -0.223114\n",
            "y( 0.2 )=  0.488953\n",
            "j =  2 K1 =  -0.2231075 | K2 =  -0.2126805 | K3 =  -0.2130768 | K4 =  -0.2049108\n",
            "y( 0.3 )=  0.2756975\n",
            "------------------------\n"
          ],
          "name": "stdout"
        },
        {
          "output_type": "execute_result",
          "data": {
            "text/plain": [
              "([0, 0.1, 0.2, 0.3], [1, 0.7256289, 0.488953, 0.2756975])"
            ]
          },
          "metadata": {
            "tags": []
          },
          "execution_count": 15
        }
      ]
    },
    {
      "cell_type": "code",
      "metadata": {
        "colab": {
          "base_uri": "https://localhost:8080/"
        },
        "id": "bxAfFpzD31dd",
        "outputId": "881341b3-6988-43ca-e145-fe14b720ef8a"
      },
      "source": [
        "f = lambda x, y :x**3-y**2-2\n",
        "x_i, x_max = [-0.1,0,0.1,0.2], 0.6\n",
        "y_i = [1.335,1,0.725,0.48807453344]\n",
        "h = 0.1\n",
        "# X,Y=RK4(f, x_i, y_i, x_max, h)\n",
        "MilnePC(f, x_i, y_i, x_max, h)"
      ],
      "execution_count": null,
      "outputs": [
        {
          "output_type": "stream",
          "text": [
            "0.2\n",
            "j =  0 | x[j+1] =  0.3 | y[j]p =  0.27689219994862047\n",
            "     f(xj+1,y(c)j+1)=  -2.0496692903923868\n",
            "  c =  0 : y[j+1][c+1] =  0.2751612902945639\n",
            "     f(xj+1,y(c)j+1)=  -2.0487137356765692\n",
            "  c =  1 : y[j+1][c+1] =  0.2751931421184245\n",
            "y =  0.2751931421184245 | diff =  3.185182386061802e-05 \n",
            "\n",
            "j =  1 | x[j+1] =  0.4 | y[j]p =  0.07780056256728685\n",
            "     f(xj+1,y(c)j+1)=  -1.9420529275357863\n",
            "  c =  0 : y[j+1][c+1] =  0.07583470878651644\n",
            "     f(xj+1,y(c)j+1)=  -1.9417509030567357\n",
            "  c =  1 : y[j+1][c+1] =  0.07584477626915148\n",
            "y =  0.07584477626915148 | diff =  1.0067482635045533e-05 \n",
            "\n",
            "j =  2 | x[j+1] =  0.5 | y[j]p =  -0.11436094601212954\n",
            "     f(xj+1,y(c)j+1)=  -1.8880784259727892\n",
            "  c =  0 : y[j+1][c+1] =  -0.1149341716079445\n",
            "     f(xj+1,y(c)j+1)=  -1.8882098638032043\n",
            "  c =  1 : y[j+1][c+1] =  -0.11493855286895832\n",
            "y =  -0.11493855286895832 | diff =  4.381261013819415e-06 \n",
            "\n",
            "j =  3 | x[j+1] =  0.6 | y[j]p =  -0.30287637892292335\n",
            "     f(xj+1,y(c)j+1)=  -1.8757341009094624\n",
            "  c =  0 : y[j+1][c+1] =  -0.3031662242221559\n",
            "     f(xj+1,y(c)j+1)=  -1.8759097595091185\n",
            "  c =  1 : y[j+1][c+1] =  -0.3031720795088111\n",
            "y =  -0.3031720795088111 | diff =  5.855286655198633e-06 \n",
            "\n",
            "j =  4 | x[j+1] =  0.7 | y[j]p =  -0.4910896057250981\n",
            "     f(xj+1,y(c)j+1)=  -1.8981690008512324\n",
            "  c =  0 : y[j+1][c+1] =  -0.49127298990101265\n",
            "     f(xj+1,y(c)j+1)=  -1.8983491506062806\n",
            "  c =  1 : y[j+1][c+1] =  -0.4912789948928476\n",
            "y =  -0.4912789948928476 | diff =  6.004991834951401e-06 \n",
            "\n",
            "------------------------\n"
          ],
          "name": "stdout"
        },
        {
          "output_type": "execute_result",
          "data": {
            "text/plain": [
              "([-0.1, 0, 0.1, 0.2, 0.3, 0.4, 0.5, 0.6, 0.7],\n",
              " [1.335,\n",
              "  1,\n",
              "  0.725,\n",
              "  0.48807453344,\n",
              "  0.2751931421184245,\n",
              "  0.07584477626915148,\n",
              "  -0.11493855286895832,\n",
              "  -0.3031720795088111,\n",
              "  -0.4912789948928476])"
            ]
          },
          "metadata": {
            "tags": []
          },
          "execution_count": 13
        }
      ]
    },
    {
      "cell_type": "code",
      "metadata": {
        "colab": {
          "base_uri": "https://localhost:8080/"
        },
        "id": "-QILho_4xfnZ",
        "outputId": "90f8e1b7-e396-486a-eb62-2558a5d2363c"
      },
      "source": [
        "# j =  0 K1 =  0.4 | K2 =  -1.6808 | K3 =  -1.2779654 | K4 =  -2.6429555\n",
        "# y( 0.2 )=  8.639919\n",
        "# j =  1 K1 =  -2.585928 | K2 =  -2.8386649 | K3 =  -2.7282122 | K4 =  -2.3958622\n",
        "# y( 0.4 )=  5.9539949\n",
        "# j =  2 K1 =  -2.4360044 | K2 =  -1.8429627 | K3 =  -2.1326193 | K4 =  -1.3523494\n",
        "# y( 0.6 )=  3.9974086\n",
        "# ------------------------\n",
        "f = lambda x, y : 2-x*y**2\n",
        "x_i, x_max = [0,0.2,0.4,0.6], 1.2\n",
        "y_i = [10,8.639919,5.9539949,3.9974086]\n",
        "h = 0.2\n",
        "# X,Y=RK4(f, x_i, y_i, x_max, h)\n",
        "MilnePC(f, x_i, y_i, x_max, h)"
      ],
      "execution_count": null,
      "outputs": [
        {
          "output_type": "stream",
          "text": [
            "0.6\n",
            "j =  0 | x[j+1] =  0.8 | y[j]p =  2.305496362304333\n",
            "     f(xj+1,y(c)j+1)=  -2.2522507812788097\n",
            "  c =  0 : y[j+1][c+1] =  2.9684926249454184\n",
            "     f(xj+1,y(c)j+1)=  -5.049558771484273\n",
            "  c =  1 : y[j+1][c+1] =  2.7820054255983875\n",
            "     f(xj+1,y(c)j+1)=  -4.191643350447093\n",
            "  c =  2 : y[j+1][c+1] =  2.839199787000866\n",
            "     f(xj+1,y(c)j+1)=  -4.448844344404612\n",
            "  c =  3 : y[j+1][c+1] =  2.822053054070365\n",
            "     f(xj+1,y(c)j+1)=  -4.3711867519903\n",
            "  c =  4 : y[j+1][c+1] =  2.8272302268979854\n",
            "     f(xj+1,y(c)j+1)=  -4.394584604708507\n",
            "  c =  5 : y[j+1][c+1] =  2.8256703700501054\n",
            "     f(xj+1,y(c)j+1)=  -4.387530432143279\n",
            "  c =  6 : y[j+1][c+1] =  2.8261406482211204\n",
            "     f(xj+1,y(c)j+1)=  -4.389656770822157\n",
            "  c =  7 : y[j+1][c+1] =  2.825998892309195\n",
            "     f(xj+1,y(c)j+1)=  -4.389015791466239\n",
            "  c =  8 : y[j+1][c+1] =  2.8260416242662565\n",
            "y =  2.8260416242662565 | diff =  4.2731957061281634e-05 \n",
            "\n",
            "j =  1 | x[j+1] =  1.0 | y[j]p =  1.8263464865319552\n",
            "     f(xj+1,y(c)j+1)=  -1.3355414888676171\n",
            "  c =  0 : y[j+1][c+1] =  2.232079077549769\n",
            "     f(xj+1,y(c)j+1)=  -2.9821770084354275\n",
            "  c =  1 : y[j+1][c+1] =  2.122303376245248\n",
            "     f(xj+1,y(c)j+1)=  -2.504171620821978\n",
            "  c =  2 : y[j+1][c+1] =  2.1541704020861445\n",
            "     f(xj+1,y(c)j+1)=  -2.6404501212239815\n",
            "  c =  3 : y[j+1][c+1] =  2.145085168726011\n",
            "     f(xj+1,y(c)j+1)=  -2.601390381088298\n",
            "  c =  4 : y[j+1][c+1] =  2.1476891514017233\n",
            "     f(xj+1,y(c)j+1)=  -2.6125686910486543\n",
            "  c =  5 : y[j+1][c+1] =  2.1469439307376996\n",
            "     f(xj+1,y(c)j+1)=  -2.6093682417314445\n",
            "  c =  6 : y[j+1][c+1] =  2.1471572940255133\n",
            "     f(xj+1,y(c)j+1)=  -2.6102844452869647\n",
            "  c =  7 : y[j+1][c+1] =  2.147096213788479\n",
            "y =  2.147096213788479 | diff =  6.108023703443877e-05 \n",
            "\n",
            "j =  2 | x[j+1] =  1.2 | y[j]p =  1.6857373236570599\n",
            "     f(xj+1,y(c)j+1)=  -1.41005238924456\n",
            "  c =  0 : y[j+1][c+1] =  1.743418290668109\n",
            "     f(xj+1,y(c)j+1)=  -1.6474088034833336\n",
            "  c =  1 : y[j+1][c+1] =  1.7275945297188573\n",
            "     f(xj+1,y(c)j+1)=  -1.5814994309374235\n",
            "  c =  2 : y[j+1][c+1] =  1.7319884878885847\n",
            "     f(xj+1,y(c)j+1)=  -1.5997409466143035\n",
            "  c =  3 : y[j+1][c+1] =  1.7307723868434592\n",
            "     f(xj+1,y(c)j+1)=  -1.5946876660717657\n",
            "  c =  4 : y[j+1][c+1] =  1.731109272212962\n",
            "     f(xj+1,y(c)j+1)=  -1.596087174810029\n",
            "  c =  5 : y[j+1][c+1] =  1.7310159716304112\n",
            "y =  1.7310159716304112 | diff =  9.330058255074825e-05 \n",
            "\n",
            "j =  3 | x[j+1] =  1.4 | y[j]p =  1.5014632736621594\n",
            "     f(xj+1,y(c)j+1)=  -1.1561487470188037\n",
            "  c =  0 : y[j+1][c+1] =  1.4704982731435725\n",
            "     f(xj+1,y(c)j+1)=  -1.02731123984552\n",
            "  c =  1 : y[j+1][c+1] =  1.4790874402884582\n",
            "     f(xj+1,y(c)j+1)=  -1.0627795184266886\n",
            "  c =  2 : y[j+1][c+1] =  1.476722888383047\n",
            "     f(xj+1,y(c)j+1)=  -1.0529946847041165\n",
            "  c =  3 : y[j+1][c+1] =  1.4773752106312186\n",
            "     f(xj+1,y(c)j+1)=  -1.0556925181826924\n",
            "  c =  4 : y[j+1][c+1] =  1.47719535506598\n",
            "     f(xj+1,y(c)j+1)=  -1.054948563839909\n",
            "  c =  5 : y[j+1][c+1] =  1.4772449520221658\n",
            "y =  1.4772449520221658 | diff =  4.9596956185782304e-05 \n",
            "\n",
            "------------------------\n"
          ],
          "name": "stdout"
        },
        {
          "output_type": "execute_result",
          "data": {
            "text/plain": [
              "([0, 0.2, 0.4, 0.6, 0.8, 1.0, 1.2, 1.4],\n",
              " [10,\n",
              "  8.639919,\n",
              "  5.9539949,\n",
              "  3.9974086,\n",
              "  2.8260416242662565,\n",
              "  2.147096213788479,\n",
              "  1.7310159716304112,\n",
              "  1.4772449520221658])"
            ]
          },
          "metadata": {
            "tags": []
          },
          "execution_count": 11
        }
      ]
    },
    {
      "cell_type": "markdown",
      "metadata": {
        "id": "sY-QyPJp9LEN"
      },
      "source": [
        "___\n",
        "# Difference Equations"
      ]
    },
    {
      "cell_type": "markdown",
      "metadata": {
        "id": "1VV01yaP9NxI"
      },
      "source": [
        "Let $x_n, x_{n+1},...,x_{n+k}$ be a set of *equi-spaced* grid points with space $h$, and $y_n,y_{n+1},...,y_{n+k}$ are the corresponding values of the function $u(x)$ at these points.\n",
        "\n",
        "We define $\\Delta y_i = y_{i+1}-y_i\\\\\\text{and}\\\\\\Delta^2y_n= \\Delta y_{n+1} - \\Delta y_{n} = (y_{n+2}-y_{n+1})-(y_{n+1}-y_{n})\\\\\n",
        "\\implies \\Delta^2y_n= y_{n+2}-2y_{n+1}+y_{n}\\\\\n",
        "\\text{in general}\\\\\n",
        "\\Delta^Ny_n= \\sum_{i = 0}^{N} (-1)^{i}{N\\choose i}y_{n+N-i}$"
      ]
    },
    {
      "cell_type": "markdown",
      "metadata": {
        "id": "pWAIEb44AEcZ"
      },
      "source": [
        "A difference equation of order 'k' \n",
        "> $F(y_n,...,y_{n+k}) = g$\n",
        "\n",
        "is said to be *homogeneous* if g = 0. Otherwise it is *inhomogeneous*.\n",
        "\n",
        "Like differen*tial* equations, solutions of linear diffe*rence* equations too have 2 parts-\n",
        "- The complementary solution, $u_n^{(H)}$, which is the solution to the homogeneous equation $a_0y_{n+k}+...+a_{k}y_{n} = 0$.\n",
        "- The particular solution, $u_n^p$, which is the solution to the inhomogeneous equation.\n",
        "\n",
        "$$u_n = u_n^{(H)}+u_n^{(p)}$$\n"
      ]
    },
    {
      "cell_type": "markdown",
      "metadata": {
        "id": "cWZ2gKKUBnv_"
      },
      "source": [
        "**Complementary Solution**\n",
        "\n",
        "To solve $a_0y_{n+k}+a_1y_{n+k-1}...+a_{k}y_{n} = 0$ we assume a solution of the form $y_n = A\\xi^n, A\\neq 0 ,A$ is a constant. \n",
        "\n",
        "$\\implies A(a_0\\xi^{k}+a_1\\xi^{k-1}+...+a_{k})\\xi^{n} = 0 \\\\\n",
        "\\implies a_0\\xi^{k}+a_1\\xi^{k-1}+...+a_{k} = 0 $ \n",
        "\n",
        "which is a polynomial of degree $k$. The equation above is called the *characteristic equation* of the difference equation $a_0y_{n+k}+a_1y_{n+k-1}...+a_{k}y_{n} = 0$.\n",
        "\n",
        "Nature of roots of characteristic equation:\n",
        "\n",
        "- **Real & Distinct Roots**\n",
        "> $y_n^{(H)} = c_1\\xi_1^n +c_2\\xi_2^n +...+c_k\\xi_k^n \\\\\\text{where } c_1,c_2,...,c_k \\text{ are arbitrary constants.}$\n",
        "\n",
        "- **Real & Repeated Roots**\n",
        ">If the multiplicity of the root $\\xi_i$ is $p$, and all other roots are distinct,<br> $y_n^{(H)} = (c_1+nc_2+...+n^pc_p)\\xi_1^n +c_{p+1}\\xi_2^n +...+c_k\\xi_{k-p+1}^n \\\\\\text{where } c_1,c_2,...,c_k \\text{ are arbitrary constants.}$\n",
        "\n",
        "- **Complex Roots**\n",
        ">For a polynomial with real coefficients, the complex roots occur as conjugate pairs,<br>\n",
        "$\\alpha +i\\beta = \\xi_1 = re^{i\\theta},\\\\\\alpha -i\\beta = \\xi_2= re^{-i\\theta},\\text{ where }\\theta = tan^{-1}(\\beta/\\alpha)$<br> If all other roots are distinct,<br>\n",
        "$y_n^{(H)} = [c_1\\cos(n\\theta)+c_2\\sin(n\\theta)]|\\xi^n|+c_3\\xi_3^n+...+c_k\\xi_k^n \\\\\\text{where } c_1,c_2,...,c_k \\text{ are arbitrary constants.}$"
      ]
    },
    {
      "cell_type": "markdown",
      "metadata": {
        "id": "Gnml2MmxBvvm"
      },
      "source": [
        "**Particular Solution**\n",
        "\n",
        "The particular solution depends on the form of $g_n$.\n",
        "\n",
        "- **$g_n = g$ is a constant**\n",
        "> $y_n^{(p)} = q(constant)= \\frac{g}{a_0+a_1+...+a_k}$\n",
        "\n",
        "- **$g_n = B+nC$**\n",
        "> $y_n^{(p)} = q+nr, \\text{ substitute this expression in the equation and get q,r by comparing coeffients of n on either side.}$\n",
        "\n"
      ]
    },
    {
      "cell_type": "markdown",
      "metadata": {
        "id": "KVVYEcLBTKz2"
      },
      "source": [
        "##Conditions for $u_n$ to be bounded as $n\\to \\infty$\n",
        "\n",
        "For $u_n^k\\to 0 \\text{ as }n\\to\\infty, |\\xi_i|< 1.$ \n",
        "\n",
        "For $u_n^k\\to \\text{ be bounded as }n\\to\\infty,$ \n",
        "> $|\\xi_i|< 1, i = 1,...,k$<br>*OR*<br>The roots are all simple (i.e. no complex/repeated roots) and $|\\xi_i|\\leq 1,i = 1,...,k$\n",
        "\n",
        "\n",
        "Now in many cases, the coefficients involve some parameters and we need to find the conditions (ranges of these parameters) for which the roots satisfy $|\\xi_i|< 1 \\forall i.$\n",
        "\n",
        "One of the methods to do so is to use the conformal mapping $\\xi = \\frac{1+z}{1-z}, \\text{ which maps the interior of the unit circle} |\\xi| = 1 \\text{ to the left half plane Re(z)<1, and the unit circle }|\\xi| = 1 \\text{ on to the imaginary axis.}$\n",
        "\n",
        "Upon simplification, $z = \\frac{\\xi-1}{\\xi+1}$,\n",
        "$\\xi = 1\\to z = 0\\\\\n",
        "\\xi = -1 \\to z = -\\infty$\n",
        "\n",
        "(Note: more on conformal mapping, which is a whole other topic (and a very interesting one too), in the Links/Resources cell.)\n"
      ]
    },
    {
      "cell_type": "markdown",
      "metadata": {
        "id": "aLL6BmiKV6OR"
      },
      "source": [
        "## Routh-Hurwitz criterion\n",
        "\n",
        "The Routh-Hurwitz criterion gives the necessary and sufficient conditions for the roots of the characteristic equation to have negative real parts.\n",
        "\n",
        "Let $p(z) = a_0z^{k}+a_1z^{k-1}+...a_kz\\\\and\\\\D = \\begin{vmatrix}a_{1}&a_{3}&a_{5}&...&a_{2k-1}\\\\a_{0}&a_{2}&a_{4}&...&a_{2k-2}\\\\0&a_{1}&a_{3}&...&a_{2k-3}\\\\0&a_{0}&a_{2}&...&a_{2k-4}\\\\...&...&...&...&...\\\\0&0&0&...&a_{k}\\end{vmatrix}\\\\\\text{where }a_j = 0 \\text{ for j>k}$.\n",
        "\n",
        "> The real parts of the roots of $p(z) = 0$ are negative $\\text{ iff the leading principal minors of D are positive.}$\n",
        "\n",
        "(The leading principal submatrix of order k of an $n × n$ matrix is obtained by deleting the last $n − k$ rows and column of the matrix. The determinant of a leading principal submatrix is called the leading principal minor of A.)"
      ]
    },
    {
      "cell_type": "markdown",
      "metadata": {
        "id": "X2ByB5FbUifs"
      },
      "source": [
        "If any of the $a_i$'s is:\n",
        "- Equal to zero, and others are greater than zero, **a root lies on the unit circle $|\\xi| = 1$**. In case of a double root, this would be unbounded. \n",
        "- Less than zero, then **$\\exists $ atleast one root for which $|\\xi| > 1$**. Here $u_n$ will be UNBOUNDED."
      ]
    },
    {
      "cell_type": "code",
      "metadata": {
        "id": "nY1RXoyT574U"
      },
      "source": [
        "#delta = 0 if not in delta form\n",
        "def difference_eq(order,coeffs_,g,delta):\n",
        "  coeff = [0]*len(coeffs_)\n",
        "  if delta == 1:\n",
        "    for i in range(len(coeffs_)):\n",
        "      for j in range(i,order+1):\n",
        "        coeff[j] += coeffs_[i]*((-1)**(j-i))*nCr(order-i,order-j)\n",
        "  else: coeff = coeffs_[:]\n",
        "  compSol = np.roots(coeff)\n",
        "  np.round(compSol,10)\n",
        "  print(coeff, compSol)\n",
        "  signlist = [0,0,0]\n",
        "  for coef in coeff:  \n",
        "    if coef<0: signlist[0]+=1\n",
        "    elif coef > 0: signlist[2]+=1\n",
        "    else: signlist[1]+=1\n",
        "  if signlist[1]+signlist[2] == order+1 or signlist[1]+signlist[0]==order+1:\n",
        "    print(\"A root lies on the unit circle.\")  \n",
        "  elif signlist[0]>0 and signlist[2]>0:\n",
        "    print(\"A root outside the unit circle hence unbounded.\")  "
      ],
      "execution_count": null,
      "outputs": []
    },
    {
      "cell_type": "code",
      "metadata": {
        "id": "u_M8CdOyS_cQ"
      },
      "source": [
        "# order = 5\n",
        "# RH_Det = np.zeros((order,order))\n",
        "# RH_Det\n",
        "# np.take(RH_Det, [[0, 1], [0, 1]])"
      ],
      "execution_count": null,
      "outputs": []
    },
    {
      "cell_type": "code",
      "metadata": {
        "colab": {
          "base_uri": "https://localhost:8080/"
        },
        "id": "XVqxgf00AYJn",
        "outputId": "387bd64f-0f73-4f56-ab0a-8bd85f1cc4b9"
      },
      "source": [
        "difference_eq(3,[3,-7,5,-1],0,0)"
      ],
      "execution_count": null,
      "outputs": [
        {
          "output_type": "stream",
          "text": [
            "[3, -7, 5, -1] [1.        +2.6603894e-08j 1.        -2.6603894e-08j\n",
            " 0.33333333+0.0000000e+00j]\n",
            "A root outside the unit circle hence unbounded.\n"
          ],
          "name": "stdout"
        }
      ]
    },
    {
      "cell_type": "code",
      "metadata": {
        "colab": {
          "base_uri": "https://localhost:8080/"
        },
        "id": "wPbkzF2JeqYv",
        "outputId": "6b476ac8-b4fb-4efa-866f-f342ec47048a"
      },
      "source": [
        "testlist = list(range(1,4+1))\n",
        "testlist"
      ],
      "execution_count": null,
      "outputs": [
        {
          "output_type": "execute_result",
          "data": {
            "text/plain": [
              "[1, 2, 3, 4]"
            ]
          },
          "metadata": {
            "tags": []
          },
          "execution_count": 89
        }
      ]
    },
    {
      "cell_type": "code",
      "metadata": {
        "id": "8hzz7NpDdpX4"
      },
      "source": [
        "def Routh_Hurwitz(order, coeffs):\n",
        "  RH_Det = np.zeros((order,order))\n",
        "  for j in range(order):\n",
        "    if j == order - 1:  \n",
        "      RH_Det[j][j] = coeffs[order]\n",
        "      break\n",
        "    for i in range(2*j+1,-1,-1):\n",
        "      if 2*j+1 < order: \n",
        "        RH_Det[i][j] = coeffs[2*j-i+1]\n",
        "      else:\n",
        "        \n",
        "  print(RH_Det)\n"
      ],
      "execution_count": null,
      "outputs": []
    },
    {
      "cell_type": "code",
      "metadata": {
        "colab": {
          "base_uri": "https://localhost:8080/"
        },
        "id": "3Iewn91Hhwxm",
        "outputId": "8c47e1cb-0182-4488-e6fa-3e4d899c3a49"
      },
      "source": [
        "Routh_Hurwitz(3, testlist)"
      ],
      "execution_count": null,
      "outputs": [
        {
          "output_type": "stream",
          "text": [
            "[[2. 0. 0.]\n",
            " [1. 0. 0.]\n",
            " [0. 0. 4.]]\n"
          ],
          "name": "stdout"
        }
      ]
    },
    {
      "cell_type": "markdown",
      "metadata": {
        "id": "AxI4p2W6xtW6"
      },
      "source": [
        "___"
      ]
    },
    {
      "cell_type": "markdown",
      "metadata": {
        "id": "o5VA9FGQo_vp"
      },
      "source": [
        "# **Boundary Value Problems**"
      ]
    },
    {
      "cell_type": "markdown",
      "metadata": {
        "id": "Dp6x1CJlpoL8"
      },
      "source": [
        "Consider the two-point BVP: $\\boxed{y'' = f(x,y,y'), x\\in (a,b)}$\n",
        "\n",
        "\n"
      ]
    },
    {
      "cell_type": "markdown",
      "metadata": {
        "id": "VBpuoD4jsfIo"
      },
      "source": [
        "**Existence and Uniqueness of Solution to a BVP:**<br>\n",
        "The solution of the boundary value problem exists and is unique if the following conditions are satisfied:<br>\n",
        ">Let $y' = z, \\text{ and }-\\infty< y,z,< \\infty.\\\\\n",
        "(i)f(x,y,z)\\text{ is continuous.}\\\\\n",
        "(ii)\\frac{\\partial f}{\\partial y}\\text{ and }\\frac{\\partial f}{\\partial z}\\text{ exist and are continuous.}\\\\\n",
        "(iii)\\frac{\\partial f}{\\partial y} > 0\\text{ and }|\\frac{\\partial f}{\\partial z}| \\leq w.$ \n"
      ]
    },
    {
      "cell_type": "markdown",
      "metadata": {
        "id": "ekYikHjRtyND"
      },
      "source": [
        "**Types of BVPs (types of boundary value conditions)**\n",
        "\n",
        "For $y'' = f(x,y,y'), x\\in (a,b)$\n",
        "\n",
        "1. Boundary value conditions of the *first kind*: \n",
        ">$y(a) = \\gamma_1,y(b) = \\gamma_2$<br>This is called the **Dirichlet BVP**\n",
        "2. Boundary value conditions of the *second kind*: \n",
        ">$y'(a) = \\gamma_1,y'(b) = \\gamma_2$<br>This is called the **Neumaan BVP**\n",
        "3. Boundary value conditions of the *third kind/ mixed kind*: \n",
        ">$a_0y(a)-a_1y'(a) = \\gamma_1,|a_0|+|a_1|\\neq 0 \\\\_{\\text{   (both are not simulataneously zero, otherwise it is no longer a boundary condition for y).}}\n",
        "\\\\b_0y(b)-b_1y'(b) = \\gamma_2, |b_0|+|b_1|\\neq 0 \\text{ and } |a_0|+|b_0|\\neq 0$<br>This is called the **Mixed/ Robin BVP**"
      ]
    },
    {
      "cell_type": "markdown",
      "metadata": {
        "id": "ItQ8lvxatyqF"
      },
      "source": [
        "**Types of Numerical Methods to Solve BVPs**\n",
        "\n",
        "1. <ins>Shooting Methods / Intial Value Problem Methods</ins>\n",
        "> Add a sufficient number of conditions at one end point. Keep adjusting these conditions till the required conditions are satisfied at the other end.\n",
        "2. <ins>Difference Methods</ins>\n",
        "> Replace the given differential equation with a set of difference equations, solve these difference equations by direct/ iterative methods. \n",
        "3. <ins>Finite Element Methods</ins>\n",
        "> The differential equation is discretised using approximate methods with the piecewise polynomial solution.\n",
        "\n"
      ]
    },
    {
      "cell_type": "markdown",
      "metadata": {
        "id": "CbwadL4xC3xJ"
      },
      "source": [
        "## <ins>Shooting Method/ IVP Method</ins>"
      ]
    },
    {
      "cell_type": "markdown",
      "metadata": {
        "id": "xgTHuiQfHiX7"
      },
      "source": [
        "This is a 'hit-and-trial' method. We guess a certain initial value for $y(a)\\text{ or }y'(a)\\text{ or both}$, and then we solve the related IVP upto $b$ using a single-step or multi-step method.\n",
        "\n",
        "If the solution at $x = b$ does not satisfy the given boundary condition at $x = b$ then we take another guess value of $y(a) \\text{ or }y'(a),$ and solve the problem again upto $x = b$. Based on the two solutions at $x = b$, we can make better guesses for the initial value."
      ]
    },
    {
      "cell_type": "markdown",
      "metadata": {
        "id": "kwWlk51WJK0u"
      },
      "source": [
        "**Linear Second Order Differential Equations**\n",
        "\n",
        "Consider the linear differential equation: $-y'' + p(x)y' +q(x)y =0.$<br> \n",
        "Assume that $p(x),q(x)>0, \\text{ and } r(x) \\text{ are continuous on }[a,b],$ so the BVP has a unique solution.\n",
        "\n",
        "The general solution can be written as $y(x) = y_0(x) +\\mu_1y_1(x) + \\mu_2y_2(x)$\n",
        "<br>where<br>\n",
        "- $y_0(x)$ is a **particular solution** of the non-homogeneous equation.\n",
        "- $y_1(x), y_2(x)$ are any two linearly independent **complementary solutions** of the corresponding homogeneous equation, $-y'' + p(x)y' +q(x)y =0.$"
      ]
    },
    {
      "cell_type": "markdown",
      "metadata": {
        "id": "-e64hlIpDhQS"
      },
      "source": [
        "###(i) Boundary conditions of first kind\n",
        "\n",
        "Given $y(a) = \\gamma_1, $ guess the value of the slope at $x=a$ as $y'(a) =s.$"
      ]
    },
    {
      "cell_type": "markdown",
      "metadata": {
        "id": "jzIKsBbZPpQU"
      },
      "source": [
        "Solving **Linear Second Order Differential Equations** of the form $-y'' + p(x)y' +q(x)y =0.$<br> \n",
        "1. <ins>Case 1</ins>: $\\gamma_1 \\neq 0$ \n",
        ">We choose : $y_0(a) = y_1(a) = y_2(a) = \\gamma_1\\\\y'_0(a) =\\eta^*_0, y'_1(a) =\\eta^*_1, y'_2(a) = \\eta^*_2,\\\\_{\\text{where }\\eta^*_0,\\eta^*_1,\\eta^*_2\\text{ are arbitrary}}$<br>\n",
        "Since $y_1, y_2$ are linearly independent solutions, a suitable choice of the initial conditions is $\\eta^*_0 =0,\\eta^*_1=1,\\eta^*_2 = 0.$<br><br> Solving the given equation:<br>\n",
        "<ins>At x = a </ins>: $y(a) = y_0(a) +\\mu_1y_1(a)+\\mu_2y_2(a) = \\gamma_1 ... \\because y(a) = \\gamma_1\\\\\n",
        "\\Rightarrow\\gamma_1 + \\mu_1\\gamma_1  +\\mu_2\\gamma_1 = \\gamma_1\\\\\n",
        "\\Rightarrow\\mu_1+\\mu_2 = 0$<br>\n",
        "<ins>At x = b</ins> : $y(b) = y_0(b) +\\mu_1y_1(b)+\\mu_2y_2(b) = \\gamma_2 ... \\because y(b) = \\gamma_2\\\\\n",
        "\\Rightarrow\\mu_1y_1(b)+\\mu_2y_2(b) = \\gamma_2-y_0(b)\\\\\n",
        "\\Rightarrow -\\mu_2y_1(b)+\\mu_2y_2(b) = \\gamma_2-y_0(b)\\\\\n",
        "\\Rightarrow \\mu_2 = \\frac{\\gamma_2-y_0(b)}{y_2(b)-y_1(b)},\\hspace{5mm}y_2(b)\\neq y_1(b) $<br>\n",
        "\n",
        "2. <ins>Case 2</ins>: $\\gamma_1 = 0$ \n",
        "> We do not take the same conditions as in Case 1 since $[y_1(a),y_1(a')] = [0,1]\\text{ and }[y_2(a),y_2(a')] = [0,0]\\text{ are linearly dependent.}$<br>We choose : $y_0(a) =\\eta_0, y_1(a) =\\eta_1, y_2(a) = \\eta_2\\\\y'_0(a) =\\eta^*_0, y'_1(a) =\\eta^*_1, y'_2(a) = \\eta^*_2$<br>\n",
        "Since $y_1, y_2$ are linearly independent solutions, a suitable choice of the initial conditions is $\\eta_0 = \\gamma_1,\\eta^*_0 =0;\\eta_1 = 1,\\eta^*_1 =0;\\eta_2 = 0,\\eta^*_2 = 1$<br><br> Solving the given equation:<br>\n",
        "<ins>At x = a </ins>: $y(a) = y_0(a) +\\mu_1y_1(a)+\\mu_2y_2(a) = \\gamma_1 \\\\\n",
        "\\Rightarrow\\gamma_1 + \\mu_1\\eta_1  +\\mu_2\\eta_2 = \\gamma_1\\\\\n",
        "\\Rightarrow\\mu_1\\eta_1  +\\mu_2\\eta_2= 0\\\\\n",
        "\\because \\text{ we took }\\eta_2 = 0 \\Rightarrow \\mu_1 = 0$<br>\n",
        "<ins>At x = b</ins> : $y(b) = y_0(b) +\\mu_1y_1(b)+\\mu_2y_2(b) = \\gamma_2 ... \\because y(b) = \\gamma_2\\\\\n",
        "\\Rightarrow\\mu_1y_1(b)+\\mu_2y_2(b) = \\gamma_2-y_0(b)\\\\\n",
        "\\Rightarrow \\mu_2y_2(b) = \\gamma_2-y_0(b)\\\\\n",
        "\\Rightarrow \\mu_2 = \\frac{\\gamma_2-y_0(b)}{y_2(b)},\\hspace{5mm}y_2(b)\\neq 0 $<br>"
      ]
    },
    {
      "cell_type": "markdown",
      "metadata": {
        "id": "FDwJk6c64YV0"
      },
      "source": [
        "Eg. Using the shooting method, solve the first boundary value problem $$u'' = u +1, 0 < x < 1\\\\u(0) = 0, u(1) = e-1.$$ <br>\n",
        "Use the Euler Cauchy method with $h = 0.25$ to solve the resulting system of first order IVPs. Compare the solution with the exact solution $u(x) = e^x -1$"
      ]
    },
    {
      "cell_type": "markdown",
      "metadata": {
        "id": "m4M1QEC26SQT"
      },
      "source": [
        "Ans. Since the BVP is linear, non-homogeneous, we assume the solution is in the form <br>\n",
        "```u(x) = u0(x) + m1u1(x) + m2u2(x)``` <br>\n",
        "So we have <br>\n",
        ">```u0\"(x) - u0(x) = 1,``` <br>\n",
        "```u1\"(x) - u1(x) = 0,```  \n",
        "```u2\"(x) - u2(x) = 0```\n",
        "\n",
        "We guess: \n",
        ">```u0'(0) = 0```<br>\n",
        "```u1(0) = 1, u1'(0) = 0```<br>\n",
        "```u2(0) = 0, u2'(0) = 1```<br>\n",
        "\n",
        "We can write the above 3 equations as *3 systems of first order equations*, using:\n",
        "> ```u0(x) = Y0(x), u0'(x) = Y0'(x) = Z0(x)```<br>\n",
        "```u1(x) = Y1(x), u1'(x) = Y1'(x) = Z1(x)```<br>\n",
        "```u2(x) = Y2(x), u2'(x) = Y2'(x) = Z2(x)```\n",
        "\n",
        "which can be written as\n",
        ">$\\begin{bmatrix}Y_0\\\\Z_0\\end{bmatrix}' = \\begin{bmatrix}Z_0\\\\1+Y_0\\end{bmatrix}, \\begin{bmatrix}Y_0(0)\\\\Z_0(0)\\end{bmatrix} = \\begin{bmatrix}0\\\\0\\end{bmatrix}$\n",
        "\n",
        ">$\\begin{bmatrix}Y_1\\\\Z_1\\end{bmatrix}' = \\begin{bmatrix}Z_1\\\\Y_1\\end{bmatrix}, \\begin{bmatrix}Y_1(0)\\\\Z_1(0)\\end{bmatrix} = \\begin{bmatrix}1\\\\0\\end{bmatrix}$\n",
        "\n",
        ">$\\begin{bmatrix}Y_2\\\\Z_2\\end{bmatrix}' = \\begin{bmatrix}Z_2\\\\Y_2\\end{bmatrix}, \\begin{bmatrix}Y_2(0)\\\\Z_2(0)\\end{bmatrix} = \\begin{bmatrix}0\\\\1\\end{bmatrix}$\n",
        "\n",
        "Now using the Euler Cauchy Method -\n"
      ]
    },
    {
      "cell_type": "code",
      "metadata": {
        "colab": {
          "base_uri": "https://localhost:8080/"
        },
        "id": "hR6tXV-X7Kyh",
        "outputId": "1015e877-208b-4623-ca9c-64e4a74ee07f"
      },
      "source": [
        "#Eg. Shooting Method using Euler-Cauchy for equivalent system of IVPs (Example from Programming Assignment 1, Q4.)\n",
        "x_i, x_max = np.array([0,0]), np.array([1,1])\n",
        "y_i = np.array([0,0])\n",
        "h = 0.25\n",
        "f = [lambda x, y : y[1],lambda x, y : 1+ y[0]]\n",
        "X1,Y1 = ECSystem(f, x_i, y_i, x_max, h)\n",
        "\n",
        "x_i, x_max = np.array([0,0]), np.array([1,1])\n",
        "y_i = np.array([1,0])\n",
        "h = 0.25\n",
        "f = [lambda x, y : y[1],lambda x, y : y[0]]\n",
        "X2,Y2 = ECSystem(f, x_i, y_i, x_max, h)\n",
        "\n",
        "x_i, x_max = np.array([0,0]), np.array([1,1])\n",
        "y_i = np.array([0,1])\n",
        "h = 0.25\n",
        "f = [lambda x, y : y[1],lambda x, y : y[0]]\n",
        "X3,Y3 = ECSystem(f, x_i, y_i, x_max, h)"
      ],
      "execution_count": null,
      "outputs": [
        {
          "output_type": "stream",
          "text": [
            "Euler Cauchy Method\n",
            "j =  0 K1 =  [0.   0.25] | K2 =  [0.0625 0.25  ] | x =  [0.25 0.25] | y =  [0.03125 0.25   ]\n",
            "j =  1 K1 =  [0.0625    0.2578125] | K2 =  [0.12695312 0.2734375 ] | x =  [0.5 0.5] | y =  [0.12597656 0.515625  ]\n",
            "j =  2 K1 =  [0.12890625 0.28149414] | K2 =  [0.19927979 0.3137207 ] | x =  [0.75 0.75] | y =  [0.29006958 0.81323242]\n",
            "j =  3 K1 =  [0.20330811 0.3225174 ] | K2 =  [0.28393745 0.37334442] | x =  [1. 1.] | y =  [0.53369236 1.16116333]\n",
            "------------------------\n",
            "Euler Cauchy Method\n",
            "j =  0 K1 =  [0.   0.25] | K2 =  [0.0625 0.25  ] | x =  [0.25 0.25] | y =  [1.03125 0.25   ]\n",
            "j =  1 K1 =  [0.0625    0.2578125] | K2 =  [0.12695312 0.2734375 ] | x =  [0.5 0.5] | y =  [1.12597656 0.515625  ]\n",
            "j =  2 K1 =  [0.12890625 0.28149414] | K2 =  [0.19927979 0.3137207 ] | x =  [0.75 0.75] | y =  [1.29006958 0.81323242]\n",
            "j =  3 K1 =  [0.20330811 0.3225174 ] | K2 =  [0.28393745 0.37334442] | x =  [1. 1.] | y =  [1.53369236 1.16116333]\n",
            "------------------------\n",
            "Euler Cauchy Method\n",
            "j =  0 K1 =  [0.25 0.  ] | K2 =  [0.25   0.0625] | x =  [0.25 0.25] | y =  [0.25    1.03125]\n",
            "j =  1 K1 =  [0.2578125 0.0625   ] | K2 =  [0.2734375  0.12695312] | x =  [0.5 0.5] | y =  [0.515625   1.12597656]\n",
            "j =  2 K1 =  [0.28149414 0.12890625] | K2 =  [0.3137207  0.19927979] | x =  [0.75 0.75] | y =  [0.81323242 1.29006958]\n",
            "j =  3 K1 =  [0.3225174  0.20330811] | K2 =  [0.37334442 0.28393745] | x =  [1. 1.] | y =  [1.16116333 1.53369236]\n",
            "------------------------\n"
          ],
          "name": "stdout"
        }
      ]
    },
    {
      "cell_type": "code",
      "metadata": {
        "colab": {
          "base_uri": "https://localhost:8080/"
        },
        "id": "zirMH6Qk_p8M",
        "outputId": "21f211b1-e013-4e78-c6ff-7d64719d45c1"
      },
      "source": [
        "np.array([1,2,3])/np.array([0.5,2,1])"
      ],
      "execution_count": null,
      "outputs": [
        {
          "output_type": "execute_result",
          "data": {
            "text/plain": [
              "numpy.ndarray"
            ]
          },
          "metadata": {
            "tags": []
          },
          "execution_count": 21
        }
      ]
    },
    {
      "cell_type": "code",
      "metadata": {
        "colab": {
          "base_uri": "https://localhost:8080/"
        },
        "id": "R7Bnqh_w-Xwo",
        "outputId": "069e112e-a8d5-43ea-8d96-479b867be39e"
      },
      "source": [
        "print((e-1-0.53369236)/1.16116333)"
      ],
      "execution_count": null,
      "outputs": [
        {
          "output_type": "stream",
          "text": [
            "1.0201747143177913\n"
          ],
          "name": "stdout"
        }
      ]
    },
    {
      "cell_type": "markdown",
      "metadata": {
        "id": "rU66jSMIERc6"
      },
      "source": [
        "###(ii) Boundary conditions of second kind\n",
        "\n",
        "Given $y'(a) = \\gamma_1, $ guess the value of the $y(x)$ at $x=a$ as $y(a) =s$."
      ]
    },
    {
      "cell_type": "markdown",
      "metadata": {
        "id": "ipOWnq4j6480"
      },
      "source": [
        "Solving **Linear Second Order Differential Equations** of the form $-y'' + p(x)y' +q(x)y =0.$<br> \n",
        "1. <ins>Case 1</ins>: $\\gamma_1 \\neq 0$ \n",
        ">We choose : $y_0(a) =\\eta_0, y_1(a) =\\eta_1, y_2(a) = \\eta_2\\\\y'_0(a) = y'_1(a) = y'_2(a) = \\gamma_1,\\\\_{\\text{where }\\eta_0,\\eta_1,\\eta_2\\text{ are arbitrary}}$<br>\n",
        "Since $y_1, y_2$ are linearly independent solutions, a suitable choice of the initial conditions is $\\eta_0 =0,\\eta_1=1,\\eta_2 = 0.$<br><br> Solving the given equation:<br>\n",
        "<ins>At x = a </ins>: $y'(a) = y'_0(a) +\\mu_1y'_1(a)+\\mu_2y'_2(a) = \\gamma_1 ... \\because y'(a) = \\gamma_1\\\\\n",
        "\\Rightarrow\\gamma_1 + \\mu_1\\gamma_1  +\\mu_2\\gamma_1 = \\gamma_1\\\\\n",
        "\\Rightarrow\\mu_1+\\mu_2 = 0$<br>\n",
        "<ins>At x = b</ins> : $y'(b) = y'_0(b) +\\mu_1y'_1(b)+\\mu_2y'_2(b) = \\gamma_2 ... \\because y'(b) = \\gamma_2\\\\\n",
        "\\Rightarrow\\mu_1y'_1(b)+\\mu_2y'_2(b) = \\gamma_2-y'_0(b)\\\\\n",
        "\\Rightarrow -\\mu_2y'_1(b)+\\mu_2y'_2(b) = \\gamma_2-y'_0(b)\\\\\n",
        "\\Rightarrow \\mu_2 = \\frac{\\gamma_2-y'_0(b)}{y'_2(b)-y'_1(b)},\\hspace{5mm}y'_2(b)\\neq y'_1(b) $<br>\n",
        "\n",
        "2. <ins>Case 2</ins>: $\\gamma_1 = 0$ \n",
        "> We do not take the same conditions as in Case 1 since $[y_1(a),y_1(a')] = [0,1]\\text{ and }[y_2(a),y_2(a')] = [0,0]\\text{ are linearly dependent.}$<br>We choose : $y_0(a) =\\eta_0, y_1(a) =\\eta_1, y_2(a) = \\eta_2\\\\y'_0(a) =\\eta^*_0, y'_1(a) =\\eta^*_1, y'_2(a) = \\eta^*_2$<br>\n",
        "Since $y_1, y_2$ are linearly independent solutions, a suitable choice of the initial conditions is $\\eta_0 = 0,\\eta^*_0 =\\gamma_1=0;\\eta_1 = 1,\\eta^*_1 =0;\\eta_2 = 0,\\eta^*_2 = 1$<br><br> Solving the given equation:<br>\n",
        "<ins>At x = a </ins>: $y'(a) = y'_0(a) +\\mu_1y'_1(a)+\\mu_2y'_2(a) = \\gamma_1 = 0\\\\\n",
        "\\Rightarrow \\mu_1\\eta^*_1  +\\mu_2\\eta^*_2 = 0\\\\\n",
        "\\because \\text{ we took }\\eta^*_1 = 0 \\Rightarrow \\mu_2 = 0$<br>\n",
        "<ins>At x = b</ins> : $y'(b) = y'_0(b) +\\mu_1y'_1(b)+\\mu_2y'_2(b) = \\gamma_2 ... \\because y(b) = \\gamma_2\\\\\n",
        "\\Rightarrow\\mu_1y'_1(b)+\\mu_2y'_2(b) = \\gamma_2-y'_0(b)\\\\\n",
        "\\Rightarrow \\mu_1y'_1(b) = \\gamma_2-y'_0(b)\\\\\n",
        "\\Rightarrow \\mu_1 = \\frac{\\gamma_2-y'_0(b)}{y'_1(b)},\\hspace{5mm}y'_1(b)\\neq 0 $<br>"
      ]
    },
    {
      "cell_type": "markdown",
      "metadata": {
        "id": "aJ0p63dwEd4q"
      },
      "source": [
        "###(iii) Boundary conditions of third kind\n",
        "\n",
        "Given $a_0y(a)-a_1y'(a) = \\gamma_1$, guess the value of $y(a)$ or $y'(a)$ at $x=a.$ <br>\n",
        "Eg. if we take as $y'(a) =s \\implies y(a) = \\frac{\\gamma_1 +a_1s}{a_0}$"
      ]
    },
    {
      "cell_type": "markdown",
      "metadata": {
        "id": "33JaRP6GRP2G"
      },
      "source": [
        "Solving **Linear Second Order Differential Equations** of the form $-y'' + p(x)y' +q(x)y =0.$<br> \n",
        "\n",
        "We assume the arbitrary initial condition as $y_0(a) = \\eta_0, y_1(a) = \\eta_1, y_2(a) = \\eta_2\\\\y'_0(a) = \\eta^*_0, y'_1(a) = \\eta^*_1, y'_2(a) = \\eta^*_2$\n",
        "\n",
        "A suitable set of values is $\\eta_0 = 0, \\eta^*_0 = 0;\\eta_1 = 1, \\eta^*_1=0; \\eta_2 = 0, \\eta^*_2 = 1.$\n",
        "\n",
        "At x = a:\n",
        "> $a_0[y_0(a) + \\mu_1y_1(a)+\\mu_2y_2(a)] - a_1[y'_0(a) + \\mu_1y'_1(a)+\\mu_2y'_2(a)] = \\gamma_1\\\\\n",
        "\\Rightarrow a_0[\\eta_0(a) + \\mu_1\\eta_1(a)+\\mu_2\\eta_2(a)] - a_1[\\eta^*_0(a) + \\mu_1\\eta^*_1(a)+\\mu_2\\eta^*_2(a)] = \\gamma_1\\\\ \\Rightarrow a_0\\mu_1 - a_1\\mu_2 = \\gamma_1$\n",
        "\n",
        "At x = b:\n",
        "> $b_0[y_0(b) + \\mu_1y_1(b)+\\mu_2y_2(b)] + b_1[y'_0(b) + \\mu_1y'_1(b)+\\mu_2y'_2(b)] = \\gamma_2\\\\\n",
        "\\Rightarrow \\mu_1[b_0y_1(b) + b_1y'_1(b)]+\\mu_2[b_0y_2(b) + b_1y'_2(b)] = \\gamma_2 - [b_0y_0(b) + b_1y'_0(b)]$\n"
      ]
    },
    {
      "cell_type": "markdown",
      "metadata": {
        "id": "txaeMrHrJjQv"
      },
      "source": [
        "\n",
        "\n",
        "---\n",
        "\n",
        "\n",
        "## <ins>Difference Methods</ins>"
      ]
    },
    {
      "cell_type": "markdown",
      "metadata": {
        "id": "Q0ByLYe7JwEP"
      },
      "source": [
        "###(i) Boundary conditions of first kind\n",
        "\n",
        "Given $y(a) = \\gamma_1, $ guess the value of the slope at $x=a$ as $y'(a) =s.$"
      ]
    },
    {
      "cell_type": "markdown",
      "metadata": {
        "id": "FUvZpGznJwEP"
      },
      "source": [
        "###(ii) Boundary conditions of first kind\n",
        "\n",
        "Given $y'(a) = \\gamma_1, $ guess the value of the $y(x)$ at $x=a$ as $y(a) =s$."
      ]
    },
    {
      "cell_type": "markdown",
      "metadata": {
        "id": "NCVuRCCpJwEQ"
      },
      "source": [
        "###(iii) Boundary conditions of first kind\n",
        "\n",
        "Given $a_0y(a)-a_1y'(a) = \\gamma_1$, guess the value of $y(a)$ or $y'(a)$ at $x=a.$ <br>\n",
        "Eg. if we take as $y'(a) =s \\implies y(a) = \\frac{\\gamma_1 +a_1s}{a_0}$"
      ]
    },
    {
      "cell_type": "markdown",
      "metadata": {
        "id": "BUI84Z-jSmWR"
      },
      "source": []
    },
    {
      "cell_type": "markdown",
      "metadata": {
        "id": "CRRQ0_yRc3Vf"
      },
      "source": [
        "# Systems of Equations"
      ]
    },
    {
      "cell_type": "markdown",
      "metadata": {
        "id": "sButEXvI5Z6A"
      },
      "source": [
        "# PDEs"
      ]
    },
    {
      "cell_type": "markdown",
      "metadata": {
        "id": "4ZbRsOgY5cpK"
      },
      "source": [
        "## Parabolic PDEs"
      ]
    },
    {
      "cell_type": "markdown",
      "metadata": {
        "id": "9N4tj3nj5gNA"
      },
      "source": [
        "### Schmidt Method"
      ]
    },
    {
      "cell_type": "code",
      "metadata": {
        "id": "vR2FvQxG5Zm0"
      },
      "source": [
        "#@title Schmidt Method Code\n",
        "\n",
        "def Schmidt(f, x_i, t_i, x_max, t_max, h, k):\n",
        "  alpha = k/(h**2)\n",
        "  M = int((x_max-x_i)/h)\n",
        "  N = (t_max-t_i)/k)\n",
        "  u = np.array([[0]*M]*int(N)\n",
        "  x = x_i[len(x_i)-1] \n",
        "  print(x)\n",
        "  # Predictor = Adam's Bashforth Method of 4th order\n",
        "  P = lambda x0,x1,x2,x3, y0,y1,y2,y3: y0 +4*h/3*(2*f(x3,y3)-f(x2,y2)+2*f(x1,y1))\n",
        "  # Corrector = Milne Simpson's Corrector Method of 4th order\n",
        "  C = lambda x1,x2,x3,x4,y1,y2,y3,ytemp: y2 + h/3*(f(x4,ytemp)+4*f(x3,y3)+f(x2,y2))\n",
        "\n",
        "  Ylist = y_i\n",
        "  Xlist = x_i\n",
        "  j = 0\n",
        "  while x <= x_max:\n",
        "    c = 0\n",
        "    y_j1p = P(Xlist[j],Xlist[j+1],Xlist[j+2],Xlist[j+3],Ylist[j],Ylist[j+1],Ylist[j+2],Ylist[j+3])\n",
        "    x = round(x+h, 7) \n",
        "    print(\"j = \",j,\"| x[j+1] = \",x,\"| y[j]p = \", y_j1p)\n",
        "    y_prev = y_j1p\n",
        "    while c+1:\n",
        "      print(\"     f(xj+1,y(c)j+1)= \",f(x,y_prev))\n",
        "      y_j1c = C(Xlist[j+1],Xlist[j+2],Xlist[j+3],x,Ylist[j+1],Ylist[j+2],Ylist[j+3], y_prev)\n",
        "      print(\"  c = \",c,\": y[j+1][c+1] = \",y_j1c)\n",
        "      c+=1\n",
        "      if abs(abs(y_j1c)-abs(y_prev)) < 0.0001: break\n",
        "      y_prev = y_j1c\n",
        "    \n",
        "    y_j = y_j1c\n",
        "    print(\"y = \",y_j,\"| diff = \",abs(abs(y_j1c)-abs(y_prev)),'\\n')\n",
        "    Xlist.append(x)\n",
        "    Ylist.append(y_j)\n",
        "    j+=1\n",
        "  print(\"------------------------\")\n",
        "  return Xlist,Ylist"
      ],
      "execution_count": null,
      "outputs": []
    },
    {
      "cell_type": "markdown",
      "metadata": {
        "id": "vukSSrEHarFe"
      },
      "source": [
        "\n",
        "\n",
        "---\n",
        "\n",
        "\n",
        "# **Appendix**\n",
        "\n"
      ]
    },
    {
      "cell_type": "markdown",
      "metadata": {
        "id": "jE-4JZ0rC83B"
      },
      "source": [
        "#A. Sources + Extra Reading"
      ]
    },
    {
      "cell_type": "markdown",
      "metadata": {
        "id": "GjaBg6C4C6_P"
      },
      "source": [
        "- https://www.lkouniv.ac.in/site/writereaddata/siteContent/202004032250572068siddharth_bhatt_engg_Numerical_Solution_of_Ordinary_Differential_Equations.pdf\n",
        "\n",
        "- http://egyankosh.ac.in/bitstream/123456789/12556/1/Unit-8.pdf\n",
        "\n",
        "- Numerical Methods, Jain & Iyengar https://docs.google.com/file/d/0B8qx1_Linnf3Q1BSX0lhYWxNeVU/edit (methods to solve differential equations from pg 284)\n",
        "\n",
        "- Conformal Mapping\n",
        "https://www.youtube.com/watch?v=48aerHs9wL0 \n",
        "\n",
        "- Determinant properties http://www.pitt.edu/~luca/ECON2001/lecture_08.pdf"
      ]
    },
    {
      "cell_type": "markdown",
      "metadata": {
        "id": "GhsEnHCWnwkV"
      },
      "source": [
        "#B. Quick Recap of Concepts Used Here"
      ]
    },
    {
      "cell_type": "markdown",
      "metadata": {
        "id": "dIL29sRzn1Xk"
      },
      "source": [
        "### Determinants"
      ]
    },
    {
      "cell_type": "markdown",
      "metadata": {
        "id": "mc56m_mCn4Xe"
      },
      "source": [
        "### Linear Algebra\n"
      ]
    },
    {
      "cell_type": "markdown",
      "metadata": {
        "id": "xy3dXzpepxcn"
      },
      "source": [
        "> **Linear Independence**"
      ]
    },
    {
      "cell_type": "markdown",
      "metadata": {
        "id": "LtokBPmRob-U"
      },
      "source": [
        "### Complex Analysis "
      ]
    },
    {
      "cell_type": "markdown",
      "metadata": {
        "id": "j52joMjLof42"
      },
      "source": [
        "> **Conformal Mapping**"
      ]
    },
    {
      "cell_type": "markdown",
      "metadata": {
        "id": "a6NE787Lf6jE"
      },
      "source": [
        "# Rough"
      ]
    },
    {
      "cell_type": "code",
      "metadata": {
        "id": "BkmXtsNMOmJB"
      },
      "source": [
        "# assignment 3, q3. \n",
        "def A3Q3(f, x_i, y_i, h):\n",
        "  Y = y_i[:]\n",
        "  X = x_i[:]\n",
        "  print(len(X))\n",
        "  j = 0\n",
        "  for j in range(len(X)-2):\n",
        "    y_j = Y[j] - h/6*(f(X[j+2],Y[j+2]) - 14*f(X[j+1],Y[j+1])+f(X[j],Y[j]))\n",
        "    print(\"x = \",X[j+2],\"|  y = \",y_j)\n",
        "    Y.append(y_j)\n",
        "    j+=1\n",
        "  print(\"------------------------\")\n",
        "  return X,Y"
      ],
      "execution_count": null,
      "outputs": []
    },
    {
      "cell_type": "code",
      "metadata": {
        "colab": {
          "base_uri": "https://localhost:8080/",
          "height": 390
        },
        "id": "jaZtVq9tPtnL",
        "outputId": "15b204ef-c901-43e8-cb97-2dcb59bcfcf6"
      },
      "source": [
        "x_i, x_max = 0,0.3\n",
        "h = 0.1\n",
        "X1 = [round(h*i,3) for i in range(int((x_max-x_i)/h)+2)]\n",
        "print(X1)\n",
        "Y1 = [1,1.11033]\n",
        "f = lambda x,y: x+y\n",
        "A3Q3(f, X1, Y1, h)\n",
        "# f = [lambda x, y : y[1],lambda x, y : 1+ y[0]]\n",
        "# X1,Y1 = ECSystem(f, x_i, y_i, x_max, h)"
      ],
      "execution_count": null,
      "outputs": [
        {
          "output_type": "stream",
          "text": [
            "[0.0, 0.1, 0.2, 0.3]\n",
            "4\n"
          ],
          "name": "stdout"
        },
        {
          "output_type": "error",
          "ename": "IndexError",
          "evalue": "ignored",
          "traceback": [
            "\u001b[0;31m---------------------------------------------------------------------------\u001b[0m",
            "\u001b[0;31mIndexError\u001b[0m                                Traceback (most recent call last)",
            "\u001b[0;32m<ipython-input-21-d98a8baaa4f8>\u001b[0m in \u001b[0;36m<module>\u001b[0;34m()\u001b[0m\n\u001b[1;32m      5\u001b[0m \u001b[0mY1\u001b[0m \u001b[0;34m=\u001b[0m \u001b[0;34m[\u001b[0m\u001b[0;36m1\u001b[0m\u001b[0;34m,\u001b[0m\u001b[0;36m1.11033\u001b[0m\u001b[0;34m]\u001b[0m\u001b[0;34m\u001b[0m\u001b[0;34m\u001b[0m\u001b[0m\n\u001b[1;32m      6\u001b[0m \u001b[0mf\u001b[0m \u001b[0;34m=\u001b[0m \u001b[0;32mlambda\u001b[0m \u001b[0mx\u001b[0m\u001b[0;34m,\u001b[0m\u001b[0my\u001b[0m\u001b[0;34m:\u001b[0m \u001b[0mx\u001b[0m\u001b[0;34m+\u001b[0m\u001b[0my\u001b[0m\u001b[0;34m\u001b[0m\u001b[0;34m\u001b[0m\u001b[0m\n\u001b[0;32m----> 7\u001b[0;31m \u001b[0mA3Q3\u001b[0m\u001b[0;34m(\u001b[0m\u001b[0mf\u001b[0m\u001b[0;34m,\u001b[0m \u001b[0mX1\u001b[0m\u001b[0;34m,\u001b[0m \u001b[0mY1\u001b[0m\u001b[0;34m,\u001b[0m \u001b[0mh\u001b[0m\u001b[0;34m)\u001b[0m\u001b[0;34m\u001b[0m\u001b[0;34m\u001b[0m\u001b[0m\n\u001b[0m\u001b[1;32m      8\u001b[0m \u001b[0;31m# f = [lambda x, y : y[1],lambda x, y : 1+ y[0]]\u001b[0m\u001b[0;34m\u001b[0m\u001b[0;34m\u001b[0m\u001b[0;34m\u001b[0m\u001b[0m\n\u001b[1;32m      9\u001b[0m \u001b[0;31m# X1,Y1 = ECSystem(f, x_i, y_i, x_max, h)\u001b[0m\u001b[0;34m\u001b[0m\u001b[0;34m\u001b[0m\u001b[0;34m\u001b[0m\u001b[0m\n",
            "\u001b[0;32m<ipython-input-20-4c9253a0eeb7>\u001b[0m in \u001b[0;36mA3Q3\u001b[0;34m(f, x_i, y_i, h)\u001b[0m\n\u001b[1;32m      6\u001b[0m   \u001b[0mj\u001b[0m \u001b[0;34m=\u001b[0m \u001b[0;36m0\u001b[0m\u001b[0;34m\u001b[0m\u001b[0;34m\u001b[0m\u001b[0m\n\u001b[1;32m      7\u001b[0m   \u001b[0;32mfor\u001b[0m \u001b[0mj\u001b[0m \u001b[0;32min\u001b[0m \u001b[0mrange\u001b[0m\u001b[0;34m(\u001b[0m\u001b[0mlen\u001b[0m\u001b[0;34m(\u001b[0m\u001b[0mX\u001b[0m\u001b[0;34m)\u001b[0m\u001b[0;34m-\u001b[0m\u001b[0;36m2\u001b[0m\u001b[0;34m)\u001b[0m\u001b[0;34m:\u001b[0m\u001b[0;34m\u001b[0m\u001b[0;34m\u001b[0m\u001b[0m\n\u001b[0;32m----> 8\u001b[0;31m     \u001b[0my_j\u001b[0m \u001b[0;34m=\u001b[0m \u001b[0mY\u001b[0m\u001b[0;34m[\u001b[0m\u001b[0mj\u001b[0m\u001b[0;34m]\u001b[0m \u001b[0;34m-\u001b[0m \u001b[0mh\u001b[0m\u001b[0;34m/\u001b[0m\u001b[0;36m6\u001b[0m\u001b[0;34m*\u001b[0m\u001b[0;34m(\u001b[0m\u001b[0mf\u001b[0m\u001b[0;34m(\u001b[0m\u001b[0mX\u001b[0m\u001b[0;34m[\u001b[0m\u001b[0mj\u001b[0m\u001b[0;34m+\u001b[0m\u001b[0;36m2\u001b[0m\u001b[0;34m]\u001b[0m\u001b[0;34m,\u001b[0m\u001b[0mY\u001b[0m\u001b[0;34m[\u001b[0m\u001b[0mj\u001b[0m\u001b[0;34m+\u001b[0m\u001b[0;36m2\u001b[0m\u001b[0;34m]\u001b[0m\u001b[0;34m)\u001b[0m \u001b[0;34m-\u001b[0m \u001b[0;36m14\u001b[0m\u001b[0;34m*\u001b[0m\u001b[0mf\u001b[0m\u001b[0;34m(\u001b[0m\u001b[0mX\u001b[0m\u001b[0;34m[\u001b[0m\u001b[0mj\u001b[0m\u001b[0;34m+\u001b[0m\u001b[0;36m1\u001b[0m\u001b[0;34m]\u001b[0m\u001b[0;34m,\u001b[0m\u001b[0mY\u001b[0m\u001b[0;34m[\u001b[0m\u001b[0mj\u001b[0m\u001b[0;34m+\u001b[0m\u001b[0;36m1\u001b[0m\u001b[0;34m]\u001b[0m\u001b[0;34m)\u001b[0m\u001b[0;34m+\u001b[0m\u001b[0mf\u001b[0m\u001b[0;34m(\u001b[0m\u001b[0mX\u001b[0m\u001b[0;34m[\u001b[0m\u001b[0mj\u001b[0m\u001b[0;34m]\u001b[0m\u001b[0;34m,\u001b[0m\u001b[0mY\u001b[0m\u001b[0;34m[\u001b[0m\u001b[0mj\u001b[0m\u001b[0;34m]\u001b[0m\u001b[0;34m)\u001b[0m\u001b[0;34m)\u001b[0m\u001b[0;34m\u001b[0m\u001b[0;34m\u001b[0m\u001b[0m\n\u001b[0m\u001b[1;32m      9\u001b[0m     \u001b[0mprint\u001b[0m\u001b[0;34m(\u001b[0m\u001b[0;34m\"x = \"\u001b[0m\u001b[0;34m,\u001b[0m\u001b[0mX\u001b[0m\u001b[0;34m[\u001b[0m\u001b[0mj\u001b[0m\u001b[0;34m+\u001b[0m\u001b[0;36m2\u001b[0m\u001b[0;34m]\u001b[0m\u001b[0;34m,\u001b[0m\u001b[0;34m\"|  y = \"\u001b[0m\u001b[0;34m,\u001b[0m\u001b[0my_j\u001b[0m\u001b[0;34m)\u001b[0m\u001b[0;34m\u001b[0m\u001b[0;34m\u001b[0m\u001b[0m\n\u001b[1;32m     10\u001b[0m     \u001b[0mY\u001b[0m\u001b[0;34m.\u001b[0m\u001b[0mappend\u001b[0m\u001b[0;34m(\u001b[0m\u001b[0my_j\u001b[0m\u001b[0;34m)\u001b[0m\u001b[0;34m\u001b[0m\u001b[0;34m\u001b[0m\u001b[0m\n",
            "\u001b[0;31mIndexError\u001b[0m: list index out of range"
          ]
        }
      ]
    },
    {
      "cell_type": "code",
      "metadata": {
        "id": "nHr2vUSHNgmj"
      },
      "source": [
        "#Mathematica Picard's\n",
        "For[{n = 1, y[0][x_] = 0}, n < 4, n++, y[n][x_] = 1 + Integrate[y[n - 1][t]^2 + t^2, {t, 0, x}];\n",
        "    #here the function is taken to be x^2+y^2\n",
        "Print[{n, y[n][t]}]] "
      ],
      "execution_count": null,
      "outputs": []
    },
    {
      "cell_type": "code",
      "metadata": {
        "id": "Eoyfs_usa7uu"
      },
      "source": [
        "## @title Backward Euler Code\n",
        "#BACKWARD EULER with Newton-Rhapson Sub-Procedure\n",
        "def BEM(f, f_, x_i, y_i, x_max, h):\n",
        "  x = x_i\n",
        "  y_j = y_i\n",
        "  # F and F' for NR Method\n",
        "  F = lambda yj1s, y_j, x : yj1s - y_j - h*f(x,yj1s)\n",
        "  F_ = lambda yj1s, x : 1 - h*f_(x,yj1s)\n",
        "\n",
        "  Ylist = [y_i]\n",
        "  Xlist = [x_i]\n",
        "  j = 0\n",
        "  while x <= x_max:\n",
        "    s = 0\n",
        "    y_j1s = y_j\n",
        "    x = round(x+h, 4) \n",
        "    print(\"j = \",j,\"| x[j+1] = \",x,\"| y[j] = \", y_j)\n",
        "    while s+1:\n",
        "      y_prev = y_j1s\n",
        "      y_j1s = y_j1s - F(y_j1s, y_j, x)/F_(y_j1s, x)\n",
        "      print(\" s = \",s,\": y[j+1][s+1] = \",y_j1s,\"| F = \",F(y_prev, y_j, x), \"| F' = \", F_(y_prev, x))\n",
        "      s+=1\n",
        "      if abs(abs(y_j1s)-abs(y_prev)) < 0.0001: break\n",
        "    y_j = y_j1s\n",
        "    Xlist.append(x)\n",
        "    Ylist.append(y_j)\n",
        "    j+=1\n",
        "  print(\"------------------------\")\n",
        "  return Xlist,Ylist"
      ],
      "execution_count": null,
      "outputs": []
    },
    {
      "cell_type": "code",
      "metadata": {
        "id": "ZziW0RXIf-Hj"
      },
      "source": [
        "#4th ORDER RUNGE KUTTA\n",
        "X = []\n",
        "Y = []\n",
        "# f = lambda x, y : 1/(x+y) #TUTORIAL QS12.\n",
        "# f = lambda x, y : (y**2 - x**2)/(y**2 + x**2) #TUTORIAL QS13.\n",
        "f = lambda x, y : x/y\n",
        "k1 = lambda x,y : h*f(x,y)\n",
        "k2 = lambda x,y : h*f(x + h/2,y + k1(x,y)/2)\n",
        "k3 = lambda x,y : h*f(x + h/2,y + k2(x,y)/2)\n",
        "k4 = lambda x,y : h*f(x+h,y+k3(x,y))\n",
        "\n",
        "x_i, x_max = 1, 1.1\n",
        "y_i = 2\n",
        "h = 0.05\n",
        "\n",
        "x = x_i\n",
        "y = y_i\n",
        "count = 0\n",
        "roundoff = 7\n",
        "while x <= x_max:\n",
        "  X.append(x)\n",
        "  Y.append(y)\n",
        "  fnc = f(x,y)\n",
        "  k_1 = round(k1(x,y),roundoff)\n",
        "  k_2 = round(k2(x,y),roundoff)\n",
        "  k_3 = round(k3(x,y),roundoff)\n",
        "  k_4 = round(k4(x,y),roundoff)\n",
        "  print(count)\n",
        "  print(\"k1,k2,k3,k4 = \",k_1,k_2,k_3,k_4)\n",
        "  # y = y + (k1(x,y)+2*k2(x,y)+2*k3(x,y)+k4(x,y))/6\n",
        "  y = round(y + (k_1+2*k_2+2*k_3+k_4)/6, roundoff)\n",
        "  x = round(x+h, 4) \n",
        "  # print(\"x = \",x,\"| y = \", y,\"| y' = f(x,y) = \", fnc)\n",
        "  print(\"y(\",x,\")= \", y)#,\"| y' = f(x,y) = \", fnc)\n",
        "  count+=1\n",
        "\n",
        "#Plotting Solution:\n",
        "fig1 = plt.figure(figsize=[6,6])\n",
        "a1 = fig1.add_axes([0,0,1,1])\n",
        "plt.grid(linestyle = 'dashed')\n",
        "a1.plot(X,Y,color = \"black\", linestyle = '-')\n",
        "a1.scatter(X,Y,color = \"red\")"
      ],
      "execution_count": null,
      "outputs": []
    },
    {
      "cell_type": "code",
      "metadata": {
        "id": "2H2xEBs8gSit"
      },
      "source": [
        "0\n",
        "k1,k2,k3,k4 =  0.2 0.244 0.2537768 0.3223913\n",
        "y( 0.2 )=  1.2529908\n",
        "1\n",
        "k1,k2,k3,k4 =  0.3219972 0.4178732 0.4454463 0.6089377\n",
        "y( 0.4 )=  1.6959198\n",
        "2\n",
        "k1,k2,k3,k4 =  0.6072288 0.8496274 0.9495021 1.4716514\n",
        "y( 0.6 )=  2.6421097"
      ],
      "execution_count": null,
      "outputs": []
    },
    {
      "cell_type": "code",
      "metadata": {
        "id": "LjW5LUZDjTEe"
      },
      "source": [
        "#2nd ORDER RUNGE KUTTA : General\n",
        "c2 = 1\n",
        "# f = lambda x, y : x*y\n",
        "k1 = lambda x,y : h*f(x,y)\n",
        "k2 = lambda x,y : h*f(x + c2*h,y + c2*k1(x,y))\n",
        "\n",
        "# x_i, x_max = 1, 1.4\n",
        "# y_i = 1\n",
        "# h = 0.2\n",
        "f = lambda x, y : x/y\n",
        "\n",
        "x_i, x_max = 1, 1.1\n",
        "y_i = 2\n",
        "h = 0.05\n",
        "\n",
        "x = x_i\n",
        "y = y_i\n",
        "count = 0\n",
        "while x <= x_max:\n",
        "  fnc = f(x,y)\n",
        "  y = y + (k1(x,y)+k2(x,y))/2\n",
        "  x = round(x+h, 2) \n",
        "  print(count)\n",
        "  # print(\"x = \",x,\"| y = \", y,\"| y' = f(x,y) = \", fnc)\n",
        "  print(\"y(\",x,\")= \", y)#,\"| y' = f(x,y) = \", fnc)\n",
        "  count+=1"
      ],
      "execution_count": null,
      "outputs": []
    },
    {
      "cell_type": "code",
      "metadata": {
        "id": "DBn0FyrsXSq0"
      },
      "source": [
        "#delta = 0 if not in delta form\n",
        "def difference_eq(order,coeffs_,g,delta):\n",
        "  coeff = [0]*len(coeffs_)\n",
        "  if delta == 1:\n",
        "    for i in range(len(coeffs_)):\n",
        "      for j in range(i,order+1):\n",
        "        coeff[j] += coeffs_[i]*((-1)**(j-i))*nCr(order-i,order-j)\n",
        "      # print(coeff)\n",
        "  else: coeff = coeffs_[:]\n",
        "  # print(coeff,np.roots(coeff))\n",
        "  signlist = [0,0,0]\n",
        "  for coef in coeff:  \n",
        "    if coef<0: signlist[0]+=1\n",
        "    elif coef > 0: signlist[2]+=1\n",
        "    else: signlist[1]+=1\n",
        "  \n",
        "  compSol = np.roots(coeff)\n",
        "  # print(\"Complementary solution u^(H) = \",['c'+str(i)+ str(compSol[i])+\"^\"+str(order) for i in range(len(compSol))])\n"
      ],
      "execution_count": null,
      "outputs": []
    }
  ]
}